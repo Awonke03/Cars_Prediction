{
 "cells": [
  {
   "cell_type": "code",
   "execution_count": 530,
   "metadata": {},
   "outputs": [],
   "source": [
    "import pandas as pd\n",
    "import dash\n",
    "import dash_core_components as dcc\n",
    "import dash_html_components as html\n",
    "import pandas as pd\n",
    "import plotly.express as px\n",
    "import dash_table\n",
    "from dash import dcc, html, Input, Output\n",
    "import dash_bootstrap_components as dbc\n",
    "from dash import dcc, html\n",
    "from dash.dependencies import Input, Output, State\n",
    "import plotly.graph_objects as go\n",
    "import matplotlib.pyplot as plt\n",
    "import seaborn as sns"
   ]
  },
  {
   "cell_type": "code",
   "execution_count": 531,
   "metadata": {},
   "outputs": [
    {
     "data": {
      "text/html": [
       "<div>\n",
       "<style scoped>\n",
       "    .dataframe tbody tr th:only-of-type {\n",
       "        vertical-align: middle;\n",
       "    }\n",
       "\n",
       "    .dataframe tbody tr th {\n",
       "        vertical-align: top;\n",
       "    }\n",
       "\n",
       "    .dataframe thead th {\n",
       "        text-align: right;\n",
       "    }\n",
       "</style>\n",
       "<table border=\"1\" class=\"dataframe\">\n",
       "  <thead>\n",
       "    <tr style=\"text-align: right;\">\n",
       "      <th></th>\n",
       "      <th>Car_Name</th>\n",
       "      <th>Year</th>\n",
       "      <th>Selling_Price</th>\n",
       "      <th>Present_Price</th>\n",
       "      <th>Driven_kms</th>\n",
       "      <th>Fuel_Type</th>\n",
       "      <th>Selling_type</th>\n",
       "      <th>Transmission</th>\n",
       "      <th>Owner</th>\n",
       "    </tr>\n",
       "  </thead>\n",
       "  <tbody>\n",
       "    <tr>\n",
       "      <th>145</th>\n",
       "      <td>TVS Apache RTR 160</td>\n",
       "      <td>2012</td>\n",
       "      <td>0.60</td>\n",
       "      <td>0.81</td>\n",
       "      <td>19000</td>\n",
       "      <td>Petrol</td>\n",
       "      <td>Individual</td>\n",
       "      <td>Manual</td>\n",
       "      <td>0</td>\n",
       "    </tr>\n",
       "    <tr>\n",
       "      <th>31</th>\n",
       "      <td>ritz</td>\n",
       "      <td>2011</td>\n",
       "      <td>2.35</td>\n",
       "      <td>4.89</td>\n",
       "      <td>54200</td>\n",
       "      <td>Petrol</td>\n",
       "      <td>Dealer</td>\n",
       "      <td>Manual</td>\n",
       "      <td>0</td>\n",
       "    </tr>\n",
       "    <tr>\n",
       "      <th>192</th>\n",
       "      <td>Hero Hunk</td>\n",
       "      <td>2007</td>\n",
       "      <td>0.20</td>\n",
       "      <td>0.75</td>\n",
       "      <td>49000</td>\n",
       "      <td>Petrol</td>\n",
       "      <td>Individual</td>\n",
       "      <td>Manual</td>\n",
       "      <td>1</td>\n",
       "    </tr>\n",
       "    <tr>\n",
       "      <th>109</th>\n",
       "      <td>Royal Enfield Classic 350</td>\n",
       "      <td>2017</td>\n",
       "      <td>1.20</td>\n",
       "      <td>1.47</td>\n",
       "      <td>11000</td>\n",
       "      <td>Petrol</td>\n",
       "      <td>Individual</td>\n",
       "      <td>Manual</td>\n",
       "      <td>0</td>\n",
       "    </tr>\n",
       "    <tr>\n",
       "      <th>142</th>\n",
       "      <td>Yamaha FZ  v 2.0</td>\n",
       "      <td>2015</td>\n",
       "      <td>0.60</td>\n",
       "      <td>0.84</td>\n",
       "      <td>29000</td>\n",
       "      <td>Petrol</td>\n",
       "      <td>Individual</td>\n",
       "      <td>Manual</td>\n",
       "      <td>0</td>\n",
       "    </tr>\n",
       "    <tr>\n",
       "      <th>70</th>\n",
       "      <td>etios liva</td>\n",
       "      <td>2014</td>\n",
       "      <td>3.95</td>\n",
       "      <td>6.76</td>\n",
       "      <td>71000</td>\n",
       "      <td>Diesel</td>\n",
       "      <td>Dealer</td>\n",
       "      <td>Manual</td>\n",
       "      <td>0</td>\n",
       "    </tr>\n",
       "    <tr>\n",
       "      <th>227</th>\n",
       "      <td>i10</td>\n",
       "      <td>2011</td>\n",
       "      <td>2.55</td>\n",
       "      <td>4.43</td>\n",
       "      <td>57000</td>\n",
       "      <td>Petrol</td>\n",
       "      <td>Dealer</td>\n",
       "      <td>Manual</td>\n",
       "      <td>0</td>\n",
       "    </tr>\n",
       "    <tr>\n",
       "      <th>254</th>\n",
       "      <td>city</td>\n",
       "      <td>2013</td>\n",
       "      <td>5.25</td>\n",
       "      <td>9.90</td>\n",
       "      <td>54242</td>\n",
       "      <td>Petrol</td>\n",
       "      <td>Dealer</td>\n",
       "      <td>Manual</td>\n",
       "      <td>0</td>\n",
       "    </tr>\n",
       "    <tr>\n",
       "      <th>198</th>\n",
       "      <td>Bajaj Discover 125</td>\n",
       "      <td>2011</td>\n",
       "      <td>0.15</td>\n",
       "      <td>0.57</td>\n",
       "      <td>35000</td>\n",
       "      <td>Petrol</td>\n",
       "      <td>Individual</td>\n",
       "      <td>Manual</td>\n",
       "      <td>1</td>\n",
       "    </tr>\n",
       "    <tr>\n",
       "      <th>41</th>\n",
       "      <td>alto k10</td>\n",
       "      <td>2014</td>\n",
       "      <td>2.55</td>\n",
       "      <td>3.98</td>\n",
       "      <td>46706</td>\n",
       "      <td>Petrol</td>\n",
       "      <td>Dealer</td>\n",
       "      <td>Manual</td>\n",
       "      <td>0</td>\n",
       "    </tr>\n",
       "    <tr>\n",
       "      <th>285</th>\n",
       "      <td>jazz</td>\n",
       "      <td>2016</td>\n",
       "      <td>7.40</td>\n",
       "      <td>8.50</td>\n",
       "      <td>15059</td>\n",
       "      <td>Petrol</td>\n",
       "      <td>Dealer</td>\n",
       "      <td>Automatic</td>\n",
       "      <td>0</td>\n",
       "    </tr>\n",
       "    <tr>\n",
       "      <th>264</th>\n",
       "      <td>amaze</td>\n",
       "      <td>2015</td>\n",
       "      <td>4.00</td>\n",
       "      <td>7.00</td>\n",
       "      <td>40026</td>\n",
       "      <td>Petrol</td>\n",
       "      <td>Dealer</td>\n",
       "      <td>Manual</td>\n",
       "      <td>0</td>\n",
       "    </tr>\n",
       "    <tr>\n",
       "      <th>108</th>\n",
       "      <td>Royal Enfield Thunder 350</td>\n",
       "      <td>2016</td>\n",
       "      <td>1.20</td>\n",
       "      <td>1.50</td>\n",
       "      <td>18000</td>\n",
       "      <td>Petrol</td>\n",
       "      <td>Individual</td>\n",
       "      <td>Manual</td>\n",
       "      <td>0</td>\n",
       "    </tr>\n",
       "    <tr>\n",
       "      <th>106</th>\n",
       "      <td>Hyosung GT250R</td>\n",
       "      <td>2014</td>\n",
       "      <td>1.35</td>\n",
       "      <td>3.45</td>\n",
       "      <td>16500</td>\n",
       "      <td>Petrol</td>\n",
       "      <td>Individual</td>\n",
       "      <td>Manual</td>\n",
       "      <td>1</td>\n",
       "    </tr>\n",
       "    <tr>\n",
       "      <th>188</th>\n",
       "      <td>Hero Glamour</td>\n",
       "      <td>2013</td>\n",
       "      <td>0.25</td>\n",
       "      <td>0.57</td>\n",
       "      <td>18000</td>\n",
       "      <td>Petrol</td>\n",
       "      <td>Individual</td>\n",
       "      <td>Manual</td>\n",
       "      <td>0</td>\n",
       "    </tr>\n",
       "    <tr>\n",
       "      <th>295</th>\n",
       "      <td>city</td>\n",
       "      <td>2015</td>\n",
       "      <td>8.55</td>\n",
       "      <td>13.09</td>\n",
       "      <td>60076</td>\n",
       "      <td>Diesel</td>\n",
       "      <td>Dealer</td>\n",
       "      <td>Manual</td>\n",
       "      <td>0</td>\n",
       "    </tr>\n",
       "    <tr>\n",
       "      <th>30</th>\n",
       "      <td>ritz</td>\n",
       "      <td>2012</td>\n",
       "      <td>3.10</td>\n",
       "      <td>5.98</td>\n",
       "      <td>51439</td>\n",
       "      <td>Diesel</td>\n",
       "      <td>Dealer</td>\n",
       "      <td>Manual</td>\n",
       "      <td>0</td>\n",
       "    </tr>\n",
       "    <tr>\n",
       "      <th>48</th>\n",
       "      <td>ertiga</td>\n",
       "      <td>2015</td>\n",
       "      <td>5.80</td>\n",
       "      <td>7.71</td>\n",
       "      <td>25870</td>\n",
       "      <td>Petrol</td>\n",
       "      <td>Dealer</td>\n",
       "      <td>Manual</td>\n",
       "      <td>0</td>\n",
       "    </tr>\n",
       "    <tr>\n",
       "      <th>19</th>\n",
       "      <td>sx4</td>\n",
       "      <td>2010</td>\n",
       "      <td>2.65</td>\n",
       "      <td>7.98</td>\n",
       "      <td>41442</td>\n",
       "      <td>Petrol</td>\n",
       "      <td>Dealer</td>\n",
       "      <td>Manual</td>\n",
       "      <td>0</td>\n",
       "    </tr>\n",
       "    <tr>\n",
       "      <th>138</th>\n",
       "      <td>Honda CB Hornet 160R</td>\n",
       "      <td>2016</td>\n",
       "      <td>0.60</td>\n",
       "      <td>0.87</td>\n",
       "      <td>15000</td>\n",
       "      <td>Petrol</td>\n",
       "      <td>Individual</td>\n",
       "      <td>Manual</td>\n",
       "      <td>0</td>\n",
       "    </tr>\n",
       "  </tbody>\n",
       "</table>\n",
       "</div>"
      ],
      "text/plain": [
       "                      Car_Name  Year  Selling_Price  Present_Price  \\\n",
       "145         TVS Apache RTR 160  2012           0.60           0.81   \n",
       "31                        ritz  2011           2.35           4.89   \n",
       "192                  Hero Hunk  2007           0.20           0.75   \n",
       "109  Royal Enfield Classic 350  2017           1.20           1.47   \n",
       "142           Yamaha FZ  v 2.0  2015           0.60           0.84   \n",
       "70                  etios liva  2014           3.95           6.76   \n",
       "227                        i10  2011           2.55           4.43   \n",
       "254                       city  2013           5.25           9.90   \n",
       "198         Bajaj Discover 125  2011           0.15           0.57   \n",
       "41                    alto k10  2014           2.55           3.98   \n",
       "285                       jazz  2016           7.40           8.50   \n",
       "264                      amaze  2015           4.00           7.00   \n",
       "108  Royal Enfield Thunder 350  2016           1.20           1.50   \n",
       "106             Hyosung GT250R  2014           1.35           3.45   \n",
       "188               Hero Glamour  2013           0.25           0.57   \n",
       "295                       city  2015           8.55          13.09   \n",
       "30                        ritz  2012           3.10           5.98   \n",
       "48                      ertiga  2015           5.80           7.71   \n",
       "19                         sx4  2010           2.65           7.98   \n",
       "138       Honda CB Hornet 160R  2016           0.60           0.87   \n",
       "\n",
       "     Driven_kms Fuel_Type Selling_type Transmission  Owner  \n",
       "145       19000    Petrol   Individual       Manual      0  \n",
       "31        54200    Petrol       Dealer       Manual      0  \n",
       "192       49000    Petrol   Individual       Manual      1  \n",
       "109       11000    Petrol   Individual       Manual      0  \n",
       "142       29000    Petrol   Individual       Manual      0  \n",
       "70        71000    Diesel       Dealer       Manual      0  \n",
       "227       57000    Petrol       Dealer       Manual      0  \n",
       "254       54242    Petrol       Dealer       Manual      0  \n",
       "198       35000    Petrol   Individual       Manual      1  \n",
       "41        46706    Petrol       Dealer       Manual      0  \n",
       "285       15059    Petrol       Dealer    Automatic      0  \n",
       "264       40026    Petrol       Dealer       Manual      0  \n",
       "108       18000    Petrol   Individual       Manual      0  \n",
       "106       16500    Petrol   Individual       Manual      1  \n",
       "188       18000    Petrol   Individual       Manual      0  \n",
       "295       60076    Diesel       Dealer       Manual      0  \n",
       "30        51439    Diesel       Dealer       Manual      0  \n",
       "48        25870    Petrol       Dealer       Manual      0  \n",
       "19        41442    Petrol       Dealer       Manual      0  \n",
       "138       15000    Petrol   Individual       Manual      0  "
      ]
     },
     "execution_count": 531,
     "metadata": {},
     "output_type": "execute_result"
    }
   ],
   "source": [
    "cars = pd.read_csv(\"C:\\\\Users\\\\Admin\\\\Desktop\\\\Programming\\\\python\\\\Car Prediction\\\\car data.csv\")\n",
    "cars.sample(20)"
   ]
  },
  {
   "cell_type": "code",
   "execution_count": 532,
   "metadata": {},
   "outputs": [
    {
     "data": {
      "text/plain": [
       "(301, 9)"
      ]
     },
     "execution_count": 532,
     "metadata": {},
     "output_type": "execute_result"
    }
   ],
   "source": [
    "cars.shape"
   ]
  },
  {
   "cell_type": "code",
   "execution_count": 533,
   "metadata": {},
   "outputs": [
    {
     "data": {
      "text/plain": [
       "array(['Manual', 'Automatic'], dtype=object)"
      ]
     },
     "execution_count": 533,
     "metadata": {},
     "output_type": "execute_result"
    }
   ],
   "source": [
    "cars.Transmission.unique()"
   ]
  },
  {
   "cell_type": "code",
   "execution_count": 534,
   "metadata": {},
   "outputs": [
    {
     "data": {
      "text/plain": [
       "array(['ritz', 'sx4', 'ciaz', 'wagon r', 'swift', 'vitara brezza',\n",
       "       's cross', 'alto 800', 'ertiga', 'dzire', 'alto k10', 'ignis',\n",
       "       '800', 'baleno', 'omni', 'fortuner', 'innova', 'corolla altis',\n",
       "       'etios cross', 'etios g', 'etios liva', 'corolla', 'etios gd',\n",
       "       'camry', 'land cruiser', 'Royal Enfield Thunder 500',\n",
       "       'UM Renegade Mojave', 'KTM RC200', 'Bajaj Dominar 400',\n",
       "       'Royal Enfield Classic 350', 'KTM RC390', 'Hyosung GT250R',\n",
       "       'Royal Enfield Thunder 350', 'KTM 390 Duke ',\n",
       "       'Mahindra Mojo XT300', 'Bajaj Pulsar RS200',\n",
       "       'Royal Enfield Bullet 350', 'Royal Enfield Classic 500',\n",
       "       'Bajaj Avenger 220', 'Bajaj Avenger 150', 'Honda CB Hornet 160R',\n",
       "       'Yamaha FZ S V 2.0', 'Yamaha FZ 16', 'TVS Apache RTR 160',\n",
       "       'Bajaj Pulsar 150', 'Honda CBR 150', 'Hero Extreme',\n",
       "       'Bajaj Avenger 220 dtsi', 'Bajaj Avenger 150 street',\n",
       "       'Yamaha FZ  v 2.0', 'Bajaj Pulsar  NS 200', 'Bajaj Pulsar 220 F',\n",
       "       'TVS Apache RTR 180', 'Hero Passion X pro', 'Bajaj Pulsar NS 200',\n",
       "       'Yamaha Fazer ', 'Honda Activa 4G', 'TVS Sport ',\n",
       "       'Honda Dream Yuga ', 'Bajaj Avenger Street 220',\n",
       "       'Hero Splender iSmart', 'Activa 3g', 'Hero Passion Pro',\n",
       "       'Honda CB Trigger', 'Yamaha FZ S ', 'Bajaj Pulsar 135 LS',\n",
       "       'Activa 4g', 'Honda CB Unicorn', 'Hero Honda CBZ extreme',\n",
       "       'Honda Karizma', 'Honda Activa 125', 'TVS Jupyter',\n",
       "       'Hero Honda Passion Pro', 'Hero Splender Plus', 'Honda CB Shine',\n",
       "       'Bajaj Discover 100', 'Suzuki Access 125', 'TVS Wego',\n",
       "       'Honda CB twister', 'Hero Glamour', 'Hero Super Splendor',\n",
       "       'Bajaj Discover 125', 'Hero Hunk', 'Hero  Ignitor Disc',\n",
       "       'Hero  CBZ Xtreme', 'Bajaj  ct 100', 'i20', 'grand i10', 'i10',\n",
       "       'eon', 'xcent', 'elantra', 'creta', 'verna', 'city', 'brio',\n",
       "       'amaze', 'jazz'], dtype=object)"
      ]
     },
     "execution_count": 534,
     "metadata": {},
     "output_type": "execute_result"
    }
   ],
   "source": [
    "cars.Car_Name.unique()"
   ]
  },
  {
   "cell_type": "code",
   "execution_count": 535,
   "metadata": {},
   "outputs": [
    {
     "name": "stdout",
     "output_type": "stream",
     "text": [
      "<class 'pandas.core.frame.DataFrame'>\n",
      "RangeIndex: 301 entries, 0 to 300\n",
      "Data columns (total 9 columns):\n",
      " #   Column         Non-Null Count  Dtype  \n",
      "---  ------         --------------  -----  \n",
      " 0   Car_Name       301 non-null    object \n",
      " 1   Year           301 non-null    int64  \n",
      " 2   Selling_Price  301 non-null    float64\n",
      " 3   Present_Price  301 non-null    float64\n",
      " 4   Driven_kms     301 non-null    int64  \n",
      " 5   Fuel_Type      301 non-null    object \n",
      " 6   Selling_type   301 non-null    object \n",
      " 7   Transmission   301 non-null    object \n",
      " 8   Owner          301 non-null    int64  \n",
      "dtypes: float64(2), int64(3), object(4)\n",
      "memory usage: 21.3+ KB\n"
     ]
    }
   ],
   "source": [
    "cars.info()"
   ]
  },
  {
   "cell_type": "code",
   "execution_count": 536,
   "metadata": {},
   "outputs": [],
   "source": [
    "prediction_screen_layout = html.Div([\n",
    "    html.H1('Prediction Screen Page', style={'text-align': 'center', 'color': 'orange'}),\n",
    "    # Add content for this page\n",
    "    dbc.Row([\n",
    "        dbc.Col(\n",
    "            dbc.ButtonGroup(\n",
    "                [\n",
    "                    dbc.Button('Interactive Search in Visuals', href='/interactive-search-visuals', active=True, className='mb-2 rounded-pill', style={'background-color': 'rgb(54, 54, 54)', 'color': 'white', 'transition-duration': '0.4s'}),\n",
    "                    dbc.Button('Visualizations', href='/visualizations', active=True, className='mb-2 rounded-pill', style={'background-color': 'rgb(54, 54, 54)', 'color': 'white', 'transition-duration': '0.4s'}),\n",
    "                    dbc.Button('Prediction Screen', href='/prediction-screen', active=True, className='mb-2 rounded-pill', style={'background-color': 'rgb(54, 54, 54)', 'color': 'white', 'transition-duration': '0.4s'}),\n",
    "                    dbc.Button('Search in Dataset', href='/search-dataset', active=True, className='mb-2 rounded-pill', style={'background-color': 'rgb(54, 54, 54)', 'color': 'white', 'transition-duration': '0.4s'}),\n",
    "                    dbc.Button('About', href='/about', active=True, className='mb-2 rounded-pill', style={'background-color': 'rgb(54, 54, 54)', 'color': 'white', 'transition-duration': '0.4s'}),\n",
    "                ],\n",
    "            ),\n",
    "            width=12, style={'justify-content': 'center'}\n",
    "        ),\n",
    "    ]),\n",
    "], style={'background-color': 'rgb(54, 54, 54)', 'color': 'white'})"
   ]
  },
  {
   "cell_type": "code",
   "execution_count": 537,
   "metadata": {},
   "outputs": [
    {
     "data": {
      "application/vnd.plotly.v1+json": {
       "config": {
        "plotlyServerURL": "https://plot.ly"
       },
       "data": [
        {
         "hovertemplate": "Driven_kms=%{x}<br>Selling_Price=%{marker.size}<extra></extra>",
         "legendgroup": "",
         "marker": {
          "color": "#636efa",
          "size": [
           3.35,
           4.75,
           7.25,
           2.85,
           4.6,
           9.25,
           6.75,
           6.5,
           8.75,
           7.45,
           2.85,
           6.85,
           7.5,
           6.1,
           2.25,
           7.75,
           7.25,
           7.75,
           3.25,
           2.65,
           2.85,
           4.9,
           4.4,
           2.5,
           2.9,
           3,
           4.15,
           6,
           1.95,
           7.45,
           3.1,
           2.35,
           4.95,
           6,
           5.5,
           2.95,
           4.65,
           0.35,
           3,
           2.25,
           5.85,
           2.55,
           1.95,
           5.5,
           1.25,
           7.5,
           2.65,
           1.05,
           5.8,
           7.75,
           14.9,
           23,
           18,
           16,
           2.75,
           3.6,
           4.5,
           4.75,
           4.1,
           19.99,
           6.95,
           4.5,
           18.75,
           23.5,
           33,
           4.75,
           19.75,
           9.25,
           4.35,
           14.25,
           3.95,
           4.5,
           7.45,
           2.65,
           4.9,
           3.95,
           5.5,
           1.5,
           5.25,
           14.5,
           14.73,
           4.75,
           23,
           12.5,
           3.49,
           2.5,
           35,
           5.9,
           3.45,
           4.75,
           3.8,
           11.25,
           3.51,
           23,
           4,
           5.85,
           20.75,
           17,
           7.05,
           9.65,
           1.75,
           1.7,
           1.65,
           1.45,
           1.35,
           1.35,
           1.35,
           1.25,
           1.2,
           1.2,
           1.2,
           1.15,
           1.15,
           1.15,
           1.15,
           1.11,
           1.1,
           1.1,
           1.1,
           1.05,
           1.05,
           1.05,
           1.05,
           1,
           0.95,
           0.9,
           0.9,
           0.75,
           0.8,
           0.78,
           0.75,
           0.75,
           0.75,
           0.72,
           0.65,
           0.65,
           0.65,
           0.65,
           0.6,
           0.6,
           0.6,
           0.6,
           0.6,
           0.6,
           0.6,
           0.6,
           0.55,
           0.55,
           0.52,
           0.51,
           0.5,
           0.5,
           0.5,
           0.5,
           0.5,
           0.48,
           0.48,
           0.48,
           0.48,
           0.45,
           0.45,
           0.45,
           0.45,
           0.45,
           0.45,
           0.45,
           0.45,
           0.42,
           0.42,
           0.4,
           0.4,
           0.4,
           0.4,
           0.4,
           0.38,
           0.38,
           0.35,
           0.35,
           0.35,
           0.31,
           0.3,
           0.3,
           0.3,
           0.27,
           0.25,
           0.25,
           0.25,
           0.25,
           0.25,
           0.2,
           0.2,
           0.2,
           0.2,
           0.2,
           0.2,
           0.18,
           0.17,
           0.16,
           0.15,
           0.12,
           0.1,
           3.25,
           4.4,
           2.95,
           2.75,
           5.25,
           5.75,
           5.15,
           7.9,
           4.85,
           3.1,
           11.75,
           11.25,
           2.9,
           5.25,
           4.5,
           2.9,
           3.15,
           6.45,
           4.5,
           3.5,
           4.5,
           6,
           8.25,
           5.11,
           2.7,
           5.25,
           2.55,
           4.95,
           3.1,
           6.15,
           9.25,
           11.45,
           3.9,
           5.5,
           9.1,
           3.1,
           11.25,
           4.8,
           2,
           5.35,
           4.75,
           4.4,
           6.25,
           5.95,
           5.2,
           3.75,
           5.95,
           4,
           5.25,
           12.9,
           5,
           5.4,
           7.2,
           5.25,
           3,
           10.25,
           8.5,
           8.4,
           3.9,
           9.15,
           5.5,
           4,
           6.6,
           4,
           6.5,
           3.65,
           8.35,
           4.8,
           6.7,
           4.1,
           3,
           7.5,
           2.25,
           5.3,
           10.9,
           8.65,
           9.7,
           6,
           6.25,
           5.25,
           2.1,
           8.25,
           8.99,
           3.5,
           7.4,
           5.65,
           5.75,
           8.4,
           10.11,
           4.5,
           5.4,
           6.4,
           3.25,
           3.75,
           8.55,
           9.5,
           4,
           3.35,
           11.5,
           5.3
          ],
          "sizemode": "area",
          "sizeref": 0.0875,
          "symbol": "circle"
         },
         "mode": "markers",
         "name": "",
         "orientation": "v",
         "showlegend": false,
         "type": "scatter",
         "x": [
          27000,
          43000,
          6900,
          5200,
          42450,
          2071,
          18796,
          33429,
          20273,
          42367,
          2135,
          51000,
          15000,
          26000,
          77427,
          43000,
          41678,
          43000,
          35500,
          41442,
          25000,
          2400,
          50000,
          45280,
          56879,
          20000,
          55138,
          16200,
          44542,
          45000,
          51439,
          54200,
          39000,
          45000,
          45000,
          49998,
          48767,
          127000,
          10079,
          62000,
          24524,
          46706,
          58000,
          45780,
          50000,
          15000,
          64532,
          65000,
          25870,
          37000,
          104707,
          40000,
          15000,
          135000,
          90000,
          70000,
          40534,
          50000,
          39485,
          41000,
          40001,
          40588,
          78000,
          47000,
          6000,
          45000,
          11000,
          59000,
          88000,
          12000,
          71000,
          45000,
          56001,
          43000,
          83000,
          36000,
          72000,
          135154,
          80000,
          89000,
          23000,
          40000,
          15000,
          38000,
          197176,
          142000,
          78000,
          56000,
          47000,
          40000,
          62000,
          58242,
          75000,
          40000,
          89000,
          72000,
          29000,
          8700,
          45000,
          50024,
          3000,
          1400,
          4000,
          1200,
          4100,
          21700,
          16500,
          15000,
          18000,
          11000,
          6000,
          8700,
          7000,
          35000,
          17000,
          17500,
          33000,
          14000,
          26000,
          5400,
          5700,
          6900,
          6000,
          46500,
          11500,
          40000,
          1300,
          7000,
          3000,
          5000,
          11000,
          18000,
          3500,
          500,
          11800,
          5000,
          23500,
          16000,
          15000,
          16600,
          32000,
          20000,
          29000,
          25000,
          25000,
          19000,
          15000,
          58000,
          45000,
          24000,
          6000,
          31000,
          13000,
          45000,
          8000,
          4300,
          15000,
          23000,
          8600,
          4000,
          24000,
          23000,
          14500,
          27000,
          14000,
          500,
          1000,
          42000,
          12000,
          14000,
          5500,
          6700,
          13700,
          1300,
          38600,
          75000,
          30000,
          24000,
          19000,
          213000,
          60000,
          50000,
          30000,
          21000,
          26000,
          1900,
          22000,
          32000,
          18000,
          55000,
          60000,
          25000,
          49000,
          24000,
          50000,
          35000,
          500000,
          33000,
          35000,
          53000,
          92233,
          58000,
          28200,
          53460,
          28282,
          3493,
          12479,
          34797,
          3435,
          21125,
          35775,
          43535,
          22671,
          31604,
          20114,
          36100,
          12500,
          15000,
          45078,
          36000,
          38488,
          32000,
          77632,
          61381,
          36198,
          22517,
          24678,
          57000,
          60000,
          52132,
          45000,
          15001,
          12900,
          53000,
          4492,
          15141,
          11849,
          68000,
          60241,
          23709,
          32322,
          35866,
          34000,
          7000,
          49000,
          71000,
          35000,
          36000,
          30000,
          17000,
          35934,
          56701,
          31427,
          48000,
          54242,
          53675,
          49562,
          40324,
          25000,
          36054,
          29223,
          5600,
          40023,
          16002,
          40026,
          21200,
          35000,
          19434,
          19000,
          18828,
          69341,
          69562,
          27600,
          61203,
          16500,
          30753,
          24800,
          21780,
          4000,
          40126,
          14465,
          50456,
          63000,
          9010,
          9800,
          15059,
          28569,
          44000,
          34000,
          10980,
          19000,
          31427,
          12000,
          38000,
          33019,
          60076,
          33988,
          60000,
          87934,
          9000,
          5464
         ],
         "xaxis": "x",
         "y": [
          3.35,
          4.75,
          7.25,
          2.85,
          4.6,
          9.25,
          6.75,
          6.5,
          8.75,
          7.45,
          2.85,
          6.85,
          7.5,
          6.1,
          2.25,
          7.75,
          7.25,
          7.75,
          3.25,
          2.65,
          2.85,
          4.9,
          4.4,
          2.5,
          2.9,
          3,
          4.15,
          6,
          1.95,
          7.45,
          3.1,
          2.35,
          4.95,
          6,
          5.5,
          2.95,
          4.65,
          0.35,
          3,
          2.25,
          5.85,
          2.55,
          1.95,
          5.5,
          1.25,
          7.5,
          2.65,
          1.05,
          5.8,
          7.75,
          14.9,
          23,
          18,
          16,
          2.75,
          3.6,
          4.5,
          4.75,
          4.1,
          19.99,
          6.95,
          4.5,
          18.75,
          23.5,
          33,
          4.75,
          19.75,
          9.25,
          4.35,
          14.25,
          3.95,
          4.5,
          7.45,
          2.65,
          4.9,
          3.95,
          5.5,
          1.5,
          5.25,
          14.5,
          14.73,
          4.75,
          23,
          12.5,
          3.49,
          2.5,
          35,
          5.9,
          3.45,
          4.75,
          3.8,
          11.25,
          3.51,
          23,
          4,
          5.85,
          20.75,
          17,
          7.05,
          9.65,
          1.75,
          1.7,
          1.65,
          1.45,
          1.35,
          1.35,
          1.35,
          1.25,
          1.2,
          1.2,
          1.2,
          1.15,
          1.15,
          1.15,
          1.15,
          1.11,
          1.1,
          1.1,
          1.1,
          1.05,
          1.05,
          1.05,
          1.05,
          1,
          0.95,
          0.9,
          0.9,
          0.75,
          0.8,
          0.78,
          0.75,
          0.75,
          0.75,
          0.72,
          0.65,
          0.65,
          0.65,
          0.65,
          0.6,
          0.6,
          0.6,
          0.6,
          0.6,
          0.6,
          0.6,
          0.6,
          0.55,
          0.55,
          0.52,
          0.51,
          0.5,
          0.5,
          0.5,
          0.5,
          0.5,
          0.48,
          0.48,
          0.48,
          0.48,
          0.45,
          0.45,
          0.45,
          0.45,
          0.45,
          0.45,
          0.45,
          0.45,
          0.42,
          0.42,
          0.4,
          0.4,
          0.4,
          0.4,
          0.4,
          0.38,
          0.38,
          0.35,
          0.35,
          0.35,
          0.31,
          0.3,
          0.3,
          0.3,
          0.27,
          0.25,
          0.25,
          0.25,
          0.25,
          0.25,
          0.2,
          0.2,
          0.2,
          0.2,
          0.2,
          0.2,
          0.18,
          0.17,
          0.16,
          0.15,
          0.12,
          0.1,
          3.25,
          4.4,
          2.95,
          2.75,
          5.25,
          5.75,
          5.15,
          7.9,
          4.85,
          3.1,
          11.75,
          11.25,
          2.9,
          5.25,
          4.5,
          2.9,
          3.15,
          6.45,
          4.5,
          3.5,
          4.5,
          6,
          8.25,
          5.11,
          2.7,
          5.25,
          2.55,
          4.95,
          3.1,
          6.15,
          9.25,
          11.45,
          3.9,
          5.5,
          9.1,
          3.1,
          11.25,
          4.8,
          2,
          5.35,
          4.75,
          4.4,
          6.25,
          5.95,
          5.2,
          3.75,
          5.95,
          4,
          5.25,
          12.9,
          5,
          5.4,
          7.2,
          5.25,
          3,
          10.25,
          8.5,
          8.4,
          3.9,
          9.15,
          5.5,
          4,
          6.6,
          4,
          6.5,
          3.65,
          8.35,
          4.8,
          6.7,
          4.1,
          3,
          7.5,
          2.25,
          5.3,
          10.9,
          8.65,
          9.7,
          6,
          6.25,
          5.25,
          2.1,
          8.25,
          8.99,
          3.5,
          7.4,
          5.65,
          5.75,
          8.4,
          10.11,
          4.5,
          5.4,
          6.4,
          3.25,
          3.75,
          8.55,
          9.5,
          4,
          3.35,
          11.5,
          5.3
         ],
         "yaxis": "y"
        }
       ],
       "layout": {
        "legend": {
         "itemsizing": "constant",
         "tracegroupgap": 0
        },
        "template": {
         "data": {
          "bar": [
           {
            "error_x": {
             "color": "#2a3f5f"
            },
            "error_y": {
             "color": "#2a3f5f"
            },
            "marker": {
             "line": {
              "color": "#E5ECF6",
              "width": 0.5
             },
             "pattern": {
              "fillmode": "overlay",
              "size": 10,
              "solidity": 0.2
             }
            },
            "type": "bar"
           }
          ],
          "barpolar": [
           {
            "marker": {
             "line": {
              "color": "#E5ECF6",
              "width": 0.5
             },
             "pattern": {
              "fillmode": "overlay",
              "size": 10,
              "solidity": 0.2
             }
            },
            "type": "barpolar"
           }
          ],
          "carpet": [
           {
            "aaxis": {
             "endlinecolor": "#2a3f5f",
             "gridcolor": "white",
             "linecolor": "white",
             "minorgridcolor": "white",
             "startlinecolor": "#2a3f5f"
            },
            "baxis": {
             "endlinecolor": "#2a3f5f",
             "gridcolor": "white",
             "linecolor": "white",
             "minorgridcolor": "white",
             "startlinecolor": "#2a3f5f"
            },
            "type": "carpet"
           }
          ],
          "choropleth": [
           {
            "colorbar": {
             "outlinewidth": 0,
             "ticks": ""
            },
            "type": "choropleth"
           }
          ],
          "contour": [
           {
            "colorbar": {
             "outlinewidth": 0,
             "ticks": ""
            },
            "colorscale": [
             [
              0,
              "#0d0887"
             ],
             [
              0.1111111111111111,
              "#46039f"
             ],
             [
              0.2222222222222222,
              "#7201a8"
             ],
             [
              0.3333333333333333,
              "#9c179e"
             ],
             [
              0.4444444444444444,
              "#bd3786"
             ],
             [
              0.5555555555555556,
              "#d8576b"
             ],
             [
              0.6666666666666666,
              "#ed7953"
             ],
             [
              0.7777777777777778,
              "#fb9f3a"
             ],
             [
              0.8888888888888888,
              "#fdca26"
             ],
             [
              1,
              "#f0f921"
             ]
            ],
            "type": "contour"
           }
          ],
          "contourcarpet": [
           {
            "colorbar": {
             "outlinewidth": 0,
             "ticks": ""
            },
            "type": "contourcarpet"
           }
          ],
          "heatmap": [
           {
            "colorbar": {
             "outlinewidth": 0,
             "ticks": ""
            },
            "colorscale": [
             [
              0,
              "#0d0887"
             ],
             [
              0.1111111111111111,
              "#46039f"
             ],
             [
              0.2222222222222222,
              "#7201a8"
             ],
             [
              0.3333333333333333,
              "#9c179e"
             ],
             [
              0.4444444444444444,
              "#bd3786"
             ],
             [
              0.5555555555555556,
              "#d8576b"
             ],
             [
              0.6666666666666666,
              "#ed7953"
             ],
             [
              0.7777777777777778,
              "#fb9f3a"
             ],
             [
              0.8888888888888888,
              "#fdca26"
             ],
             [
              1,
              "#f0f921"
             ]
            ],
            "type": "heatmap"
           }
          ],
          "heatmapgl": [
           {
            "colorbar": {
             "outlinewidth": 0,
             "ticks": ""
            },
            "colorscale": [
             [
              0,
              "#0d0887"
             ],
             [
              0.1111111111111111,
              "#46039f"
             ],
             [
              0.2222222222222222,
              "#7201a8"
             ],
             [
              0.3333333333333333,
              "#9c179e"
             ],
             [
              0.4444444444444444,
              "#bd3786"
             ],
             [
              0.5555555555555556,
              "#d8576b"
             ],
             [
              0.6666666666666666,
              "#ed7953"
             ],
             [
              0.7777777777777778,
              "#fb9f3a"
             ],
             [
              0.8888888888888888,
              "#fdca26"
             ],
             [
              1,
              "#f0f921"
             ]
            ],
            "type": "heatmapgl"
           }
          ],
          "histogram": [
           {
            "marker": {
             "pattern": {
              "fillmode": "overlay",
              "size": 10,
              "solidity": 0.2
             }
            },
            "type": "histogram"
           }
          ],
          "histogram2d": [
           {
            "colorbar": {
             "outlinewidth": 0,
             "ticks": ""
            },
            "colorscale": [
             [
              0,
              "#0d0887"
             ],
             [
              0.1111111111111111,
              "#46039f"
             ],
             [
              0.2222222222222222,
              "#7201a8"
             ],
             [
              0.3333333333333333,
              "#9c179e"
             ],
             [
              0.4444444444444444,
              "#bd3786"
             ],
             [
              0.5555555555555556,
              "#d8576b"
             ],
             [
              0.6666666666666666,
              "#ed7953"
             ],
             [
              0.7777777777777778,
              "#fb9f3a"
             ],
             [
              0.8888888888888888,
              "#fdca26"
             ],
             [
              1,
              "#f0f921"
             ]
            ],
            "type": "histogram2d"
           }
          ],
          "histogram2dcontour": [
           {
            "colorbar": {
             "outlinewidth": 0,
             "ticks": ""
            },
            "colorscale": [
             [
              0,
              "#0d0887"
             ],
             [
              0.1111111111111111,
              "#46039f"
             ],
             [
              0.2222222222222222,
              "#7201a8"
             ],
             [
              0.3333333333333333,
              "#9c179e"
             ],
             [
              0.4444444444444444,
              "#bd3786"
             ],
             [
              0.5555555555555556,
              "#d8576b"
             ],
             [
              0.6666666666666666,
              "#ed7953"
             ],
             [
              0.7777777777777778,
              "#fb9f3a"
             ],
             [
              0.8888888888888888,
              "#fdca26"
             ],
             [
              1,
              "#f0f921"
             ]
            ],
            "type": "histogram2dcontour"
           }
          ],
          "mesh3d": [
           {
            "colorbar": {
             "outlinewidth": 0,
             "ticks": ""
            },
            "type": "mesh3d"
           }
          ],
          "parcoords": [
           {
            "line": {
             "colorbar": {
              "outlinewidth": 0,
              "ticks": ""
             }
            },
            "type": "parcoords"
           }
          ],
          "pie": [
           {
            "automargin": true,
            "type": "pie"
           }
          ],
          "scatter": [
           {
            "fillpattern": {
             "fillmode": "overlay",
             "size": 10,
             "solidity": 0.2
            },
            "type": "scatter"
           }
          ],
          "scatter3d": [
           {
            "line": {
             "colorbar": {
              "outlinewidth": 0,
              "ticks": ""
             }
            },
            "marker": {
             "colorbar": {
              "outlinewidth": 0,
              "ticks": ""
             }
            },
            "type": "scatter3d"
           }
          ],
          "scattercarpet": [
           {
            "marker": {
             "colorbar": {
              "outlinewidth": 0,
              "ticks": ""
             }
            },
            "type": "scattercarpet"
           }
          ],
          "scattergeo": [
           {
            "marker": {
             "colorbar": {
              "outlinewidth": 0,
              "ticks": ""
             }
            },
            "type": "scattergeo"
           }
          ],
          "scattergl": [
           {
            "marker": {
             "colorbar": {
              "outlinewidth": 0,
              "ticks": ""
             }
            },
            "type": "scattergl"
           }
          ],
          "scattermapbox": [
           {
            "marker": {
             "colorbar": {
              "outlinewidth": 0,
              "ticks": ""
             }
            },
            "type": "scattermapbox"
           }
          ],
          "scatterpolar": [
           {
            "marker": {
             "colorbar": {
              "outlinewidth": 0,
              "ticks": ""
             }
            },
            "type": "scatterpolar"
           }
          ],
          "scatterpolargl": [
           {
            "marker": {
             "colorbar": {
              "outlinewidth": 0,
              "ticks": ""
             }
            },
            "type": "scatterpolargl"
           }
          ],
          "scatterternary": [
           {
            "marker": {
             "colorbar": {
              "outlinewidth": 0,
              "ticks": ""
             }
            },
            "type": "scatterternary"
           }
          ],
          "surface": [
           {
            "colorbar": {
             "outlinewidth": 0,
             "ticks": ""
            },
            "colorscale": [
             [
              0,
              "#0d0887"
             ],
             [
              0.1111111111111111,
              "#46039f"
             ],
             [
              0.2222222222222222,
              "#7201a8"
             ],
             [
              0.3333333333333333,
              "#9c179e"
             ],
             [
              0.4444444444444444,
              "#bd3786"
             ],
             [
              0.5555555555555556,
              "#d8576b"
             ],
             [
              0.6666666666666666,
              "#ed7953"
             ],
             [
              0.7777777777777778,
              "#fb9f3a"
             ],
             [
              0.8888888888888888,
              "#fdca26"
             ],
             [
              1,
              "#f0f921"
             ]
            ],
            "type": "surface"
           }
          ],
          "table": [
           {
            "cells": {
             "fill": {
              "color": "#EBF0F8"
             },
             "line": {
              "color": "white"
             }
            },
            "header": {
             "fill": {
              "color": "#C8D4E3"
             },
             "line": {
              "color": "white"
             }
            },
            "type": "table"
           }
          ]
         },
         "layout": {
          "annotationdefaults": {
           "arrowcolor": "#2a3f5f",
           "arrowhead": 0,
           "arrowwidth": 1
          },
          "autotypenumbers": "strict",
          "coloraxis": {
           "colorbar": {
            "outlinewidth": 0,
            "ticks": ""
           }
          },
          "colorscale": {
           "diverging": [
            [
             0,
             "#8e0152"
            ],
            [
             0.1,
             "#c51b7d"
            ],
            [
             0.2,
             "#de77ae"
            ],
            [
             0.3,
             "#f1b6da"
            ],
            [
             0.4,
             "#fde0ef"
            ],
            [
             0.5,
             "#f7f7f7"
            ],
            [
             0.6,
             "#e6f5d0"
            ],
            [
             0.7,
             "#b8e186"
            ],
            [
             0.8,
             "#7fbc41"
            ],
            [
             0.9,
             "#4d9221"
            ],
            [
             1,
             "#276419"
            ]
           ],
           "sequential": [
            [
             0,
             "#0d0887"
            ],
            [
             0.1111111111111111,
             "#46039f"
            ],
            [
             0.2222222222222222,
             "#7201a8"
            ],
            [
             0.3333333333333333,
             "#9c179e"
            ],
            [
             0.4444444444444444,
             "#bd3786"
            ],
            [
             0.5555555555555556,
             "#d8576b"
            ],
            [
             0.6666666666666666,
             "#ed7953"
            ],
            [
             0.7777777777777778,
             "#fb9f3a"
            ],
            [
             0.8888888888888888,
             "#fdca26"
            ],
            [
             1,
             "#f0f921"
            ]
           ],
           "sequentialminus": [
            [
             0,
             "#0d0887"
            ],
            [
             0.1111111111111111,
             "#46039f"
            ],
            [
             0.2222222222222222,
             "#7201a8"
            ],
            [
             0.3333333333333333,
             "#9c179e"
            ],
            [
             0.4444444444444444,
             "#bd3786"
            ],
            [
             0.5555555555555556,
             "#d8576b"
            ],
            [
             0.6666666666666666,
             "#ed7953"
            ],
            [
             0.7777777777777778,
             "#fb9f3a"
            ],
            [
             0.8888888888888888,
             "#fdca26"
            ],
            [
             1,
             "#f0f921"
            ]
           ]
          },
          "colorway": [
           "#636efa",
           "#EF553B",
           "#00cc96",
           "#ab63fa",
           "#FFA15A",
           "#19d3f3",
           "#FF6692",
           "#B6E880",
           "#FF97FF",
           "#FECB52"
          ],
          "font": {
           "color": "#2a3f5f"
          },
          "geo": {
           "bgcolor": "white",
           "lakecolor": "white",
           "landcolor": "#E5ECF6",
           "showlakes": true,
           "showland": true,
           "subunitcolor": "white"
          },
          "hoverlabel": {
           "align": "left"
          },
          "hovermode": "closest",
          "mapbox": {
           "style": "light"
          },
          "paper_bgcolor": "white",
          "plot_bgcolor": "#E5ECF6",
          "polar": {
           "angularaxis": {
            "gridcolor": "white",
            "linecolor": "white",
            "ticks": ""
           },
           "bgcolor": "#E5ECF6",
           "radialaxis": {
            "gridcolor": "white",
            "linecolor": "white",
            "ticks": ""
           }
          },
          "scene": {
           "xaxis": {
            "backgroundcolor": "#E5ECF6",
            "gridcolor": "white",
            "gridwidth": 2,
            "linecolor": "white",
            "showbackground": true,
            "ticks": "",
            "zerolinecolor": "white"
           },
           "yaxis": {
            "backgroundcolor": "#E5ECF6",
            "gridcolor": "white",
            "gridwidth": 2,
            "linecolor": "white",
            "showbackground": true,
            "ticks": "",
            "zerolinecolor": "white"
           },
           "zaxis": {
            "backgroundcolor": "#E5ECF6",
            "gridcolor": "white",
            "gridwidth": 2,
            "linecolor": "white",
            "showbackground": true,
            "ticks": "",
            "zerolinecolor": "white"
           }
          },
          "shapedefaults": {
           "line": {
            "color": "#2a3f5f"
           }
          },
          "ternary": {
           "aaxis": {
            "gridcolor": "white",
            "linecolor": "white",
            "ticks": ""
           },
           "baxis": {
            "gridcolor": "white",
            "linecolor": "white",
            "ticks": ""
           },
           "bgcolor": "#E5ECF6",
           "caxis": {
            "gridcolor": "white",
            "linecolor": "white",
            "ticks": ""
           }
          },
          "title": {
           "x": 0.05
          },
          "xaxis": {
           "automargin": true,
           "gridcolor": "white",
           "linecolor": "white",
           "ticks": "",
           "title": {
            "standoff": 15
           },
           "zerolinecolor": "white",
           "zerolinewidth": 2
          },
          "yaxis": {
           "automargin": true,
           "gridcolor": "white",
           "linecolor": "white",
           "ticks": "",
           "title": {
            "standoff": 15
           },
           "zerolinecolor": "white",
           "zerolinewidth": 2
          }
         }
        },
        "title": {
         "text": "Bubble Plot of Selling Price by Kilometers Driven"
        },
        "xaxis": {
         "anchor": "y",
         "domain": [
          0,
          1
         ],
         "title": {
          "text": "Driven_kms"
         }
        },
        "yaxis": {
         "anchor": "x",
         "domain": [
          0,
          1
         ],
         "title": {
          "text": "Selling_Price"
         }
        }
       }
      }
     },
     "metadata": {},
     "output_type": "display_data"
    }
   ],
   "source": [
    "fig1 = px.scatter(cars, x='Driven_kms', y='Selling_Price', size='Selling_Price', color=None, \n",
    "                 title='Bubble Plot of Selling Price by Kilometers Driven')\n",
    "fig1.show()"
   ]
  },
  {
   "cell_type": "code",
   "execution_count": 538,
   "metadata": {},
   "outputs": [
    {
     "data": {
      "application/vnd.plotly.v1+json": {
       "config": {
        "plotlyServerURL": "https://plot.ly"
       },
       "data": [
        {
         "fillpattern": {
          "shape": ""
         },
         "hovertemplate": "Fuel_Type=Petrol<br>Year=%{x}<br>Selling_Price=%{y}<extra></extra>",
         "legendgroup": "Petrol",
         "line": {
          "color": "#636efa"
         },
         "marker": {
          "symbol": "circle"
         },
         "mode": "lines",
         "name": "Petrol",
         "orientation": "v",
         "showlegend": true,
         "stackgroup": "1",
         "type": "scatter",
         "x": [
          2014,
          2017,
          2011,
          2015,
          2017,
          2015,
          2015,
          2009,
          2010,
          2016,
          2017,
          2011,
          2014,
          2013,
          2011,
          2013,
          2017,
          2010,
          2011,
          2015,
          2003,
          2016,
          2003,
          2016,
          2014,
          2008,
          2012,
          2014,
          2013,
          2006,
          2015,
          2017,
          2005,
          2009,
          2015,
          2010,
          2014,
          2013,
          2015,
          2017,
          2011,
          2016,
          2013,
          2011,
          2015,
          2013,
          2004,
          2010,
          2006,
          2012,
          2013,
          2014,
          2009,
          2005,
          2008,
          2012,
          2017,
          2013,
          2016,
          2017,
          2017,
          2017,
          2017,
          2015,
          2014,
          2013,
          2016,
          2017,
          2016,
          2016,
          2014,
          2016,
          2015,
          2015,
          2013,
          2015,
          2015,
          2013,
          2016,
          2011,
          2016,
          2013,
          2012,
          2009,
          2017,
          2016,
          2017,
          2017,
          2017,
          2015,
          2017,
          2016,
          2017,
          2015,
          2014,
          2013,
          2016,
          2015,
          2013,
          2016,
          2015,
          2016,
          2014,
          2012,
          2014,
          2015,
          2010,
          2016,
          2011,
          2016,
          2012,
          2013,
          2014,
          2017,
          2017,
          2015,
          2017,
          2017,
          2011,
          2014,
          2012,
          2010,
          2016,
          2016,
          2016,
          2014,
          2013,
          2015,
          2012,
          2015,
          2014,
          2017,
          2015,
          2011,
          2011,
          2016,
          2014,
          2010,
          2012,
          2016,
          2013,
          2013,
          2008,
          2008,
          2010,
          2013,
          2013,
          2005,
          2008,
          2012,
          2007,
          2013,
          2008,
          2015,
          2008,
          2010,
          2011,
          2007,
          2006,
          2015,
          2011,
          2015,
          2016,
          2017,
          2015,
          2017,
          2012,
          2016,
          2011,
          2017,
          2012,
          2016,
          2016,
          2014,
          2012,
          2017,
          2013,
          2013,
          2011,
          2015,
          2011,
          2017,
          2015,
          2015,
          2017,
          2016,
          2013,
          2012,
          2015,
          2014,
          2016,
          2012,
          2015,
          2013,
          2016,
          2013,
          2015,
          2013,
          2012,
          2016,
          2015,
          2015,
          2014,
          2016,
          2016,
          2015,
          2016,
          2015,
          2017,
          2014,
          2017,
          2015,
          2011,
          2009,
          2015,
          2010,
          2014,
          2016,
          2015,
          2015,
          2016,
          2014,
          2015,
          2006,
          2016,
          2013,
          2016,
          2016,
          2015,
          2015,
          2016,
          2014,
          2015,
          2016,
          2010,
          2014,
          2015,
          2009,
          2016
         ],
         "xaxis": "x",
         "y": [
          3.35,
          7.25,
          2.85,
          6.75,
          2.85,
          7.5,
          6.1,
          2.25,
          2.65,
          2.85,
          4.9,
          4.4,
          2.5,
          2.9,
          3,
          4.15,
          6,
          1.95,
          2.35,
          4.65,
          0.35,
          3,
          2.25,
          5.85,
          2.55,
          1.95,
          1.25,
          7.5,
          2.65,
          1.05,
          5.8,
          7.75,
          2.75,
          3.6,
          4.5,
          4.75,
          4.1,
          6.95,
          4.5,
          19.75,
          4.35,
          14.25,
          7.45,
          2.65,
          3.95,
          5.5,
          1.5,
          5.25,
          2.5,
          5.9,
          3.45,
          4.75,
          3.8,
          3.51,
          4,
          5.85,
          17,
          7.05,
          1.75,
          1.7,
          1.65,
          1.45,
          1.35,
          1.35,
          1.35,
          1.25,
          1.2,
          1.2,
          1.2,
          1.15,
          1.15,
          1.15,
          1.15,
          1.11,
          1.1,
          1.1,
          1.1,
          1.05,
          1.05,
          1.05,
          1.05,
          1,
          0.95,
          0.9,
          0.9,
          0.75,
          0.8,
          0.78,
          0.75,
          0.75,
          0.75,
          0.72,
          0.65,
          0.65,
          0.65,
          0.65,
          0.6,
          0.6,
          0.6,
          0.6,
          0.6,
          0.6,
          0.6,
          0.6,
          0.55,
          0.55,
          0.52,
          0.51,
          0.5,
          0.5,
          0.5,
          0.5,
          0.5,
          0.48,
          0.48,
          0.48,
          0.48,
          0.45,
          0.45,
          0.45,
          0.45,
          0.45,
          0.45,
          0.45,
          0.45,
          0.42,
          0.42,
          0.4,
          0.4,
          0.4,
          0.4,
          0.4,
          0.38,
          0.38,
          0.35,
          0.35,
          0.35,
          0.31,
          0.3,
          0.3,
          0.3,
          0.27,
          0.25,
          0.25,
          0.25,
          0.25,
          0.25,
          0.2,
          0.2,
          0.2,
          0.2,
          0.2,
          0.2,
          0.18,
          0.17,
          0.16,
          0.15,
          0.12,
          0.1,
          4.4,
          2.95,
          2.75,
          5.25,
          5.75,
          5.15,
          7.9,
          3.1,
          11.25,
          2.9,
          5.25,
          4.5,
          2.9,
          3.15,
          6.45,
          4.5,
          3.5,
          4.5,
          5.11,
          2.7,
          5.25,
          2.55,
          9.25,
          11.45,
          5.5,
          9.1,
          3.1,
          4.8,
          2,
          4.75,
          4.4,
          6.25,
          3.75,
          5.95,
          4,
          5.25,
          5,
          5.4,
          5.25,
          3,
          10.25,
          8.5,
          8.4,
          3.9,
          9.15,
          5.5,
          4,
          6.6,
          4,
          6.5,
          3.65,
          4.8,
          6.7,
          4.1,
          3,
          7.5,
          2.25,
          5.3,
          10.9,
          8.65,
          9.7,
          6,
          6.25,
          5.25,
          2.1,
          8.99,
          3.5,
          7.4,
          5.65,
          5.75,
          8.4,
          10.11,
          4.5,
          5.4,
          6.4,
          3.25,
          3.75,
          4,
          3.35,
          5.3
         ],
         "yaxis": "y"
        },
        {
         "fillpattern": {
          "shape": ""
         },
         "hovertemplate": "Fuel_Type=Diesel<br>Year=%{x}<br>Selling_Price=%{y}<extra></extra>",
         "legendgroup": "Diesel",
         "line": {
          "color": "#EF553B"
         },
         "marker": {
          "symbol": "circle"
         },
         "mode": "lines",
         "name": "Diesel",
         "orientation": "v",
         "showlegend": true,
         "stackgroup": "1",
         "type": "scatter",
         "x": [
          2013,
          2014,
          2018,
          2015,
          2016,
          2015,
          2015,
          2016,
          2015,
          2016,
          2015,
          2012,
          2014,
          2014,
          2014,
          2014,
          2012,
          2015,
          2017,
          2013,
          2014,
          2014,
          2015,
          2017,
          2014,
          2010,
          2014,
          2011,
          2014,
          2012,
          2016,
          2015,
          2017,
          2015,
          2005,
          2010,
          2014,
          2015,
          2016,
          2010,
          2010,
          2015,
          2015,
          2014,
          2015,
          2012,
          2012,
          2013,
          2013,
          2015,
          2012,
          2013,
          2012,
          2016,
          2014,
          2016,
          2014,
          2015,
          2016,
          2017
         ],
         "xaxis": "x",
         "y": [
          4.75,
          4.6,
          9.25,
          6.5,
          8.75,
          7.45,
          6.85,
          7.75,
          7.25,
          7.75,
          7.45,
          3.1,
          4.95,
          6,
          5.5,
          5.5,
          14.9,
          23,
          18,
          16,
          19.99,
          18.75,
          23.5,
          33,
          4.75,
          9.25,
          3.95,
          4.5,
          4.9,
          14.5,
          14.73,
          4.75,
          23,
          12.5,
          3.49,
          35,
          11.25,
          23,
          20.75,
          9.65,
          3.25,
          4.85,
          11.75,
          6,
          8.25,
          4.95,
          3.1,
          6.15,
          3.9,
          11.25,
          5.35,
          5.95,
          5.2,
          12.9,
          7.2,
          8.35,
          8.25,
          8.55,
          9.5,
          11.5
         ],
         "yaxis": "y"
        },
        {
         "fillpattern": {
          "shape": ""
         },
         "hovertemplate": "Fuel_Type=CNG<br>Year=%{x}<br>Selling_Price=%{y}<extra></extra>",
         "legendgroup": "CNG",
         "line": {
          "color": "#00cc96"
         },
         "marker": {
          "symbol": "circle"
         },
         "mode": "lines",
         "name": "CNG",
         "orientation": "v",
         "showlegend": true,
         "stackgroup": "1",
         "type": "scatter",
         "x": [
          2015,
          2011
         ],
         "xaxis": "x",
         "y": [
          3.25,
          2.95
         ],
         "yaxis": "y"
        }
       ],
       "layout": {
        "legend": {
         "title": {
          "text": "Fuel_Type"
         },
         "tracegroupgap": 0
        },
        "margin": {
         "t": 60
        },
        "template": {
         "data": {
          "bar": [
           {
            "error_x": {
             "color": "#2a3f5f"
            },
            "error_y": {
             "color": "#2a3f5f"
            },
            "marker": {
             "line": {
              "color": "#E5ECF6",
              "width": 0.5
             },
             "pattern": {
              "fillmode": "overlay",
              "size": 10,
              "solidity": 0.2
             }
            },
            "type": "bar"
           }
          ],
          "barpolar": [
           {
            "marker": {
             "line": {
              "color": "#E5ECF6",
              "width": 0.5
             },
             "pattern": {
              "fillmode": "overlay",
              "size": 10,
              "solidity": 0.2
             }
            },
            "type": "barpolar"
           }
          ],
          "carpet": [
           {
            "aaxis": {
             "endlinecolor": "#2a3f5f",
             "gridcolor": "white",
             "linecolor": "white",
             "minorgridcolor": "white",
             "startlinecolor": "#2a3f5f"
            },
            "baxis": {
             "endlinecolor": "#2a3f5f",
             "gridcolor": "white",
             "linecolor": "white",
             "minorgridcolor": "white",
             "startlinecolor": "#2a3f5f"
            },
            "type": "carpet"
           }
          ],
          "choropleth": [
           {
            "colorbar": {
             "outlinewidth": 0,
             "ticks": ""
            },
            "type": "choropleth"
           }
          ],
          "contour": [
           {
            "colorbar": {
             "outlinewidth": 0,
             "ticks": ""
            },
            "colorscale": [
             [
              0,
              "#0d0887"
             ],
             [
              0.1111111111111111,
              "#46039f"
             ],
             [
              0.2222222222222222,
              "#7201a8"
             ],
             [
              0.3333333333333333,
              "#9c179e"
             ],
             [
              0.4444444444444444,
              "#bd3786"
             ],
             [
              0.5555555555555556,
              "#d8576b"
             ],
             [
              0.6666666666666666,
              "#ed7953"
             ],
             [
              0.7777777777777778,
              "#fb9f3a"
             ],
             [
              0.8888888888888888,
              "#fdca26"
             ],
             [
              1,
              "#f0f921"
             ]
            ],
            "type": "contour"
           }
          ],
          "contourcarpet": [
           {
            "colorbar": {
             "outlinewidth": 0,
             "ticks": ""
            },
            "type": "contourcarpet"
           }
          ],
          "heatmap": [
           {
            "colorbar": {
             "outlinewidth": 0,
             "ticks": ""
            },
            "colorscale": [
             [
              0,
              "#0d0887"
             ],
             [
              0.1111111111111111,
              "#46039f"
             ],
             [
              0.2222222222222222,
              "#7201a8"
             ],
             [
              0.3333333333333333,
              "#9c179e"
             ],
             [
              0.4444444444444444,
              "#bd3786"
             ],
             [
              0.5555555555555556,
              "#d8576b"
             ],
             [
              0.6666666666666666,
              "#ed7953"
             ],
             [
              0.7777777777777778,
              "#fb9f3a"
             ],
             [
              0.8888888888888888,
              "#fdca26"
             ],
             [
              1,
              "#f0f921"
             ]
            ],
            "type": "heatmap"
           }
          ],
          "heatmapgl": [
           {
            "colorbar": {
             "outlinewidth": 0,
             "ticks": ""
            },
            "colorscale": [
             [
              0,
              "#0d0887"
             ],
             [
              0.1111111111111111,
              "#46039f"
             ],
             [
              0.2222222222222222,
              "#7201a8"
             ],
             [
              0.3333333333333333,
              "#9c179e"
             ],
             [
              0.4444444444444444,
              "#bd3786"
             ],
             [
              0.5555555555555556,
              "#d8576b"
             ],
             [
              0.6666666666666666,
              "#ed7953"
             ],
             [
              0.7777777777777778,
              "#fb9f3a"
             ],
             [
              0.8888888888888888,
              "#fdca26"
             ],
             [
              1,
              "#f0f921"
             ]
            ],
            "type": "heatmapgl"
           }
          ],
          "histogram": [
           {
            "marker": {
             "pattern": {
              "fillmode": "overlay",
              "size": 10,
              "solidity": 0.2
             }
            },
            "type": "histogram"
           }
          ],
          "histogram2d": [
           {
            "colorbar": {
             "outlinewidth": 0,
             "ticks": ""
            },
            "colorscale": [
             [
              0,
              "#0d0887"
             ],
             [
              0.1111111111111111,
              "#46039f"
             ],
             [
              0.2222222222222222,
              "#7201a8"
             ],
             [
              0.3333333333333333,
              "#9c179e"
             ],
             [
              0.4444444444444444,
              "#bd3786"
             ],
             [
              0.5555555555555556,
              "#d8576b"
             ],
             [
              0.6666666666666666,
              "#ed7953"
             ],
             [
              0.7777777777777778,
              "#fb9f3a"
             ],
             [
              0.8888888888888888,
              "#fdca26"
             ],
             [
              1,
              "#f0f921"
             ]
            ],
            "type": "histogram2d"
           }
          ],
          "histogram2dcontour": [
           {
            "colorbar": {
             "outlinewidth": 0,
             "ticks": ""
            },
            "colorscale": [
             [
              0,
              "#0d0887"
             ],
             [
              0.1111111111111111,
              "#46039f"
             ],
             [
              0.2222222222222222,
              "#7201a8"
             ],
             [
              0.3333333333333333,
              "#9c179e"
             ],
             [
              0.4444444444444444,
              "#bd3786"
             ],
             [
              0.5555555555555556,
              "#d8576b"
             ],
             [
              0.6666666666666666,
              "#ed7953"
             ],
             [
              0.7777777777777778,
              "#fb9f3a"
             ],
             [
              0.8888888888888888,
              "#fdca26"
             ],
             [
              1,
              "#f0f921"
             ]
            ],
            "type": "histogram2dcontour"
           }
          ],
          "mesh3d": [
           {
            "colorbar": {
             "outlinewidth": 0,
             "ticks": ""
            },
            "type": "mesh3d"
           }
          ],
          "parcoords": [
           {
            "line": {
             "colorbar": {
              "outlinewidth": 0,
              "ticks": ""
             }
            },
            "type": "parcoords"
           }
          ],
          "pie": [
           {
            "automargin": true,
            "type": "pie"
           }
          ],
          "scatter": [
           {
            "fillpattern": {
             "fillmode": "overlay",
             "size": 10,
             "solidity": 0.2
            },
            "type": "scatter"
           }
          ],
          "scatter3d": [
           {
            "line": {
             "colorbar": {
              "outlinewidth": 0,
              "ticks": ""
             }
            },
            "marker": {
             "colorbar": {
              "outlinewidth": 0,
              "ticks": ""
             }
            },
            "type": "scatter3d"
           }
          ],
          "scattercarpet": [
           {
            "marker": {
             "colorbar": {
              "outlinewidth": 0,
              "ticks": ""
             }
            },
            "type": "scattercarpet"
           }
          ],
          "scattergeo": [
           {
            "marker": {
             "colorbar": {
              "outlinewidth": 0,
              "ticks": ""
             }
            },
            "type": "scattergeo"
           }
          ],
          "scattergl": [
           {
            "marker": {
             "colorbar": {
              "outlinewidth": 0,
              "ticks": ""
             }
            },
            "type": "scattergl"
           }
          ],
          "scattermapbox": [
           {
            "marker": {
             "colorbar": {
              "outlinewidth": 0,
              "ticks": ""
             }
            },
            "type": "scattermapbox"
           }
          ],
          "scatterpolar": [
           {
            "marker": {
             "colorbar": {
              "outlinewidth": 0,
              "ticks": ""
             }
            },
            "type": "scatterpolar"
           }
          ],
          "scatterpolargl": [
           {
            "marker": {
             "colorbar": {
              "outlinewidth": 0,
              "ticks": ""
             }
            },
            "type": "scatterpolargl"
           }
          ],
          "scatterternary": [
           {
            "marker": {
             "colorbar": {
              "outlinewidth": 0,
              "ticks": ""
             }
            },
            "type": "scatterternary"
           }
          ],
          "surface": [
           {
            "colorbar": {
             "outlinewidth": 0,
             "ticks": ""
            },
            "colorscale": [
             [
              0,
              "#0d0887"
             ],
             [
              0.1111111111111111,
              "#46039f"
             ],
             [
              0.2222222222222222,
              "#7201a8"
             ],
             [
              0.3333333333333333,
              "#9c179e"
             ],
             [
              0.4444444444444444,
              "#bd3786"
             ],
             [
              0.5555555555555556,
              "#d8576b"
             ],
             [
              0.6666666666666666,
              "#ed7953"
             ],
             [
              0.7777777777777778,
              "#fb9f3a"
             ],
             [
              0.8888888888888888,
              "#fdca26"
             ],
             [
              1,
              "#f0f921"
             ]
            ],
            "type": "surface"
           }
          ],
          "table": [
           {
            "cells": {
             "fill": {
              "color": "#EBF0F8"
             },
             "line": {
              "color": "white"
             }
            },
            "header": {
             "fill": {
              "color": "#C8D4E3"
             },
             "line": {
              "color": "white"
             }
            },
            "type": "table"
           }
          ]
         },
         "layout": {
          "annotationdefaults": {
           "arrowcolor": "#2a3f5f",
           "arrowhead": 0,
           "arrowwidth": 1
          },
          "autotypenumbers": "strict",
          "coloraxis": {
           "colorbar": {
            "outlinewidth": 0,
            "ticks": ""
           }
          },
          "colorscale": {
           "diverging": [
            [
             0,
             "#8e0152"
            ],
            [
             0.1,
             "#c51b7d"
            ],
            [
             0.2,
             "#de77ae"
            ],
            [
             0.3,
             "#f1b6da"
            ],
            [
             0.4,
             "#fde0ef"
            ],
            [
             0.5,
             "#f7f7f7"
            ],
            [
             0.6,
             "#e6f5d0"
            ],
            [
             0.7,
             "#b8e186"
            ],
            [
             0.8,
             "#7fbc41"
            ],
            [
             0.9,
             "#4d9221"
            ],
            [
             1,
             "#276419"
            ]
           ],
           "sequential": [
            [
             0,
             "#0d0887"
            ],
            [
             0.1111111111111111,
             "#46039f"
            ],
            [
             0.2222222222222222,
             "#7201a8"
            ],
            [
             0.3333333333333333,
             "#9c179e"
            ],
            [
             0.4444444444444444,
             "#bd3786"
            ],
            [
             0.5555555555555556,
             "#d8576b"
            ],
            [
             0.6666666666666666,
             "#ed7953"
            ],
            [
             0.7777777777777778,
             "#fb9f3a"
            ],
            [
             0.8888888888888888,
             "#fdca26"
            ],
            [
             1,
             "#f0f921"
            ]
           ],
           "sequentialminus": [
            [
             0,
             "#0d0887"
            ],
            [
             0.1111111111111111,
             "#46039f"
            ],
            [
             0.2222222222222222,
             "#7201a8"
            ],
            [
             0.3333333333333333,
             "#9c179e"
            ],
            [
             0.4444444444444444,
             "#bd3786"
            ],
            [
             0.5555555555555556,
             "#d8576b"
            ],
            [
             0.6666666666666666,
             "#ed7953"
            ],
            [
             0.7777777777777778,
             "#fb9f3a"
            ],
            [
             0.8888888888888888,
             "#fdca26"
            ],
            [
             1,
             "#f0f921"
            ]
           ]
          },
          "colorway": [
           "#636efa",
           "#EF553B",
           "#00cc96",
           "#ab63fa",
           "#FFA15A",
           "#19d3f3",
           "#FF6692",
           "#B6E880",
           "#FF97FF",
           "#FECB52"
          ],
          "font": {
           "color": "#2a3f5f"
          },
          "geo": {
           "bgcolor": "white",
           "lakecolor": "white",
           "landcolor": "#E5ECF6",
           "showlakes": true,
           "showland": true,
           "subunitcolor": "white"
          },
          "hoverlabel": {
           "align": "left"
          },
          "hovermode": "closest",
          "mapbox": {
           "style": "light"
          },
          "paper_bgcolor": "white",
          "plot_bgcolor": "#E5ECF6",
          "polar": {
           "angularaxis": {
            "gridcolor": "white",
            "linecolor": "white",
            "ticks": ""
           },
           "bgcolor": "#E5ECF6",
           "radialaxis": {
            "gridcolor": "white",
            "linecolor": "white",
            "ticks": ""
           }
          },
          "scene": {
           "xaxis": {
            "backgroundcolor": "#E5ECF6",
            "gridcolor": "white",
            "gridwidth": 2,
            "linecolor": "white",
            "showbackground": true,
            "ticks": "",
            "zerolinecolor": "white"
           },
           "yaxis": {
            "backgroundcolor": "#E5ECF6",
            "gridcolor": "white",
            "gridwidth": 2,
            "linecolor": "white",
            "showbackground": true,
            "ticks": "",
            "zerolinecolor": "white"
           },
           "zaxis": {
            "backgroundcolor": "#E5ECF6",
            "gridcolor": "white",
            "gridwidth": 2,
            "linecolor": "white",
            "showbackground": true,
            "ticks": "",
            "zerolinecolor": "white"
           }
          },
          "shapedefaults": {
           "line": {
            "color": "#2a3f5f"
           }
          },
          "ternary": {
           "aaxis": {
            "gridcolor": "white",
            "linecolor": "white",
            "ticks": ""
           },
           "baxis": {
            "gridcolor": "white",
            "linecolor": "white",
            "ticks": ""
           },
           "bgcolor": "#E5ECF6",
           "caxis": {
            "gridcolor": "white",
            "linecolor": "white",
            "ticks": ""
           }
          },
          "title": {
           "x": 0.05
          },
          "xaxis": {
           "automargin": true,
           "gridcolor": "white",
           "linecolor": "white",
           "ticks": "",
           "title": {
            "standoff": 15
           },
           "zerolinecolor": "white",
           "zerolinewidth": 2
          },
          "yaxis": {
           "automargin": true,
           "gridcolor": "white",
           "linecolor": "white",
           "ticks": "",
           "title": {
            "standoff": 15
           },
           "zerolinecolor": "white",
           "zerolinewidth": 2
          }
         }
        },
        "title": {
         "text": "Selling Price Trends by Year and Fuel Type"
        },
        "xaxis": {
         "anchor": "y",
         "domain": [
          0,
          1
         ],
         "title": {
          "text": "Year"
         }
        },
        "yaxis": {
         "anchor": "x",
         "domain": [
          0,
          1
         ],
         "title": {
          "text": "Selling_Price"
         }
        }
       }
      }
     },
     "metadata": {},
     "output_type": "display_data"
    }
   ],
   "source": [
    "fig2= px.area(cars, x='Year', y='Selling_Price', color='Fuel_Type')\n",
    "\n",
    "fig2.update_layout(title='Selling Price Trends by Year and Fuel Type')\n",
    "\n",
    "fig2.show()\n"
   ]
  },
  {
   "cell_type": "code",
   "execution_count": 539,
   "metadata": {},
   "outputs": [
    {
     "data": {
      "application/vnd.plotly.v1+json": {
       "config": {
        "plotlyServerURL": "https://plot.ly"
       },
       "data": [
        {
         "domain": {
          "x": [
           0,
           1
          ],
          "y": [
           0,
           1
          ]
         },
         "hole": 0.5,
         "hovertemplate": "index=%{label}<extra></extra>",
         "labels": [
          "Petrol",
          "Diesel",
          "CNG"
         ],
         "legendgroup": "",
         "name": "",
         "showlegend": true,
         "type": "pie"
        }
       ],
       "layout": {
        "legend": {
         "tracegroupgap": 0
        },
        "template": {
         "data": {
          "bar": [
           {
            "error_x": {
             "color": "#2a3f5f"
            },
            "error_y": {
             "color": "#2a3f5f"
            },
            "marker": {
             "line": {
              "color": "#E5ECF6",
              "width": 0.5
             },
             "pattern": {
              "fillmode": "overlay",
              "size": 10,
              "solidity": 0.2
             }
            },
            "type": "bar"
           }
          ],
          "barpolar": [
           {
            "marker": {
             "line": {
              "color": "#E5ECF6",
              "width": 0.5
             },
             "pattern": {
              "fillmode": "overlay",
              "size": 10,
              "solidity": 0.2
             }
            },
            "type": "barpolar"
           }
          ],
          "carpet": [
           {
            "aaxis": {
             "endlinecolor": "#2a3f5f",
             "gridcolor": "white",
             "linecolor": "white",
             "minorgridcolor": "white",
             "startlinecolor": "#2a3f5f"
            },
            "baxis": {
             "endlinecolor": "#2a3f5f",
             "gridcolor": "white",
             "linecolor": "white",
             "minorgridcolor": "white",
             "startlinecolor": "#2a3f5f"
            },
            "type": "carpet"
           }
          ],
          "choropleth": [
           {
            "colorbar": {
             "outlinewidth": 0,
             "ticks": ""
            },
            "type": "choropleth"
           }
          ],
          "contour": [
           {
            "colorbar": {
             "outlinewidth": 0,
             "ticks": ""
            },
            "colorscale": [
             [
              0,
              "#0d0887"
             ],
             [
              0.1111111111111111,
              "#46039f"
             ],
             [
              0.2222222222222222,
              "#7201a8"
             ],
             [
              0.3333333333333333,
              "#9c179e"
             ],
             [
              0.4444444444444444,
              "#bd3786"
             ],
             [
              0.5555555555555556,
              "#d8576b"
             ],
             [
              0.6666666666666666,
              "#ed7953"
             ],
             [
              0.7777777777777778,
              "#fb9f3a"
             ],
             [
              0.8888888888888888,
              "#fdca26"
             ],
             [
              1,
              "#f0f921"
             ]
            ],
            "type": "contour"
           }
          ],
          "contourcarpet": [
           {
            "colorbar": {
             "outlinewidth": 0,
             "ticks": ""
            },
            "type": "contourcarpet"
           }
          ],
          "heatmap": [
           {
            "colorbar": {
             "outlinewidth": 0,
             "ticks": ""
            },
            "colorscale": [
             [
              0,
              "#0d0887"
             ],
             [
              0.1111111111111111,
              "#46039f"
             ],
             [
              0.2222222222222222,
              "#7201a8"
             ],
             [
              0.3333333333333333,
              "#9c179e"
             ],
             [
              0.4444444444444444,
              "#bd3786"
             ],
             [
              0.5555555555555556,
              "#d8576b"
             ],
             [
              0.6666666666666666,
              "#ed7953"
             ],
             [
              0.7777777777777778,
              "#fb9f3a"
             ],
             [
              0.8888888888888888,
              "#fdca26"
             ],
             [
              1,
              "#f0f921"
             ]
            ],
            "type": "heatmap"
           }
          ],
          "heatmapgl": [
           {
            "colorbar": {
             "outlinewidth": 0,
             "ticks": ""
            },
            "colorscale": [
             [
              0,
              "#0d0887"
             ],
             [
              0.1111111111111111,
              "#46039f"
             ],
             [
              0.2222222222222222,
              "#7201a8"
             ],
             [
              0.3333333333333333,
              "#9c179e"
             ],
             [
              0.4444444444444444,
              "#bd3786"
             ],
             [
              0.5555555555555556,
              "#d8576b"
             ],
             [
              0.6666666666666666,
              "#ed7953"
             ],
             [
              0.7777777777777778,
              "#fb9f3a"
             ],
             [
              0.8888888888888888,
              "#fdca26"
             ],
             [
              1,
              "#f0f921"
             ]
            ],
            "type": "heatmapgl"
           }
          ],
          "histogram": [
           {
            "marker": {
             "pattern": {
              "fillmode": "overlay",
              "size": 10,
              "solidity": 0.2
             }
            },
            "type": "histogram"
           }
          ],
          "histogram2d": [
           {
            "colorbar": {
             "outlinewidth": 0,
             "ticks": ""
            },
            "colorscale": [
             [
              0,
              "#0d0887"
             ],
             [
              0.1111111111111111,
              "#46039f"
             ],
             [
              0.2222222222222222,
              "#7201a8"
             ],
             [
              0.3333333333333333,
              "#9c179e"
             ],
             [
              0.4444444444444444,
              "#bd3786"
             ],
             [
              0.5555555555555556,
              "#d8576b"
             ],
             [
              0.6666666666666666,
              "#ed7953"
             ],
             [
              0.7777777777777778,
              "#fb9f3a"
             ],
             [
              0.8888888888888888,
              "#fdca26"
             ],
             [
              1,
              "#f0f921"
             ]
            ],
            "type": "histogram2d"
           }
          ],
          "histogram2dcontour": [
           {
            "colorbar": {
             "outlinewidth": 0,
             "ticks": ""
            },
            "colorscale": [
             [
              0,
              "#0d0887"
             ],
             [
              0.1111111111111111,
              "#46039f"
             ],
             [
              0.2222222222222222,
              "#7201a8"
             ],
             [
              0.3333333333333333,
              "#9c179e"
             ],
             [
              0.4444444444444444,
              "#bd3786"
             ],
             [
              0.5555555555555556,
              "#d8576b"
             ],
             [
              0.6666666666666666,
              "#ed7953"
             ],
             [
              0.7777777777777778,
              "#fb9f3a"
             ],
             [
              0.8888888888888888,
              "#fdca26"
             ],
             [
              1,
              "#f0f921"
             ]
            ],
            "type": "histogram2dcontour"
           }
          ],
          "mesh3d": [
           {
            "colorbar": {
             "outlinewidth": 0,
             "ticks": ""
            },
            "type": "mesh3d"
           }
          ],
          "parcoords": [
           {
            "line": {
             "colorbar": {
              "outlinewidth": 0,
              "ticks": ""
             }
            },
            "type": "parcoords"
           }
          ],
          "pie": [
           {
            "automargin": true,
            "type": "pie"
           }
          ],
          "scatter": [
           {
            "fillpattern": {
             "fillmode": "overlay",
             "size": 10,
             "solidity": 0.2
            },
            "type": "scatter"
           }
          ],
          "scatter3d": [
           {
            "line": {
             "colorbar": {
              "outlinewidth": 0,
              "ticks": ""
             }
            },
            "marker": {
             "colorbar": {
              "outlinewidth": 0,
              "ticks": ""
             }
            },
            "type": "scatter3d"
           }
          ],
          "scattercarpet": [
           {
            "marker": {
             "colorbar": {
              "outlinewidth": 0,
              "ticks": ""
             }
            },
            "type": "scattercarpet"
           }
          ],
          "scattergeo": [
           {
            "marker": {
             "colorbar": {
              "outlinewidth": 0,
              "ticks": ""
             }
            },
            "type": "scattergeo"
           }
          ],
          "scattergl": [
           {
            "marker": {
             "colorbar": {
              "outlinewidth": 0,
              "ticks": ""
             }
            },
            "type": "scattergl"
           }
          ],
          "scattermapbox": [
           {
            "marker": {
             "colorbar": {
              "outlinewidth": 0,
              "ticks": ""
             }
            },
            "type": "scattermapbox"
           }
          ],
          "scatterpolar": [
           {
            "marker": {
             "colorbar": {
              "outlinewidth": 0,
              "ticks": ""
             }
            },
            "type": "scatterpolar"
           }
          ],
          "scatterpolargl": [
           {
            "marker": {
             "colorbar": {
              "outlinewidth": 0,
              "ticks": ""
             }
            },
            "type": "scatterpolargl"
           }
          ],
          "scatterternary": [
           {
            "marker": {
             "colorbar": {
              "outlinewidth": 0,
              "ticks": ""
             }
            },
            "type": "scatterternary"
           }
          ],
          "surface": [
           {
            "colorbar": {
             "outlinewidth": 0,
             "ticks": ""
            },
            "colorscale": [
             [
              0,
              "#0d0887"
             ],
             [
              0.1111111111111111,
              "#46039f"
             ],
             [
              0.2222222222222222,
              "#7201a8"
             ],
             [
              0.3333333333333333,
              "#9c179e"
             ],
             [
              0.4444444444444444,
              "#bd3786"
             ],
             [
              0.5555555555555556,
              "#d8576b"
             ],
             [
              0.6666666666666666,
              "#ed7953"
             ],
             [
              0.7777777777777778,
              "#fb9f3a"
             ],
             [
              0.8888888888888888,
              "#fdca26"
             ],
             [
              1,
              "#f0f921"
             ]
            ],
            "type": "surface"
           }
          ],
          "table": [
           {
            "cells": {
             "fill": {
              "color": "#EBF0F8"
             },
             "line": {
              "color": "white"
             }
            },
            "header": {
             "fill": {
              "color": "#C8D4E3"
             },
             "line": {
              "color": "white"
             }
            },
            "type": "table"
           }
          ]
         },
         "layout": {
          "annotationdefaults": {
           "arrowcolor": "#2a3f5f",
           "arrowhead": 0,
           "arrowwidth": 1
          },
          "autotypenumbers": "strict",
          "coloraxis": {
           "colorbar": {
            "outlinewidth": 0,
            "ticks": ""
           }
          },
          "colorscale": {
           "diverging": [
            [
             0,
             "#8e0152"
            ],
            [
             0.1,
             "#c51b7d"
            ],
            [
             0.2,
             "#de77ae"
            ],
            [
             0.3,
             "#f1b6da"
            ],
            [
             0.4,
             "#fde0ef"
            ],
            [
             0.5,
             "#f7f7f7"
            ],
            [
             0.6,
             "#e6f5d0"
            ],
            [
             0.7,
             "#b8e186"
            ],
            [
             0.8,
             "#7fbc41"
            ],
            [
             0.9,
             "#4d9221"
            ],
            [
             1,
             "#276419"
            ]
           ],
           "sequential": [
            [
             0,
             "#0d0887"
            ],
            [
             0.1111111111111111,
             "#46039f"
            ],
            [
             0.2222222222222222,
             "#7201a8"
            ],
            [
             0.3333333333333333,
             "#9c179e"
            ],
            [
             0.4444444444444444,
             "#bd3786"
            ],
            [
             0.5555555555555556,
             "#d8576b"
            ],
            [
             0.6666666666666666,
             "#ed7953"
            ],
            [
             0.7777777777777778,
             "#fb9f3a"
            ],
            [
             0.8888888888888888,
             "#fdca26"
            ],
            [
             1,
             "#f0f921"
            ]
           ],
           "sequentialminus": [
            [
             0,
             "#0d0887"
            ],
            [
             0.1111111111111111,
             "#46039f"
            ],
            [
             0.2222222222222222,
             "#7201a8"
            ],
            [
             0.3333333333333333,
             "#9c179e"
            ],
            [
             0.4444444444444444,
             "#bd3786"
            ],
            [
             0.5555555555555556,
             "#d8576b"
            ],
            [
             0.6666666666666666,
             "#ed7953"
            ],
            [
             0.7777777777777778,
             "#fb9f3a"
            ],
            [
             0.8888888888888888,
             "#fdca26"
            ],
            [
             1,
             "#f0f921"
            ]
           ]
          },
          "colorway": [
           "#636efa",
           "#EF553B",
           "#00cc96",
           "#ab63fa",
           "#FFA15A",
           "#19d3f3",
           "#FF6692",
           "#B6E880",
           "#FF97FF",
           "#FECB52"
          ],
          "font": {
           "color": "#2a3f5f"
          },
          "geo": {
           "bgcolor": "white",
           "lakecolor": "white",
           "landcolor": "#E5ECF6",
           "showlakes": true,
           "showland": true,
           "subunitcolor": "white"
          },
          "hoverlabel": {
           "align": "left"
          },
          "hovermode": "closest",
          "mapbox": {
           "style": "light"
          },
          "paper_bgcolor": "white",
          "plot_bgcolor": "#E5ECF6",
          "polar": {
           "angularaxis": {
            "gridcolor": "white",
            "linecolor": "white",
            "ticks": ""
           },
           "bgcolor": "#E5ECF6",
           "radialaxis": {
            "gridcolor": "white",
            "linecolor": "white",
            "ticks": ""
           }
          },
          "scene": {
           "xaxis": {
            "backgroundcolor": "#E5ECF6",
            "gridcolor": "white",
            "gridwidth": 2,
            "linecolor": "white",
            "showbackground": true,
            "ticks": "",
            "zerolinecolor": "white"
           },
           "yaxis": {
            "backgroundcolor": "#E5ECF6",
            "gridcolor": "white",
            "gridwidth": 2,
            "linecolor": "white",
            "showbackground": true,
            "ticks": "",
            "zerolinecolor": "white"
           },
           "zaxis": {
            "backgroundcolor": "#E5ECF6",
            "gridcolor": "white",
            "gridwidth": 2,
            "linecolor": "white",
            "showbackground": true,
            "ticks": "",
            "zerolinecolor": "white"
           }
          },
          "shapedefaults": {
           "line": {
            "color": "#2a3f5f"
           }
          },
          "ternary": {
           "aaxis": {
            "gridcolor": "white",
            "linecolor": "white",
            "ticks": ""
           },
           "baxis": {
            "gridcolor": "white",
            "linecolor": "white",
            "ticks": ""
           },
           "bgcolor": "#E5ECF6",
           "caxis": {
            "gridcolor": "white",
            "linecolor": "white",
            "ticks": ""
           }
          },
          "title": {
           "x": 0.05
          },
          "xaxis": {
           "automargin": true,
           "gridcolor": "white",
           "linecolor": "white",
           "ticks": "",
           "title": {
            "standoff": 15
           },
           "zerolinecolor": "white",
           "zerolinewidth": 2
          },
          "yaxis": {
           "automargin": true,
           "gridcolor": "white",
           "linecolor": "white",
           "ticks": "",
           "title": {
            "standoff": 15
           },
           "zerolinecolor": "white",
           "zerolinewidth": 2
          }
         }
        },
        "title": {
         "text": "Fuel Type Distribution"
        }
       }
      }
     },
     "metadata": {},
     "output_type": "display_data"
    }
   ],
   "source": [
    "fuel_type_counts = cars['Fuel_Type'].value_counts()\n",
    "\n",
    "# Creating the donut chart\n",
    "fig3= px.pie(fuel_type_counts, \n",
    "             names=fuel_type_counts.index, \n",
    "             title='Fuel Type Distribution', \n",
    "             hole=0.5)\n",
    "\n",
    "# Showing the donut chart\n",
    "fig3.show()"
   ]
  },
  {
   "cell_type": "code",
   "execution_count": 540,
   "metadata": {},
   "outputs": [
    {
     "data": {
      "application/vnd.plotly.v1+json": {
       "config": {
        "plotlyServerURL": "https://plot.ly"
       },
       "data": [
        {
         "alignmentgroup": "True",
         "hovertemplate": "Transmission=Manual<br>Year=%{x}<br>Selling Price=%{y}<extra></extra>",
         "legendgroup": "Manual",
         "marker": {
          "color": "#FFD700",
          "pattern": {
           "shape": ""
          }
         },
         "name": "Manual",
         "offsetgroup": "Manual",
         "orientation": "v",
         "showlegend": true,
         "textposition": "auto",
         "type": "bar",
         "x": [
          2014,
          2013,
          2017,
          2011,
          2014,
          2018,
          2015,
          2015,
          2016,
          2015,
          2017,
          2015,
          2015,
          2009,
          2016,
          2015,
          2016,
          2015,
          2010,
          2016,
          2017,
          2014,
          2013,
          2011,
          2013,
          2017,
          2010,
          2015,
          2012,
          2011,
          2014,
          2014,
          2014,
          2011,
          2015,
          2003,
          2016,
          2003,
          2014,
          2008,
          2014,
          2012,
          2013,
          2006,
          2015,
          2005,
          2015,
          2010,
          2014,
          2013,
          2015,
          2014,
          2010,
          2011,
          2016,
          2014,
          2011,
          2013,
          2011,
          2014,
          2015,
          2013,
          2016,
          2015,
          2015,
          2005,
          2010,
          2012,
          2013,
          2014,
          2009,
          2014,
          2005,
          2012,
          2017,
          2013,
          2010,
          2016,
          2017,
          2017,
          2017,
          2017,
          2015,
          2014,
          2013,
          2016,
          2017,
          2016,
          2016,
          2014,
          2016,
          2015,
          2015,
          2013,
          2015,
          2015,
          2013,
          2016,
          2011,
          2016,
          2013,
          2012,
          2009,
          2017,
          2016,
          2017,
          2017,
          2017,
          2015,
          2017,
          2016,
          2017,
          2015,
          2014,
          2013,
          2016,
          2015,
          2013,
          2016,
          2015,
          2016,
          2014,
          2012,
          2014,
          2015,
          2010,
          2016,
          2011,
          2016,
          2012,
          2013,
          2014,
          2017,
          2015,
          2017,
          2011,
          2014,
          2012,
          2010,
          2016,
          2016,
          2014,
          2013,
          2015,
          2012,
          2015,
          2014,
          2015,
          2011,
          2011,
          2010,
          2012,
          2016,
          2013,
          2013,
          2008,
          2013,
          2013,
          2005,
          2008,
          2012,
          2007,
          2013,
          2008,
          2015,
          2010,
          2011,
          2007,
          2006,
          2010,
          2015,
          2011,
          2015,
          2016,
          2017,
          2017,
          2015,
          2012,
          2015,
          2016,
          2011,
          2017,
          2012,
          2016,
          2016,
          2014,
          2012,
          2017,
          2014,
          2015,
          2011,
          2015,
          2011,
          2012,
          2012,
          2013,
          2017,
          2013,
          2015,
          2017,
          2016,
          2015,
          2013,
          2012,
          2012,
          2015,
          2014,
          2016,
          2013,
          2012,
          2012,
          2015,
          2013,
          2016,
          2016,
          2013,
          2014,
          2013,
          2012,
          2016,
          2015,
          2015,
          2014,
          2016,
          2016,
          2015,
          2016,
          2015,
          2017,
          2014,
          2016,
          2017,
          2015,
          2011,
          2009,
          2015,
          2010,
          2014,
          2015,
          2015,
          2016,
          2014,
          2015,
          2006,
          2014,
          2016,
          2013,
          2016,
          2015,
          2016,
          2014,
          2015,
          2016,
          2010,
          2014,
          2015,
          2016,
          2015,
          2009,
          2017,
          2016
         ],
         "xaxis": "x",
         "y": [
          3.35,
          4.75,
          7.25,
          2.85,
          4.6,
          9.25,
          6.75,
          6.5,
          8.75,
          7.45,
          2.85,
          6.85,
          6.1,
          2.25,
          7.75,
          7.25,
          7.75,
          3.25,
          2.65,
          2.85,
          4.9,
          2.5,
          2.9,
          3,
          4.15,
          6,
          1.95,
          7.45,
          3.1,
          2.35,
          4.95,
          6,
          5.5,
          2.95,
          4.65,
          0.35,
          3,
          2.25,
          2.55,
          1.95,
          5.5,
          1.25,
          2.65,
          1.05,
          5.8,
          2.75,
          4.5,
          4.75,
          4.1,
          6.95,
          4.5,
          4.75,
          9.25,
          4.35,
          14.25,
          3.95,
          4.5,
          7.45,
          2.65,
          4.9,
          3.95,
          5.5,
          14.73,
          4.75,
          12.5,
          3.49,
          35,
          5.9,
          3.45,
          4.75,
          3.8,
          11.25,
          3.51,
          5.85,
          17,
          7.05,
          9.65,
          1.75,
          1.7,
          1.65,
          1.45,
          1.35,
          1.35,
          1.35,
          1.25,
          1.2,
          1.2,
          1.2,
          1.15,
          1.15,
          1.15,
          1.15,
          1.11,
          1.1,
          1.1,
          1.1,
          1.05,
          1.05,
          1.05,
          1.05,
          1,
          0.95,
          0.9,
          0.9,
          0.75,
          0.8,
          0.78,
          0.75,
          0.75,
          0.75,
          0.72,
          0.65,
          0.65,
          0.65,
          0.65,
          0.6,
          0.6,
          0.6,
          0.6,
          0.6,
          0.6,
          0.6,
          0.6,
          0.55,
          0.55,
          0.52,
          0.51,
          0.5,
          0.5,
          0.5,
          0.5,
          0.5,
          0.48,
          0.48,
          0.48,
          0.45,
          0.45,
          0.45,
          0.45,
          0.45,
          0.45,
          0.42,
          0.42,
          0.4,
          0.4,
          0.4,
          0.4,
          0.38,
          0.38,
          0.35,
          0.31,
          0.3,
          0.3,
          0.3,
          0.27,
          0.25,
          0.25,
          0.25,
          0.2,
          0.2,
          0.2,
          0.2,
          0.2,
          0.2,
          0.18,
          0.16,
          0.15,
          0.12,
          0.1,
          3.25,
          4.4,
          2.95,
          2.75,
          5.25,
          5.75,
          7.9,
          4.85,
          3.1,
          11.75,
          11.25,
          2.9,
          5.25,
          4.5,
          2.9,
          3.15,
          6.45,
          4.5,
          3.5,
          6,
          8.25,
          2.7,
          5.25,
          2.55,
          4.95,
          3.1,
          6.15,
          9.25,
          3.9,
          5.5,
          9.1,
          3.1,
          11.25,
          4.8,
          2,
          5.35,
          4.75,
          4.4,
          6.25,
          5.95,
          5.2,
          3.75,
          5.95,
          4,
          5.25,
          12.9,
          5,
          7.2,
          5.25,
          3,
          10.25,
          8.5,
          8.4,
          3.9,
          9.15,
          5.5,
          4,
          6.6,
          4,
          6.5,
          3.65,
          8.35,
          4.8,
          6.7,
          4.1,
          3,
          7.5,
          2.25,
          5.3,
          8.65,
          9.7,
          6,
          6.25,
          5.25,
          2.1,
          8.25,
          8.99,
          3.5,
          5.65,
          8.4,
          10.11,
          4.5,
          5.4,
          6.4,
          3.25,
          3.75,
          8.55,
          9.5,
          4,
          3.35,
          11.5,
          5.3
         ],
         "yaxis": "y"
        },
        {
         "alignmentgroup": "True",
         "hovertemplate": "Transmission=Automatic<br>Year=%{x}<br>Selling Price=%{y}<extra></extra>",
         "legendgroup": "Automatic",
         "marker": {
          "color": "#4B0082",
          "pattern": {
           "shape": ""
          }
         },
         "name": "Automatic",
         "offsetgroup": "Automatic",
         "orientation": "v",
         "showlegend": true,
         "textposition": "auto",
         "type": "bar",
         "x": [
          2015,
          2011,
          2016,
          2014,
          2017,
          2012,
          2015,
          2017,
          2013,
          2009,
          2014,
          2014,
          2015,
          2017,
          2017,
          2004,
          2010,
          2012,
          2017,
          2006,
          2015,
          2008,
          2016,
          2017,
          2017,
          2016,
          2017,
          2016,
          2014,
          2008,
          2010,
          2008,
          2015,
          2013,
          2013,
          2015,
          2015,
          2016,
          2016,
          2015
         ],
         "xaxis": "x",
         "y": [
          7.5,
          4.4,
          5.85,
          7.5,
          7.75,
          14.9,
          23,
          18,
          16,
          3.6,
          19.99,
          18.75,
          23.5,
          33,
          19.75,
          1.5,
          5.25,
          14.5,
          23,
          2.5,
          23,
          4,
          20.75,
          0.48,
          0.45,
          0.45,
          0.4,
          0.35,
          0.35,
          0.25,
          0.25,
          0.17,
          5.15,
          4.5,
          5.11,
          11.45,
          5.4,
          10.9,
          7.4,
          5.75
         ],
         "yaxis": "y"
        }
       ],
       "layout": {
        "barmode": "stack",
        "legend": {
         "title": {
          "text": "Transmission"
         },
         "tracegroupgap": 0
        },
        "template": {
         "data": {
          "bar": [
           {
            "error_x": {
             "color": "#2a3f5f"
            },
            "error_y": {
             "color": "#2a3f5f"
            },
            "marker": {
             "line": {
              "color": "white",
              "width": 0.5
             },
             "pattern": {
              "fillmode": "overlay",
              "size": 10,
              "solidity": 0.2
             }
            },
            "type": "bar"
           }
          ],
          "barpolar": [
           {
            "marker": {
             "line": {
              "color": "white",
              "width": 0.5
             },
             "pattern": {
              "fillmode": "overlay",
              "size": 10,
              "solidity": 0.2
             }
            },
            "type": "barpolar"
           }
          ],
          "carpet": [
           {
            "aaxis": {
             "endlinecolor": "#2a3f5f",
             "gridcolor": "#C8D4E3",
             "linecolor": "#C8D4E3",
             "minorgridcolor": "#C8D4E3",
             "startlinecolor": "#2a3f5f"
            },
            "baxis": {
             "endlinecolor": "#2a3f5f",
             "gridcolor": "#C8D4E3",
             "linecolor": "#C8D4E3",
             "minorgridcolor": "#C8D4E3",
             "startlinecolor": "#2a3f5f"
            },
            "type": "carpet"
           }
          ],
          "choropleth": [
           {
            "colorbar": {
             "outlinewidth": 0,
             "ticks": ""
            },
            "type": "choropleth"
           }
          ],
          "contour": [
           {
            "colorbar": {
             "outlinewidth": 0,
             "ticks": ""
            },
            "colorscale": [
             [
              0,
              "#0d0887"
             ],
             [
              0.1111111111111111,
              "#46039f"
             ],
             [
              0.2222222222222222,
              "#7201a8"
             ],
             [
              0.3333333333333333,
              "#9c179e"
             ],
             [
              0.4444444444444444,
              "#bd3786"
             ],
             [
              0.5555555555555556,
              "#d8576b"
             ],
             [
              0.6666666666666666,
              "#ed7953"
             ],
             [
              0.7777777777777778,
              "#fb9f3a"
             ],
             [
              0.8888888888888888,
              "#fdca26"
             ],
             [
              1,
              "#f0f921"
             ]
            ],
            "type": "contour"
           }
          ],
          "contourcarpet": [
           {
            "colorbar": {
             "outlinewidth": 0,
             "ticks": ""
            },
            "type": "contourcarpet"
           }
          ],
          "heatmap": [
           {
            "colorbar": {
             "outlinewidth": 0,
             "ticks": ""
            },
            "colorscale": [
             [
              0,
              "#0d0887"
             ],
             [
              0.1111111111111111,
              "#46039f"
             ],
             [
              0.2222222222222222,
              "#7201a8"
             ],
             [
              0.3333333333333333,
              "#9c179e"
             ],
             [
              0.4444444444444444,
              "#bd3786"
             ],
             [
              0.5555555555555556,
              "#d8576b"
             ],
             [
              0.6666666666666666,
              "#ed7953"
             ],
             [
              0.7777777777777778,
              "#fb9f3a"
             ],
             [
              0.8888888888888888,
              "#fdca26"
             ],
             [
              1,
              "#f0f921"
             ]
            ],
            "type": "heatmap"
           }
          ],
          "heatmapgl": [
           {
            "colorbar": {
             "outlinewidth": 0,
             "ticks": ""
            },
            "colorscale": [
             [
              0,
              "#0d0887"
             ],
             [
              0.1111111111111111,
              "#46039f"
             ],
             [
              0.2222222222222222,
              "#7201a8"
             ],
             [
              0.3333333333333333,
              "#9c179e"
             ],
             [
              0.4444444444444444,
              "#bd3786"
             ],
             [
              0.5555555555555556,
              "#d8576b"
             ],
             [
              0.6666666666666666,
              "#ed7953"
             ],
             [
              0.7777777777777778,
              "#fb9f3a"
             ],
             [
              0.8888888888888888,
              "#fdca26"
             ],
             [
              1,
              "#f0f921"
             ]
            ],
            "type": "heatmapgl"
           }
          ],
          "histogram": [
           {
            "marker": {
             "pattern": {
              "fillmode": "overlay",
              "size": 10,
              "solidity": 0.2
             }
            },
            "type": "histogram"
           }
          ],
          "histogram2d": [
           {
            "colorbar": {
             "outlinewidth": 0,
             "ticks": ""
            },
            "colorscale": [
             [
              0,
              "#0d0887"
             ],
             [
              0.1111111111111111,
              "#46039f"
             ],
             [
              0.2222222222222222,
              "#7201a8"
             ],
             [
              0.3333333333333333,
              "#9c179e"
             ],
             [
              0.4444444444444444,
              "#bd3786"
             ],
             [
              0.5555555555555556,
              "#d8576b"
             ],
             [
              0.6666666666666666,
              "#ed7953"
             ],
             [
              0.7777777777777778,
              "#fb9f3a"
             ],
             [
              0.8888888888888888,
              "#fdca26"
             ],
             [
              1,
              "#f0f921"
             ]
            ],
            "type": "histogram2d"
           }
          ],
          "histogram2dcontour": [
           {
            "colorbar": {
             "outlinewidth": 0,
             "ticks": ""
            },
            "colorscale": [
             [
              0,
              "#0d0887"
             ],
             [
              0.1111111111111111,
              "#46039f"
             ],
             [
              0.2222222222222222,
              "#7201a8"
             ],
             [
              0.3333333333333333,
              "#9c179e"
             ],
             [
              0.4444444444444444,
              "#bd3786"
             ],
             [
              0.5555555555555556,
              "#d8576b"
             ],
             [
              0.6666666666666666,
              "#ed7953"
             ],
             [
              0.7777777777777778,
              "#fb9f3a"
             ],
             [
              0.8888888888888888,
              "#fdca26"
             ],
             [
              1,
              "#f0f921"
             ]
            ],
            "type": "histogram2dcontour"
           }
          ],
          "mesh3d": [
           {
            "colorbar": {
             "outlinewidth": 0,
             "ticks": ""
            },
            "type": "mesh3d"
           }
          ],
          "parcoords": [
           {
            "line": {
             "colorbar": {
              "outlinewidth": 0,
              "ticks": ""
             }
            },
            "type": "parcoords"
           }
          ],
          "pie": [
           {
            "automargin": true,
            "type": "pie"
           }
          ],
          "scatter": [
           {
            "fillpattern": {
             "fillmode": "overlay",
             "size": 10,
             "solidity": 0.2
            },
            "type": "scatter"
           }
          ],
          "scatter3d": [
           {
            "line": {
             "colorbar": {
              "outlinewidth": 0,
              "ticks": ""
             }
            },
            "marker": {
             "colorbar": {
              "outlinewidth": 0,
              "ticks": ""
             }
            },
            "type": "scatter3d"
           }
          ],
          "scattercarpet": [
           {
            "marker": {
             "colorbar": {
              "outlinewidth": 0,
              "ticks": ""
             }
            },
            "type": "scattercarpet"
           }
          ],
          "scattergeo": [
           {
            "marker": {
             "colorbar": {
              "outlinewidth": 0,
              "ticks": ""
             }
            },
            "type": "scattergeo"
           }
          ],
          "scattergl": [
           {
            "marker": {
             "colorbar": {
              "outlinewidth": 0,
              "ticks": ""
             }
            },
            "type": "scattergl"
           }
          ],
          "scattermapbox": [
           {
            "marker": {
             "colorbar": {
              "outlinewidth": 0,
              "ticks": ""
             }
            },
            "type": "scattermapbox"
           }
          ],
          "scatterpolar": [
           {
            "marker": {
             "colorbar": {
              "outlinewidth": 0,
              "ticks": ""
             }
            },
            "type": "scatterpolar"
           }
          ],
          "scatterpolargl": [
           {
            "marker": {
             "colorbar": {
              "outlinewidth": 0,
              "ticks": ""
             }
            },
            "type": "scatterpolargl"
           }
          ],
          "scatterternary": [
           {
            "marker": {
             "colorbar": {
              "outlinewidth": 0,
              "ticks": ""
             }
            },
            "type": "scatterternary"
           }
          ],
          "surface": [
           {
            "colorbar": {
             "outlinewidth": 0,
             "ticks": ""
            },
            "colorscale": [
             [
              0,
              "#0d0887"
             ],
             [
              0.1111111111111111,
              "#46039f"
             ],
             [
              0.2222222222222222,
              "#7201a8"
             ],
             [
              0.3333333333333333,
              "#9c179e"
             ],
             [
              0.4444444444444444,
              "#bd3786"
             ],
             [
              0.5555555555555556,
              "#d8576b"
             ],
             [
              0.6666666666666666,
              "#ed7953"
             ],
             [
              0.7777777777777778,
              "#fb9f3a"
             ],
             [
              0.8888888888888888,
              "#fdca26"
             ],
             [
              1,
              "#f0f921"
             ]
            ],
            "type": "surface"
           }
          ],
          "table": [
           {
            "cells": {
             "fill": {
              "color": "#EBF0F8"
             },
             "line": {
              "color": "white"
             }
            },
            "header": {
             "fill": {
              "color": "#C8D4E3"
             },
             "line": {
              "color": "white"
             }
            },
            "type": "table"
           }
          ]
         },
         "layout": {
          "annotationdefaults": {
           "arrowcolor": "#2a3f5f",
           "arrowhead": 0,
           "arrowwidth": 1
          },
          "autotypenumbers": "strict",
          "coloraxis": {
           "colorbar": {
            "outlinewidth": 0,
            "ticks": ""
           }
          },
          "colorscale": {
           "diverging": [
            [
             0,
             "#8e0152"
            ],
            [
             0.1,
             "#c51b7d"
            ],
            [
             0.2,
             "#de77ae"
            ],
            [
             0.3,
             "#f1b6da"
            ],
            [
             0.4,
             "#fde0ef"
            ],
            [
             0.5,
             "#f7f7f7"
            ],
            [
             0.6,
             "#e6f5d0"
            ],
            [
             0.7,
             "#b8e186"
            ],
            [
             0.8,
             "#7fbc41"
            ],
            [
             0.9,
             "#4d9221"
            ],
            [
             1,
             "#276419"
            ]
           ],
           "sequential": [
            [
             0,
             "#0d0887"
            ],
            [
             0.1111111111111111,
             "#46039f"
            ],
            [
             0.2222222222222222,
             "#7201a8"
            ],
            [
             0.3333333333333333,
             "#9c179e"
            ],
            [
             0.4444444444444444,
             "#bd3786"
            ],
            [
             0.5555555555555556,
             "#d8576b"
            ],
            [
             0.6666666666666666,
             "#ed7953"
            ],
            [
             0.7777777777777778,
             "#fb9f3a"
            ],
            [
             0.8888888888888888,
             "#fdca26"
            ],
            [
             1,
             "#f0f921"
            ]
           ],
           "sequentialminus": [
            [
             0,
             "#0d0887"
            ],
            [
             0.1111111111111111,
             "#46039f"
            ],
            [
             0.2222222222222222,
             "#7201a8"
            ],
            [
             0.3333333333333333,
             "#9c179e"
            ],
            [
             0.4444444444444444,
             "#bd3786"
            ],
            [
             0.5555555555555556,
             "#d8576b"
            ],
            [
             0.6666666666666666,
             "#ed7953"
            ],
            [
             0.7777777777777778,
             "#fb9f3a"
            ],
            [
             0.8888888888888888,
             "#fdca26"
            ],
            [
             1,
             "#f0f921"
            ]
           ]
          },
          "colorway": [
           "#636efa",
           "#EF553B",
           "#00cc96",
           "#ab63fa",
           "#FFA15A",
           "#19d3f3",
           "#FF6692",
           "#B6E880",
           "#FF97FF",
           "#FECB52"
          ],
          "font": {
           "color": "#2a3f5f"
          },
          "geo": {
           "bgcolor": "white",
           "lakecolor": "white",
           "landcolor": "white",
           "showlakes": true,
           "showland": true,
           "subunitcolor": "#C8D4E3"
          },
          "hoverlabel": {
           "align": "left"
          },
          "hovermode": "closest",
          "mapbox": {
           "style": "light"
          },
          "paper_bgcolor": "white",
          "plot_bgcolor": "white",
          "polar": {
           "angularaxis": {
            "gridcolor": "#EBF0F8",
            "linecolor": "#EBF0F8",
            "ticks": ""
           },
           "bgcolor": "white",
           "radialaxis": {
            "gridcolor": "#EBF0F8",
            "linecolor": "#EBF0F8",
            "ticks": ""
           }
          },
          "scene": {
           "xaxis": {
            "backgroundcolor": "white",
            "gridcolor": "#DFE8F3",
            "gridwidth": 2,
            "linecolor": "#EBF0F8",
            "showbackground": true,
            "ticks": "",
            "zerolinecolor": "#EBF0F8"
           },
           "yaxis": {
            "backgroundcolor": "white",
            "gridcolor": "#DFE8F3",
            "gridwidth": 2,
            "linecolor": "#EBF0F8",
            "showbackground": true,
            "ticks": "",
            "zerolinecolor": "#EBF0F8"
           },
           "zaxis": {
            "backgroundcolor": "white",
            "gridcolor": "#DFE8F3",
            "gridwidth": 2,
            "linecolor": "#EBF0F8",
            "showbackground": true,
            "ticks": "",
            "zerolinecolor": "#EBF0F8"
           }
          },
          "shapedefaults": {
           "line": {
            "color": "#2a3f5f"
           }
          },
          "ternary": {
           "aaxis": {
            "gridcolor": "#DFE8F3",
            "linecolor": "#A2B1C6",
            "ticks": ""
           },
           "baxis": {
            "gridcolor": "#DFE8F3",
            "linecolor": "#A2B1C6",
            "ticks": ""
           },
           "bgcolor": "white",
           "caxis": {
            "gridcolor": "#DFE8F3",
            "linecolor": "#A2B1C6",
            "ticks": ""
           }
          },
          "title": {
           "x": 0.05
          },
          "xaxis": {
           "automargin": true,
           "gridcolor": "#EBF0F8",
           "linecolor": "#EBF0F8",
           "ticks": "",
           "title": {
            "standoff": 15
           },
           "zerolinecolor": "#EBF0F8",
           "zerolinewidth": 2
          },
          "yaxis": {
           "automargin": true,
           "gridcolor": "#EBF0F8",
           "linecolor": "#EBF0F8",
           "ticks": "",
           "title": {
            "standoff": 15
           },
           "zerolinecolor": "#EBF0F8",
           "zerolinewidth": 2
          }
         }
        },
        "title": {
         "text": "Selling Price by Year and Transmission"
        },
        "xaxis": {
         "anchor": "y",
         "domain": [
          0,
          1
         ],
         "title": {
          "text": "Year"
         }
        },
        "yaxis": {
         "anchor": "x",
         "domain": [
          0,
          1
         ],
         "title": {
          "text": "Selling Price"
         }
        }
       }
      }
     },
     "metadata": {},
     "output_type": "display_data"
    }
   ],
   "source": [
    "fig4 = px.bar(cars, \n",
    "              x='Year', \n",
    "              y='Selling_Price', \n",
    "              color='Transmission', \n",
    "              barmode='stack',\n",
    "              title='Selling Price by Year and Transmission',\n",
    "              labels={'Selling_Price': 'Selling Price', 'Year': 'Year'},\n",
    "              template='plotly_white',\n",
    "              color_discrete_map={'Manual': '#FFD700', 'Automatic': '#4B0082'})  \n",
    "\n",
    "fig4.update_layout(\n",
    "    xaxis=dict(title='Year'),\n",
    "    yaxis=dict(title='Selling Price'),\n",
    ")\n",
    "\n",
    "fig4.show()"
   ]
  },
  {
   "cell_type": "code",
   "execution_count": 541,
   "metadata": {},
   "outputs": [
    {
     "data": {
      "application/vnd.plotly.v1+json": {
       "config": {
        "plotlyServerURL": "https://plot.ly"
       },
       "data": [
        {
         "hovertemplate": "<b>%{hovertext}</b><br><br>Present Price=%{x}<br>Selling Price=%{y}<br>Year=%{marker.color}<extra></extra>",
         "hovertext": [
          "ritz",
          "sx4",
          "ciaz",
          "wagon r",
          "swift",
          "vitara brezza",
          "ciaz",
          "s cross",
          "ciaz",
          "ciaz",
          "alto 800",
          "ciaz",
          "ciaz",
          "ertiga",
          "dzire",
          "ertiga",
          "ertiga",
          "ertiga",
          "wagon r",
          "sx4",
          "alto k10",
          "ignis",
          "sx4",
          "alto k10",
          "wagon r",
          "swift",
          "swift",
          "swift",
          "alto k10",
          "ciaz",
          "ritz",
          "ritz",
          "swift",
          "ertiga",
          "dzire",
          "sx4",
          "dzire",
          "800",
          "alto k10",
          "sx4",
          "baleno",
          "alto k10",
          "sx4",
          "dzire",
          "omni",
          "ciaz",
          "ritz",
          "wagon r",
          "ertiga",
          "ciaz",
          "fortuner",
          "fortuner",
          "innova",
          "fortuner",
          "innova",
          "corolla altis",
          "etios cross",
          "corolla altis",
          "etios g",
          "fortuner",
          "corolla altis",
          "etios cross",
          "fortuner",
          "fortuner",
          "fortuner",
          "etios liva",
          "innova",
          "fortuner",
          "corolla altis",
          "corolla altis",
          "etios liva",
          "corolla altis",
          "corolla altis",
          "etios liva",
          "etios cross",
          "etios g",
          "corolla altis",
          "corolla",
          "corolla altis",
          "fortuner",
          "corolla altis",
          "etios gd",
          "innova",
          "innova",
          "innova",
          "camry",
          "land cruiser",
          "corolla altis",
          "etios liva",
          "etios g",
          "corolla altis",
          "innova",
          "innova",
          "fortuner",
          "corolla altis",
          "corolla altis",
          "innova",
          "corolla altis",
          "corolla altis",
          "fortuner",
          "Royal Enfield Thunder 500",
          "UM Renegade Mojave",
          "KTM RC200",
          "Bajaj Dominar 400",
          "Royal Enfield Classic 350",
          "KTM RC390",
          "Hyosung GT250R",
          "Royal Enfield Thunder 350",
          "Royal Enfield Thunder 350",
          "Royal Enfield Classic 350",
          "KTM RC200",
          "Royal Enfield Thunder 350",
          "KTM 390 Duke ",
          "Mahindra Mojo XT300",
          "Royal Enfield Classic 350",
          "Royal Enfield Classic 350",
          "Royal Enfield Classic 350",
          "Royal Enfield Thunder 500",
          "Royal Enfield Classic 350",
          "Royal Enfield Thunder 500",
          "Bajaj Pulsar RS200",
          "Royal Enfield Thunder 350",
          "Royal Enfield Bullet 350",
          "Royal Enfield Classic 350",
          "Royal Enfield Classic 500",
          "Royal Enfield Classic 500",
          "Bajaj Avenger 220",
          "Bajaj Avenger 150",
          "Honda CB Hornet 160R",
          "Yamaha FZ S V 2.0",
          "Honda CB Hornet 160R",
          "Yamaha FZ 16",
          "Bajaj Avenger 220",
          "Bajaj Avenger 220",
          "TVS Apache RTR 160",
          "Bajaj Pulsar 150",
          "Honda CBR 150",
          "Hero Extreme",
          "Honda CB Hornet 160R",
          "Bajaj Avenger 220 dtsi",
          "Honda CBR 150",
          "Bajaj Avenger 150 street",
          "Yamaha FZ  v 2.0",
          "Yamaha FZ  v 2.0",
          "Bajaj Pulsar  NS 200",
          "TVS Apache RTR 160",
          "Hero Extreme",
          "Yamaha FZ S V 2.0",
          "Bajaj Pulsar 220 F",
          "Bajaj Pulsar 220 F",
          "TVS Apache RTR 180",
          "Hero Passion X pro",
          "Bajaj Pulsar NS 200",
          "Bajaj Pulsar NS 200",
          "Yamaha Fazer ",
          "Honda Activa 4G",
          "TVS Sport ",
          "Yamaha FZ S V 2.0",
          "Honda Dream Yuga ",
          "Honda Activa 4G",
          "Bajaj Avenger Street 220",
          "TVS Apache RTR 180",
          "Bajaj Pulsar NS 200",
          "Bajaj Avenger 220 dtsi",
          "Hero Splender iSmart",
          "Activa 3g",
          "Hero Passion Pro",
          "TVS Apache RTR 160",
          "Honda CB Trigger",
          "Hero Splender iSmart",
          "Yamaha FZ S ",
          "Hero Passion Pro",
          "Bajaj Pulsar 135 LS",
          "Activa 4g",
          "Honda CB Unicorn",
          "Hero Honda CBZ extreme",
          "Honda Karizma",
          "Honda Activa 125",
          "TVS Jupyter",
          "Honda Karizma",
          "Hero Honda Passion Pro",
          "Hero Splender Plus",
          "Honda CB Shine",
          "Bajaj Discover 100",
          "Bajaj Pulsar 150",
          "Suzuki Access 125",
          "TVS Wego",
          "Honda CB twister",
          "Hero Glamour",
          "Hero Super Splendor",
          "Bajaj Pulsar 150",
          "Bajaj Discover 125",
          "Hero Hunk",
          "Hero  Ignitor Disc",
          "Hero  CBZ Xtreme",
          "Bajaj  ct 100",
          "Activa 3g",
          "Honda CB twister",
          "Bajaj Discover 125",
          "Honda CB Shine",
          "Bajaj Pulsar 150",
          "i20",
          "grand i10",
          "i10",
          "eon",
          "grand i10",
          "xcent",
          "grand i10",
          "i20",
          "grand i10",
          "i10",
          "elantra",
          "creta",
          "i20",
          "grand i10",
          "verna",
          "eon",
          "eon",
          "verna",
          "verna",
          "eon",
          "i20",
          "i20",
          "verna",
          "verna",
          "i10",
          "grand i10",
          "i10",
          "verna",
          "i20",
          "verna",
          "verna",
          "elantra",
          "grand i10",
          "grand i10",
          "verna",
          "eon",
          "creta",
          "verna",
          "eon",
          "verna",
          "xcent",
          "xcent",
          "i20",
          "verna",
          "verna",
          "i20",
          "verna",
          "i10",
          "i20",
          "creta",
          "city",
          "brio",
          "city",
          "city",
          "brio",
          "city",
          "city",
          "city",
          "amaze",
          "city",
          "brio",
          "amaze",
          "jazz",
          "amaze",
          "jazz",
          "amaze",
          "city",
          "brio",
          "city",
          "city",
          "city",
          "city",
          "jazz",
          "brio",
          "city",
          "city",
          "city",
          "jazz",
          "city",
          "brio",
          "city",
          "city",
          "city",
          "brio",
          "jazz",
          "jazz",
          "amaze",
          "city",
          "city",
          "amaze",
          "brio",
          "jazz",
          "city",
          "amaze",
          "city",
          "city",
          "brio",
          "city",
          "city",
          "brio"
         ],
         "legendgroup": "",
         "marker": {
          "color": [
           2014,
           2013,
           2017,
           2011,
           2014,
           2018,
           2015,
           2015,
           2016,
           2015,
           2017,
           2015,
           2015,
           2015,
           2009,
           2016,
           2015,
           2016,
           2015,
           2010,
           2016,
           2017,
           2011,
           2014,
           2013,
           2011,
           2013,
           2017,
           2010,
           2015,
           2012,
           2011,
           2014,
           2014,
           2014,
           2011,
           2015,
           2003,
           2016,
           2003,
           2016,
           2014,
           2008,
           2014,
           2012,
           2014,
           2013,
           2006,
           2015,
           2017,
           2012,
           2015,
           2017,
           2013,
           2005,
           2009,
           2015,
           2010,
           2014,
           2014,
           2013,
           2015,
           2014,
           2015,
           2017,
           2014,
           2017,
           2010,
           2011,
           2016,
           2014,
           2011,
           2013,
           2011,
           2014,
           2015,
           2013,
           2004,
           2010,
           2012,
           2016,
           2015,
           2017,
           2015,
           2005,
           2006,
           2010,
           2012,
           2013,
           2014,
           2009,
           2014,
           2005,
           2015,
           2008,
           2012,
           2016,
           2017,
           2013,
           2010,
           2016,
           2017,
           2017,
           2017,
           2017,
           2015,
           2014,
           2013,
           2016,
           2017,
           2016,
           2016,
           2014,
           2016,
           2015,
           2015,
           2013,
           2015,
           2015,
           2013,
           2016,
           2011,
           2016,
           2013,
           2012,
           2009,
           2017,
           2016,
           2017,
           2017,
           2017,
           2015,
           2017,
           2016,
           2017,
           2015,
           2014,
           2013,
           2016,
           2015,
           2013,
           2016,
           2015,
           2016,
           2014,
           2012,
           2014,
           2015,
           2010,
           2016,
           2011,
           2016,
           2012,
           2013,
           2014,
           2017,
           2017,
           2015,
           2017,
           2017,
           2011,
           2014,
           2012,
           2010,
           2016,
           2016,
           2016,
           2014,
           2013,
           2015,
           2012,
           2015,
           2014,
           2017,
           2015,
           2011,
           2011,
           2016,
           2014,
           2010,
           2012,
           2016,
           2013,
           2013,
           2008,
           2008,
           2010,
           2013,
           2013,
           2005,
           2008,
           2012,
           2007,
           2013,
           2008,
           2015,
           2008,
           2010,
           2011,
           2007,
           2006,
           2010,
           2015,
           2011,
           2015,
           2016,
           2017,
           2015,
           2017,
           2015,
           2012,
           2015,
           2016,
           2011,
           2017,
           2012,
           2016,
           2016,
           2014,
           2012,
           2017,
           2013,
           2014,
           2015,
           2013,
           2011,
           2015,
           2011,
           2012,
           2012,
           2013,
           2017,
           2015,
           2013,
           2015,
           2017,
           2016,
           2015,
           2013,
           2012,
           2012,
           2015,
           2014,
           2016,
           2013,
           2012,
           2012,
           2015,
           2013,
           2016,
           2016,
           2013,
           2015,
           2014,
           2013,
           2012,
           2016,
           2015,
           2015,
           2014,
           2016,
           2016,
           2015,
           2016,
           2015,
           2017,
           2014,
           2016,
           2017,
           2015,
           2011,
           2009,
           2015,
           2010,
           2014,
           2016,
           2015,
           2015,
           2016,
           2014,
           2015,
           2006,
           2014,
           2016,
           2013,
           2016,
           2016,
           2015,
           2015,
           2016,
           2014,
           2015,
           2016,
           2010,
           2014,
           2015,
           2016,
           2015,
           2009,
           2017,
           2016
          ],
          "coloraxis": "coloraxis",
          "size": [
           2014,
           2013,
           2017,
           2011,
           2014,
           2018,
           2015,
           2015,
           2016,
           2015,
           2017,
           2015,
           2015,
           2015,
           2009,
           2016,
           2015,
           2016,
           2015,
           2010,
           2016,
           2017,
           2011,
           2014,
           2013,
           2011,
           2013,
           2017,
           2010,
           2015,
           2012,
           2011,
           2014,
           2014,
           2014,
           2011,
           2015,
           2003,
           2016,
           2003,
           2016,
           2014,
           2008,
           2014,
           2012,
           2014,
           2013,
           2006,
           2015,
           2017,
           2012,
           2015,
           2017,
           2013,
           2005,
           2009,
           2015,
           2010,
           2014,
           2014,
           2013,
           2015,
           2014,
           2015,
           2017,
           2014,
           2017,
           2010,
           2011,
           2016,
           2014,
           2011,
           2013,
           2011,
           2014,
           2015,
           2013,
           2004,
           2010,
           2012,
           2016,
           2015,
           2017,
           2015,
           2005,
           2006,
           2010,
           2012,
           2013,
           2014,
           2009,
           2014,
           2005,
           2015,
           2008,
           2012,
           2016,
           2017,
           2013,
           2010,
           2016,
           2017,
           2017,
           2017,
           2017,
           2015,
           2014,
           2013,
           2016,
           2017,
           2016,
           2016,
           2014,
           2016,
           2015,
           2015,
           2013,
           2015,
           2015,
           2013,
           2016,
           2011,
           2016,
           2013,
           2012,
           2009,
           2017,
           2016,
           2017,
           2017,
           2017,
           2015,
           2017,
           2016,
           2017,
           2015,
           2014,
           2013,
           2016,
           2015,
           2013,
           2016,
           2015,
           2016,
           2014,
           2012,
           2014,
           2015,
           2010,
           2016,
           2011,
           2016,
           2012,
           2013,
           2014,
           2017,
           2017,
           2015,
           2017,
           2017,
           2011,
           2014,
           2012,
           2010,
           2016,
           2016,
           2016,
           2014,
           2013,
           2015,
           2012,
           2015,
           2014,
           2017,
           2015,
           2011,
           2011,
           2016,
           2014,
           2010,
           2012,
           2016,
           2013,
           2013,
           2008,
           2008,
           2010,
           2013,
           2013,
           2005,
           2008,
           2012,
           2007,
           2013,
           2008,
           2015,
           2008,
           2010,
           2011,
           2007,
           2006,
           2010,
           2015,
           2011,
           2015,
           2016,
           2017,
           2015,
           2017,
           2015,
           2012,
           2015,
           2016,
           2011,
           2017,
           2012,
           2016,
           2016,
           2014,
           2012,
           2017,
           2013,
           2014,
           2015,
           2013,
           2011,
           2015,
           2011,
           2012,
           2012,
           2013,
           2017,
           2015,
           2013,
           2015,
           2017,
           2016,
           2015,
           2013,
           2012,
           2012,
           2015,
           2014,
           2016,
           2013,
           2012,
           2012,
           2015,
           2013,
           2016,
           2016,
           2013,
           2015,
           2014,
           2013,
           2012,
           2016,
           2015,
           2015,
           2014,
           2016,
           2016,
           2015,
           2016,
           2015,
           2017,
           2014,
           2016,
           2017,
           2015,
           2011,
           2009,
           2015,
           2010,
           2014,
           2016,
           2015,
           2015,
           2016,
           2014,
           2015,
           2006,
           2014,
           2016,
           2013,
           2016,
           2016,
           2015,
           2015,
           2016,
           2014,
           2015,
           2016,
           2010,
           2014,
           2015,
           2016,
           2015,
           2009,
           2017,
           2016
          ],
          "sizemode": "area",
          "sizeref": 5.045,
          "symbol": "circle"
         },
         "mode": "markers",
         "name": "",
         "orientation": "v",
         "showlegend": false,
         "type": "scatter",
         "x": [
          5.59,
          9.54,
          9.85,
          4.15,
          6.87,
          9.83,
          8.12,
          8.61,
          8.89,
          8.92,
          3.6,
          10.38,
          9.94,
          7.71,
          7.21,
          10.79,
          10.79,
          10.79,
          5.09,
          7.98,
          3.95,
          5.71,
          8.01,
          3.46,
          4.41,
          4.99,
          5.87,
          6.49,
          3.95,
          10.38,
          5.98,
          4.89,
          7.49,
          9.95,
          8.06,
          7.74,
          7.2,
          2.28,
          3.76,
          7.98,
          7.87,
          3.98,
          7.15,
          8.06,
          2.69,
          12.04,
          4.89,
          4.15,
          7.71,
          9.29,
          30.61,
          30.61,
          19.77,
          30.61,
          10.21,
          15.04,
          7.27,
          18.54,
          6.8,
          35.96,
          18.61,
          7.7,
          35.96,
          35.96,
          36.23,
          6.95,
          23.15,
          20.45,
          13.74,
          20.91,
          6.76,
          12.48,
          18.61,
          5.71,
          8.93,
          6.8,
          14.68,
          12.35,
          22.83,
          30.61,
          14.89,
          7.85,
          25.39,
          13.46,
          13.46,
          23.73,
          92.6,
          13.74,
          6.05,
          6.76,
          18.61,
          16.09,
          13.7,
          30.61,
          22.78,
          18.61,
          25.39,
          18.64,
          18.61,
          20.45,
          1.9,
          1.82,
          1.78,
          1.6,
          1.47,
          2.37,
          3.45,
          1.5,
          1.5,
          1.47,
          1.78,
          1.5,
          2.4,
          1.4,
          1.47,
          1.47,
          1.47,
          1.9,
          1.47,
          1.9,
          1.26,
          1.5,
          1.17,
          1.47,
          1.75,
          1.75,
          0.95,
          0.8,
          0.87,
          0.84,
          0.87,
          0.82,
          0.95,
          0.95,
          0.81,
          0.74,
          1.2,
          0.787,
          0.87,
          0.95,
          1.2,
          0.8,
          0.84,
          0.84,
          0.99,
          0.81,
          0.787,
          0.84,
          0.94,
          0.94,
          0.826,
          0.55,
          0.99,
          0.99,
          0.88,
          0.51,
          0.52,
          0.84,
          0.54,
          0.51,
          0.95,
          0.826,
          0.99,
          0.95,
          0.54,
          0.54,
          0.55,
          0.81,
          0.73,
          0.54,
          0.83,
          0.55,
          0.64,
          0.51,
          0.72,
          0.787,
          1.05,
          0.57,
          0.52,
          1.05,
          0.51,
          0.48,
          0.58,
          0.47,
          0.75,
          0.58,
          0.52,
          0.51,
          0.57,
          0.57,
          0.75,
          0.57,
          0.75,
          0.65,
          0.787,
          0.32,
          0.52,
          0.51,
          0.57,
          0.58,
          0.75,
          6.79,
          5.7,
          4.6,
          4.43,
          5.7,
          7.13,
          5.7,
          8.1,
          5.7,
          4.6,
          14.79,
          13.6,
          6.79,
          5.7,
          9.4,
          4.43,
          4.43,
          8.4,
          9.4,
          5.43,
          6.79,
          7.6,
          9.4,
          9.4,
          4.6,
          5.7,
          4.43,
          9.4,
          6.79,
          9.4,
          9.4,
          14.79,
          5.7,
          5.7,
          9.4,
          4.43,
          13.6,
          9.4,
          4.43,
          9.4,
          7.13,
          7.13,
          7.6,
          9.4,
          9.4,
          6.79,
          9.4,
          4.6,
          7.6,
          13.6,
          9.9,
          6.82,
          9.9,
          9.9,
          5.35,
          13.6,
          13.6,
          13.6,
          7,
          13.6,
          5.97,
          5.8,
          7.7,
          7,
          8.7,
          7,
          9.4,
          5.8,
          10,
          10,
          10,
          10,
          7.5,
          6.8,
          13.6,
          13.6,
          13.6,
          8.4,
          13.6,
          5.9,
          7.6,
          14,
          11.8,
          5.9,
          8.5,
          7.9,
          7.5,
          13.6,
          13.6,
          6.4,
          6.1,
          8.4,
          9.9,
          6.8,
          13.09,
          11.6,
          5.9,
          11,
          12.5,
          5.9
         ],
         "xaxis": "x",
         "y": [
          3.35,
          4.75,
          7.25,
          2.85,
          4.6,
          9.25,
          6.75,
          6.5,
          8.75,
          7.45,
          2.85,
          6.85,
          7.5,
          6.1,
          2.25,
          7.75,
          7.25,
          7.75,
          3.25,
          2.65,
          2.85,
          4.9,
          4.4,
          2.5,
          2.9,
          3,
          4.15,
          6,
          1.95,
          7.45,
          3.1,
          2.35,
          4.95,
          6,
          5.5,
          2.95,
          4.65,
          0.35,
          3,
          2.25,
          5.85,
          2.55,
          1.95,
          5.5,
          1.25,
          7.5,
          2.65,
          1.05,
          5.8,
          7.75,
          14.9,
          23,
          18,
          16,
          2.75,
          3.6,
          4.5,
          4.75,
          4.1,
          19.99,
          6.95,
          4.5,
          18.75,
          23.5,
          33,
          4.75,
          19.75,
          9.25,
          4.35,
          14.25,
          3.95,
          4.5,
          7.45,
          2.65,
          4.9,
          3.95,
          5.5,
          1.5,
          5.25,
          14.5,
          14.73,
          4.75,
          23,
          12.5,
          3.49,
          2.5,
          35,
          5.9,
          3.45,
          4.75,
          3.8,
          11.25,
          3.51,
          23,
          4,
          5.85,
          20.75,
          17,
          7.05,
          9.65,
          1.75,
          1.7,
          1.65,
          1.45,
          1.35,
          1.35,
          1.35,
          1.25,
          1.2,
          1.2,
          1.2,
          1.15,
          1.15,
          1.15,
          1.15,
          1.11,
          1.1,
          1.1,
          1.1,
          1.05,
          1.05,
          1.05,
          1.05,
          1,
          0.95,
          0.9,
          0.9,
          0.75,
          0.8,
          0.78,
          0.75,
          0.75,
          0.75,
          0.72,
          0.65,
          0.65,
          0.65,
          0.65,
          0.6,
          0.6,
          0.6,
          0.6,
          0.6,
          0.6,
          0.6,
          0.6,
          0.55,
          0.55,
          0.52,
          0.51,
          0.5,
          0.5,
          0.5,
          0.5,
          0.5,
          0.48,
          0.48,
          0.48,
          0.48,
          0.45,
          0.45,
          0.45,
          0.45,
          0.45,
          0.45,
          0.45,
          0.45,
          0.42,
          0.42,
          0.4,
          0.4,
          0.4,
          0.4,
          0.4,
          0.38,
          0.38,
          0.35,
          0.35,
          0.35,
          0.31,
          0.3,
          0.3,
          0.3,
          0.27,
          0.25,
          0.25,
          0.25,
          0.25,
          0.25,
          0.2,
          0.2,
          0.2,
          0.2,
          0.2,
          0.2,
          0.18,
          0.17,
          0.16,
          0.15,
          0.12,
          0.1,
          3.25,
          4.4,
          2.95,
          2.75,
          5.25,
          5.75,
          5.15,
          7.9,
          4.85,
          3.1,
          11.75,
          11.25,
          2.9,
          5.25,
          4.5,
          2.9,
          3.15,
          6.45,
          4.5,
          3.5,
          4.5,
          6,
          8.25,
          5.11,
          2.7,
          5.25,
          2.55,
          4.95,
          3.1,
          6.15,
          9.25,
          11.45,
          3.9,
          5.5,
          9.1,
          3.1,
          11.25,
          4.8,
          2,
          5.35,
          4.75,
          4.4,
          6.25,
          5.95,
          5.2,
          3.75,
          5.95,
          4,
          5.25,
          12.9,
          5,
          5.4,
          7.2,
          5.25,
          3,
          10.25,
          8.5,
          8.4,
          3.9,
          9.15,
          5.5,
          4,
          6.6,
          4,
          6.5,
          3.65,
          8.35,
          4.8,
          6.7,
          4.1,
          3,
          7.5,
          2.25,
          5.3,
          10.9,
          8.65,
          9.7,
          6,
          6.25,
          5.25,
          2.1,
          8.25,
          8.99,
          3.5,
          7.4,
          5.65,
          5.75,
          8.4,
          10.11,
          4.5,
          5.4,
          6.4,
          3.25,
          3.75,
          8.55,
          9.5,
          4,
          3.35,
          11.5,
          5.3
         ],
         "yaxis": "y"
        },
        {
         "hovertemplate": "<b>OLS trendline</b><br>Selling_Price = 0.516901 * Present_Price + 0.718135<br>R<sup>2</sup>=0.772491<br><br>Present Price=%{x}<br>Selling Price=%{y} <b>(trend)</b><extra></extra>",
         "legendgroup": "",
         "marker": {
          "symbol": "circle"
         },
         "mode": "lines",
         "name": "",
         "showlegend": false,
         "type": "scatter",
         "x": [
          0.32,
          0.47,
          0.48,
          0.51,
          0.51,
          0.51,
          0.51,
          0.51,
          0.51,
          0.52,
          0.52,
          0.52,
          0.52,
          0.54,
          0.54,
          0.54,
          0.54,
          0.55,
          0.55,
          0.55,
          0.57,
          0.57,
          0.57,
          0.57,
          0.57,
          0.58,
          0.58,
          0.58,
          0.64,
          0.65,
          0.72,
          0.73,
          0.74,
          0.75,
          0.75,
          0.75,
          0.75,
          0.787,
          0.787,
          0.787,
          0.787,
          0.8,
          0.8,
          0.81,
          0.81,
          0.81,
          0.82,
          0.826,
          0.826,
          0.83,
          0.84,
          0.84,
          0.84,
          0.84,
          0.84,
          0.87,
          0.87,
          0.87,
          0.88,
          0.94,
          0.94,
          0.95,
          0.95,
          0.95,
          0.95,
          0.95,
          0.95,
          0.99,
          0.99,
          0.99,
          0.99,
          1.05,
          1.05,
          1.17,
          1.2,
          1.2,
          1.26,
          1.4,
          1.47,
          1.47,
          1.47,
          1.47,
          1.47,
          1.47,
          1.47,
          1.5,
          1.5,
          1.5,
          1.5,
          1.6,
          1.75,
          1.75,
          1.78,
          1.78,
          1.82,
          1.9,
          1.9,
          1.9,
          2.28,
          2.37,
          2.4,
          2.69,
          3.45,
          3.46,
          3.6,
          3.76,
          3.95,
          3.95,
          3.98,
          4.15,
          4.15,
          4.41,
          4.43,
          4.43,
          4.43,
          4.43,
          4.43,
          4.43,
          4.6,
          4.6,
          4.6,
          4.6,
          4.89,
          4.89,
          4.99,
          5.09,
          5.35,
          5.43,
          5.59,
          5.7,
          5.7,
          5.7,
          5.7,
          5.7,
          5.7,
          5.7,
          5.7,
          5.71,
          5.71,
          5.8,
          5.8,
          5.87,
          5.9,
          5.9,
          5.9,
          5.9,
          5.97,
          5.98,
          6.05,
          6.1,
          6.4,
          6.49,
          6.76,
          6.76,
          6.79,
          6.79,
          6.79,
          6.79,
          6.79,
          6.8,
          6.8,
          6.8,
          6.8,
          6.82,
          6.87,
          6.95,
          7,
          7,
          7,
          7.13,
          7.13,
          7.13,
          7.15,
          7.2,
          7.21,
          7.27,
          7.49,
          7.5,
          7.5,
          7.6,
          7.6,
          7.6,
          7.6,
          7.7,
          7.7,
          7.71,
          7.71,
          7.74,
          7.85,
          7.87,
          7.9,
          7.98,
          7.98,
          8.01,
          8.06,
          8.06,
          8.1,
          8.12,
          8.4,
          8.4,
          8.4,
          8.5,
          8.61,
          8.7,
          8.89,
          8.92,
          8.93,
          9.29,
          9.4,
          9.4,
          9.4,
          9.4,
          9.4,
          9.4,
          9.4,
          9.4,
          9.4,
          9.4,
          9.4,
          9.4,
          9.4,
          9.4,
          9.54,
          9.83,
          9.85,
          9.9,
          9.9,
          9.9,
          9.9,
          9.94,
          9.95,
          10,
          10,
          10,
          10,
          10.21,
          10.38,
          10.38,
          10.79,
          10.79,
          10.79,
          11,
          11.6,
          11.8,
          12.04,
          12.35,
          12.48,
          12.5,
          13.09,
          13.46,
          13.46,
          13.6,
          13.6,
          13.6,
          13.6,
          13.6,
          13.6,
          13.6,
          13.6,
          13.6,
          13.6,
          13.6,
          13.6,
          13.6,
          13.7,
          13.74,
          13.74,
          14,
          14.68,
          14.79,
          14.79,
          14.89,
          15.04,
          16.09,
          18.54,
          18.61,
          18.61,
          18.61,
          18.61,
          18.61,
          18.64,
          19.77,
          20.45,
          20.45,
          20.91,
          22.78,
          22.83,
          23.15,
          23.73,
          25.39,
          25.39,
          30.61,
          30.61,
          30.61,
          30.61,
          30.61,
          35.96,
          35.96,
          35.96,
          36.23,
          92.6
         ],
         "xaxis": "x",
         "y": [
          0.8835428533946237,
          0.9610779308631932,
          0.9662469360277645,
          0.9817539515214784,
          0.9817539515214784,
          0.9817539515214784,
          0.9817539515214784,
          0.9817539515214784,
          0.9817539515214784,
          0.9869229566860497,
          0.9869229566860497,
          0.9869229566860497,
          0.9869229566860497,
          0.9972609670151923,
          0.9972609670151923,
          0.9972609670151923,
          0.9972609670151923,
          1.0024299721797636,
          1.0024299721797636,
          1.0024299721797636,
          1.0127679825089062,
          1.0127679825089062,
          1.0127679825089062,
          1.0127679825089062,
          1.0127679825089062,
          1.0179369876734774,
          1.0179369876734774,
          1.0179369876734774,
          1.0489510186609055,
          1.0541200238254766,
          1.0903030599774757,
          1.095472065142047,
          1.1006410703066183,
          1.1058100754711897,
          1.1058100754711897,
          1.1058100754711897,
          1.1058100754711897,
          1.1249353945801035,
          1.1249353945801035,
          1.1249353945801035,
          1.1249353945801035,
          1.1316551012940461,
          1.1316551012940461,
          1.1368241064586175,
          1.1368241064586175,
          1.1368241064586175,
          1.1419931116231887,
          1.1450945147219316,
          1.1450945147219316,
          1.1471621167877601,
          1.1523311219523313,
          1.1523311219523313,
          1.1523311219523313,
          1.1523311219523313,
          1.1523311219523313,
          1.1678381374460454,
          1.1678381374460454,
          1.1678381374460454,
          1.1730071426106166,
          1.2040211735980444,
          1.2040211735980444,
          1.2091901787626158,
          1.2091901787626158,
          1.2091901787626158,
          1.2091901787626158,
          1.2091901787626158,
          1.2091901787626158,
          1.229866199420901,
          1.229866199420901,
          1.229866199420901,
          1.229866199420901,
          1.2608802304083286,
          1.2608802304083286,
          1.3229082923831843,
          1.338415307876898,
          1.338415307876898,
          1.3694293388643262,
          1.4417954111683242,
          1.4779784473203235,
          1.4779784473203235,
          1.4779784473203235,
          1.4779784473203235,
          1.4779784473203235,
          1.4779784473203235,
          1.4779784473203235,
          1.4934854628140375,
          1.4934854628140375,
          1.4934854628140375,
          1.4934854628140375,
          1.5451755144597503,
          1.62271059192832,
          1.62271059192832,
          1.638217607422034,
          1.638217607422034,
          1.6588936280803193,
          1.7002456693968895,
          1.7002456693968895,
          1.7002456693968895,
          1.8966678656505989,
          1.9431889121317407,
          1.9586959276254545,
          2.1085970773980227,
          2.5014414699054415,
          2.506610475070013,
          2.578976547374011,
          2.661680630007152,
          2.7598917281340065,
          2.7598917281340065,
          2.7753987436277203,
          2.863271831425433,
          2.863271831425433,
          2.997665965704287,
          3.008003976033429,
          3.008003976033429,
          3.008003976033429,
          3.008003976033429,
          3.008003976033429,
          3.008003976033429,
          3.095877063831141,
          3.095877063831141,
          3.095877063831141,
          3.095877063831141,
          3.245778213603709,
          3.245778213603709,
          3.2974682652494223,
          3.349158316895135,
          3.483552451173989,
          3.5249044924905593,
          3.6076085751237,
          3.664467631933985,
          3.664467631933985,
          3.664467631933985,
          3.664467631933985,
          3.664467631933985,
          3.664467631933985,
          3.664467631933985,
          3.664467631933985,
          3.669636637098556,
          3.669636637098556,
          3.7161576835796977,
          3.7161576835796977,
          3.7523407197316967,
          3.767847735225411,
          3.767847735225411,
          3.767847735225411,
          3.767847735225411,
          3.8040307713774095,
          3.8091997765419814,
          3.8453828126939804,
          3.8712278385168366,
          4.026297993453976,
          4.072819039935117,
          4.212382179378542,
          4.212382179378542,
          4.227889194872256,
          4.227889194872256,
          4.227889194872256,
          4.227889194872256,
          4.227889194872256,
          4.233058200036828,
          4.233058200036828,
          4.233058200036828,
          4.233058200036828,
          4.243396210365971,
          4.269241236188828,
          4.310593277505397,
          4.336438303328254,
          4.336438303328254,
          4.336438303328254,
          4.403635370467681,
          4.403635370467681,
          4.403635370467681,
          4.413973380796824,
          4.439818406619681,
          4.444987411784251,
          4.476001442771679,
          4.589719556392248,
          4.59488856155682,
          4.59488856155682,
          4.646578613202532,
          4.646578613202532,
          4.646578613202532,
          4.646578613202532,
          4.6982686648482455,
          4.6982686648482455,
          4.703437670012816,
          4.703437670012816,
          4.71894468550653,
          4.775803742316815,
          4.786141752645958,
          4.801648768139671,
          4.8430008094562425,
          4.8430008094562425,
          4.858507824949956,
          4.884352850772813,
          4.884352850772813,
          4.905028871431098,
          4.91536688176024,
          5.060099026368237,
          5.060099026368237,
          5.060099026368237,
          5.11178907801395,
          5.168648134824234,
          5.2151691813053755,
          5.313380279432231,
          5.328887294925944,
          5.3340563000905155,
          5.520140486015082,
          5.576999542825367,
          5.576999542825367,
          5.576999542825367,
          5.576999542825367,
          5.576999542825367,
          5.576999542825367,
          5.576999542825367,
          5.576999542825367,
          5.576999542825367,
          5.576999542825367,
          5.576999542825367,
          5.576999542825367,
          5.576999542825367,
          5.576999542825367,
          5.649365615129365,
          5.799266764901933,
          5.809604775231075,
          5.835449801053932,
          5.835449801053932,
          5.835449801053932,
          5.835449801053932,
          5.856125821712217,
          5.861294826876788,
          5.887139852699645,
          5.887139852699645,
          5.887139852699645,
          5.887139852699645,
          5.9956889611556425,
          6.083562048953355,
          6.083562048953355,
          6.295491260700778,
          6.295491260700778,
          6.295491260700778,
          6.4040403691567755,
          6.714180679031053,
          6.81756078232248,
          6.94161690627219,
          7.101856066373901,
          7.169053133513328,
          7.179391143842471,
          7.484362448552178,
          7.675615639641316,
          7.675615639641316,
          7.747981711945314,
          7.747981711945314,
          7.747981711945314,
          7.747981711945314,
          7.747981711945314,
          7.747981711945314,
          7.747981711945314,
          7.747981711945314,
          7.747981711945314,
          7.747981711945314,
          7.747981711945314,
          7.747981711945314,
          7.747981711945314,
          7.799671763591027,
          7.8203477842493125,
          7.8203477842493125,
          7.954741918528167,
          8.306234269719015,
          8.363093326529299,
          8.363093326529299,
          8.414783378175013,
          8.49231845564358,
          9.035063997923569,
          10.301470263243537,
          10.337653299395537,
          10.337653299395537,
          10.337653299395537,
          10.337653299395537,
          10.337653299395537,
          10.353160314889251,
          10.937257898485807,
          11.288750249676657,
          11.288750249676657,
          11.526524487246938,
          12.493128453021772,
          12.518973478844625,
          12.684381644110907,
          12.984183943656046,
          13.84223880097488,
          13.84223880097488,
          16.540459496881102,
          16.540459496881102,
          16.540459496881102,
          16.540459496881102,
          16.540459496881102,
          19.30587725992675,
          19.30587725992675,
          19.30587725992675,
          19.44544039937017,
          48.58312251205861
         ],
         "yaxis": "y"
        }
       ],
       "layout": {
        "coloraxis": {
         "colorbar": {
          "title": {
           "text": "Year"
          }
         },
         "colorscale": [
          [
           0,
           "#0d0887"
          ],
          [
           0.1111111111111111,
           "#46039f"
          ],
          [
           0.2222222222222222,
           "#7201a8"
          ],
          [
           0.3333333333333333,
           "#9c179e"
          ],
          [
           0.4444444444444444,
           "#bd3786"
          ],
          [
           0.5555555555555556,
           "#d8576b"
          ],
          [
           0.6666666666666666,
           "#ed7953"
          ],
          [
           0.7777777777777778,
           "#fb9f3a"
          ],
          [
           0.8888888888888888,
           "#fdca26"
          ],
          [
           1,
           "#f0f921"
          ]
         ]
        },
        "legend": {
         "itemsizing": "constant",
         "tracegroupgap": 0
        },
        "template": {
         "data": {
          "bar": [
           {
            "error_x": {
             "color": "#2a3f5f"
            },
            "error_y": {
             "color": "#2a3f5f"
            },
            "marker": {
             "line": {
              "color": "white",
              "width": 0.5
             },
             "pattern": {
              "fillmode": "overlay",
              "size": 10,
              "solidity": 0.2
             }
            },
            "type": "bar"
           }
          ],
          "barpolar": [
           {
            "marker": {
             "line": {
              "color": "white",
              "width": 0.5
             },
             "pattern": {
              "fillmode": "overlay",
              "size": 10,
              "solidity": 0.2
             }
            },
            "type": "barpolar"
           }
          ],
          "carpet": [
           {
            "aaxis": {
             "endlinecolor": "#2a3f5f",
             "gridcolor": "#C8D4E3",
             "linecolor": "#C8D4E3",
             "minorgridcolor": "#C8D4E3",
             "startlinecolor": "#2a3f5f"
            },
            "baxis": {
             "endlinecolor": "#2a3f5f",
             "gridcolor": "#C8D4E3",
             "linecolor": "#C8D4E3",
             "minorgridcolor": "#C8D4E3",
             "startlinecolor": "#2a3f5f"
            },
            "type": "carpet"
           }
          ],
          "choropleth": [
           {
            "colorbar": {
             "outlinewidth": 0,
             "ticks": ""
            },
            "type": "choropleth"
           }
          ],
          "contour": [
           {
            "colorbar": {
             "outlinewidth": 0,
             "ticks": ""
            },
            "colorscale": [
             [
              0,
              "#0d0887"
             ],
             [
              0.1111111111111111,
              "#46039f"
             ],
             [
              0.2222222222222222,
              "#7201a8"
             ],
             [
              0.3333333333333333,
              "#9c179e"
             ],
             [
              0.4444444444444444,
              "#bd3786"
             ],
             [
              0.5555555555555556,
              "#d8576b"
             ],
             [
              0.6666666666666666,
              "#ed7953"
             ],
             [
              0.7777777777777778,
              "#fb9f3a"
             ],
             [
              0.8888888888888888,
              "#fdca26"
             ],
             [
              1,
              "#f0f921"
             ]
            ],
            "type": "contour"
           }
          ],
          "contourcarpet": [
           {
            "colorbar": {
             "outlinewidth": 0,
             "ticks": ""
            },
            "type": "contourcarpet"
           }
          ],
          "heatmap": [
           {
            "colorbar": {
             "outlinewidth": 0,
             "ticks": ""
            },
            "colorscale": [
             [
              0,
              "#0d0887"
             ],
             [
              0.1111111111111111,
              "#46039f"
             ],
             [
              0.2222222222222222,
              "#7201a8"
             ],
             [
              0.3333333333333333,
              "#9c179e"
             ],
             [
              0.4444444444444444,
              "#bd3786"
             ],
             [
              0.5555555555555556,
              "#d8576b"
             ],
             [
              0.6666666666666666,
              "#ed7953"
             ],
             [
              0.7777777777777778,
              "#fb9f3a"
             ],
             [
              0.8888888888888888,
              "#fdca26"
             ],
             [
              1,
              "#f0f921"
             ]
            ],
            "type": "heatmap"
           }
          ],
          "heatmapgl": [
           {
            "colorbar": {
             "outlinewidth": 0,
             "ticks": ""
            },
            "colorscale": [
             [
              0,
              "#0d0887"
             ],
             [
              0.1111111111111111,
              "#46039f"
             ],
             [
              0.2222222222222222,
              "#7201a8"
             ],
             [
              0.3333333333333333,
              "#9c179e"
             ],
             [
              0.4444444444444444,
              "#bd3786"
             ],
             [
              0.5555555555555556,
              "#d8576b"
             ],
             [
              0.6666666666666666,
              "#ed7953"
             ],
             [
              0.7777777777777778,
              "#fb9f3a"
             ],
             [
              0.8888888888888888,
              "#fdca26"
             ],
             [
              1,
              "#f0f921"
             ]
            ],
            "type": "heatmapgl"
           }
          ],
          "histogram": [
           {
            "marker": {
             "pattern": {
              "fillmode": "overlay",
              "size": 10,
              "solidity": 0.2
             }
            },
            "type": "histogram"
           }
          ],
          "histogram2d": [
           {
            "colorbar": {
             "outlinewidth": 0,
             "ticks": ""
            },
            "colorscale": [
             [
              0,
              "#0d0887"
             ],
             [
              0.1111111111111111,
              "#46039f"
             ],
             [
              0.2222222222222222,
              "#7201a8"
             ],
             [
              0.3333333333333333,
              "#9c179e"
             ],
             [
              0.4444444444444444,
              "#bd3786"
             ],
             [
              0.5555555555555556,
              "#d8576b"
             ],
             [
              0.6666666666666666,
              "#ed7953"
             ],
             [
              0.7777777777777778,
              "#fb9f3a"
             ],
             [
              0.8888888888888888,
              "#fdca26"
             ],
             [
              1,
              "#f0f921"
             ]
            ],
            "type": "histogram2d"
           }
          ],
          "histogram2dcontour": [
           {
            "colorbar": {
             "outlinewidth": 0,
             "ticks": ""
            },
            "colorscale": [
             [
              0,
              "#0d0887"
             ],
             [
              0.1111111111111111,
              "#46039f"
             ],
             [
              0.2222222222222222,
              "#7201a8"
             ],
             [
              0.3333333333333333,
              "#9c179e"
             ],
             [
              0.4444444444444444,
              "#bd3786"
             ],
             [
              0.5555555555555556,
              "#d8576b"
             ],
             [
              0.6666666666666666,
              "#ed7953"
             ],
             [
              0.7777777777777778,
              "#fb9f3a"
             ],
             [
              0.8888888888888888,
              "#fdca26"
             ],
             [
              1,
              "#f0f921"
             ]
            ],
            "type": "histogram2dcontour"
           }
          ],
          "mesh3d": [
           {
            "colorbar": {
             "outlinewidth": 0,
             "ticks": ""
            },
            "type": "mesh3d"
           }
          ],
          "parcoords": [
           {
            "line": {
             "colorbar": {
              "outlinewidth": 0,
              "ticks": ""
             }
            },
            "type": "parcoords"
           }
          ],
          "pie": [
           {
            "automargin": true,
            "type": "pie"
           }
          ],
          "scatter": [
           {
            "fillpattern": {
             "fillmode": "overlay",
             "size": 10,
             "solidity": 0.2
            },
            "type": "scatter"
           }
          ],
          "scatter3d": [
           {
            "line": {
             "colorbar": {
              "outlinewidth": 0,
              "ticks": ""
             }
            },
            "marker": {
             "colorbar": {
              "outlinewidth": 0,
              "ticks": ""
             }
            },
            "type": "scatter3d"
           }
          ],
          "scattercarpet": [
           {
            "marker": {
             "colorbar": {
              "outlinewidth": 0,
              "ticks": ""
             }
            },
            "type": "scattercarpet"
           }
          ],
          "scattergeo": [
           {
            "marker": {
             "colorbar": {
              "outlinewidth": 0,
              "ticks": ""
             }
            },
            "type": "scattergeo"
           }
          ],
          "scattergl": [
           {
            "marker": {
             "colorbar": {
              "outlinewidth": 0,
              "ticks": ""
             }
            },
            "type": "scattergl"
           }
          ],
          "scattermapbox": [
           {
            "marker": {
             "colorbar": {
              "outlinewidth": 0,
              "ticks": ""
             }
            },
            "type": "scattermapbox"
           }
          ],
          "scatterpolar": [
           {
            "marker": {
             "colorbar": {
              "outlinewidth": 0,
              "ticks": ""
             }
            },
            "type": "scatterpolar"
           }
          ],
          "scatterpolargl": [
           {
            "marker": {
             "colorbar": {
              "outlinewidth": 0,
              "ticks": ""
             }
            },
            "type": "scatterpolargl"
           }
          ],
          "scatterternary": [
           {
            "marker": {
             "colorbar": {
              "outlinewidth": 0,
              "ticks": ""
             }
            },
            "type": "scatterternary"
           }
          ],
          "surface": [
           {
            "colorbar": {
             "outlinewidth": 0,
             "ticks": ""
            },
            "colorscale": [
             [
              0,
              "#0d0887"
             ],
             [
              0.1111111111111111,
              "#46039f"
             ],
             [
              0.2222222222222222,
              "#7201a8"
             ],
             [
              0.3333333333333333,
              "#9c179e"
             ],
             [
              0.4444444444444444,
              "#bd3786"
             ],
             [
              0.5555555555555556,
              "#d8576b"
             ],
             [
              0.6666666666666666,
              "#ed7953"
             ],
             [
              0.7777777777777778,
              "#fb9f3a"
             ],
             [
              0.8888888888888888,
              "#fdca26"
             ],
             [
              1,
              "#f0f921"
             ]
            ],
            "type": "surface"
           }
          ],
          "table": [
           {
            "cells": {
             "fill": {
              "color": "#EBF0F8"
             },
             "line": {
              "color": "white"
             }
            },
            "header": {
             "fill": {
              "color": "#C8D4E3"
             },
             "line": {
              "color": "white"
             }
            },
            "type": "table"
           }
          ]
         },
         "layout": {
          "annotationdefaults": {
           "arrowcolor": "#2a3f5f",
           "arrowhead": 0,
           "arrowwidth": 1
          },
          "autotypenumbers": "strict",
          "coloraxis": {
           "colorbar": {
            "outlinewidth": 0,
            "ticks": ""
           }
          },
          "colorscale": {
           "diverging": [
            [
             0,
             "#8e0152"
            ],
            [
             0.1,
             "#c51b7d"
            ],
            [
             0.2,
             "#de77ae"
            ],
            [
             0.3,
             "#f1b6da"
            ],
            [
             0.4,
             "#fde0ef"
            ],
            [
             0.5,
             "#f7f7f7"
            ],
            [
             0.6,
             "#e6f5d0"
            ],
            [
             0.7,
             "#b8e186"
            ],
            [
             0.8,
             "#7fbc41"
            ],
            [
             0.9,
             "#4d9221"
            ],
            [
             1,
             "#276419"
            ]
           ],
           "sequential": [
            [
             0,
             "#0d0887"
            ],
            [
             0.1111111111111111,
             "#46039f"
            ],
            [
             0.2222222222222222,
             "#7201a8"
            ],
            [
             0.3333333333333333,
             "#9c179e"
            ],
            [
             0.4444444444444444,
             "#bd3786"
            ],
            [
             0.5555555555555556,
             "#d8576b"
            ],
            [
             0.6666666666666666,
             "#ed7953"
            ],
            [
             0.7777777777777778,
             "#fb9f3a"
            ],
            [
             0.8888888888888888,
             "#fdca26"
            ],
            [
             1,
             "#f0f921"
            ]
           ],
           "sequentialminus": [
            [
             0,
             "#0d0887"
            ],
            [
             0.1111111111111111,
             "#46039f"
            ],
            [
             0.2222222222222222,
             "#7201a8"
            ],
            [
             0.3333333333333333,
             "#9c179e"
            ],
            [
             0.4444444444444444,
             "#bd3786"
            ],
            [
             0.5555555555555556,
             "#d8576b"
            ],
            [
             0.6666666666666666,
             "#ed7953"
            ],
            [
             0.7777777777777778,
             "#fb9f3a"
            ],
            [
             0.8888888888888888,
             "#fdca26"
            ],
            [
             1,
             "#f0f921"
            ]
           ]
          },
          "colorway": [
           "#636efa",
           "#EF553B",
           "#00cc96",
           "#ab63fa",
           "#FFA15A",
           "#19d3f3",
           "#FF6692",
           "#B6E880",
           "#FF97FF",
           "#FECB52"
          ],
          "font": {
           "color": "#2a3f5f"
          },
          "geo": {
           "bgcolor": "white",
           "lakecolor": "white",
           "landcolor": "white",
           "showlakes": true,
           "showland": true,
           "subunitcolor": "#C8D4E3"
          },
          "hoverlabel": {
           "align": "left"
          },
          "hovermode": "closest",
          "mapbox": {
           "style": "light"
          },
          "paper_bgcolor": "white",
          "plot_bgcolor": "white",
          "polar": {
           "angularaxis": {
            "gridcolor": "#EBF0F8",
            "linecolor": "#EBF0F8",
            "ticks": ""
           },
           "bgcolor": "white",
           "radialaxis": {
            "gridcolor": "#EBF0F8",
            "linecolor": "#EBF0F8",
            "ticks": ""
           }
          },
          "scene": {
           "xaxis": {
            "backgroundcolor": "white",
            "gridcolor": "#DFE8F3",
            "gridwidth": 2,
            "linecolor": "#EBF0F8",
            "showbackground": true,
            "ticks": "",
            "zerolinecolor": "#EBF0F8"
           },
           "yaxis": {
            "backgroundcolor": "white",
            "gridcolor": "#DFE8F3",
            "gridwidth": 2,
            "linecolor": "#EBF0F8",
            "showbackground": true,
            "ticks": "",
            "zerolinecolor": "#EBF0F8"
           },
           "zaxis": {
            "backgroundcolor": "white",
            "gridcolor": "#DFE8F3",
            "gridwidth": 2,
            "linecolor": "#EBF0F8",
            "showbackground": true,
            "ticks": "",
            "zerolinecolor": "#EBF0F8"
           }
          },
          "shapedefaults": {
           "line": {
            "color": "#2a3f5f"
           }
          },
          "ternary": {
           "aaxis": {
            "gridcolor": "#DFE8F3",
            "linecolor": "#A2B1C6",
            "ticks": ""
           },
           "baxis": {
            "gridcolor": "#DFE8F3",
            "linecolor": "#A2B1C6",
            "ticks": ""
           },
           "bgcolor": "white",
           "caxis": {
            "gridcolor": "#DFE8F3",
            "linecolor": "#A2B1C6",
            "ticks": ""
           }
          },
          "title": {
           "x": 0.05
          },
          "xaxis": {
           "automargin": true,
           "gridcolor": "#EBF0F8",
           "linecolor": "#EBF0F8",
           "ticks": "",
           "title": {
            "standoff": 15
           },
           "zerolinecolor": "#EBF0F8",
           "zerolinewidth": 2
          },
          "yaxis": {
           "automargin": true,
           "gridcolor": "#EBF0F8",
           "linecolor": "#EBF0F8",
           "ticks": "",
           "title": {
            "standoff": 15
           },
           "zerolinecolor": "#EBF0F8",
           "zerolinewidth": 2
          }
         }
        },
        "title": {
         "text": "Selling Price vs Present Price by Year"
        },
        "xaxis": {
         "anchor": "y",
         "domain": [
          0,
          1
         ],
         "title": {
          "text": "Present Price"
         }
        },
        "yaxis": {
         "anchor": "x",
         "domain": [
          0,
          1
         ],
         "title": {
          "text": "Selling Price"
         }
        }
       }
      }
     },
     "metadata": {},
     "output_type": "display_data"
    }
   ],
   "source": [
    "fig6 = px.scatter(cars, \n",
    "                 x='Present_Price', \n",
    "                 y='Selling_Price', \n",
    "                 size='Year', \n",
    "                 color='Year', \n",
    "                 hover_name='Car_Name', \n",
    "                 trendline='ols',\n",
    "                 title='Selling Price vs Present Price by Year',\n",
    "                 labels={'Present_Price': 'Present Price', 'Selling_Price': 'Selling Price', 'Year': 'Year'},\n",
    "                 template='plotly_white')\n",
    "\n",
    "fig6.update_layout(\n",
    "    xaxis=dict(title='Present Price'),  \n",
    "    yaxis=dict(title='Selling Price'),  \n",
    ")\n",
    "\n",
    "fig6.show()\n"
   ]
  },
  {
   "cell_type": "code",
   "execution_count": 542,
   "metadata": {},
   "outputs": [
    {
     "data": {
      "application/vnd.plotly.v1+json": {
       "config": {
        "plotlyServerURL": "https://plot.ly"
       },
       "data": [
        {
         "alignmentgroup": "True",
         "bingroup": "x",
         "histfunc": "sum",
         "hovertemplate": "Selling Type=Dealer<br>Year=%{x}<br>sum of Selling Price=%{y}<extra></extra>",
         "legendgroup": "Dealer",
         "marker": {
          "color": "#00BFFF",
          "pattern": {
           "shape": ""
          }
         },
         "name": "Dealer",
         "offsetgroup": "Dealer",
         "orientation": "v",
         "showlegend": true,
         "type": "histogram",
         "x": [
          2014,
          2013,
          2017,
          2011,
          2014,
          2018,
          2015,
          2015,
          2016,
          2015,
          2017,
          2015,
          2015,
          2015,
          2009,
          2016,
          2015,
          2016,
          2015,
          2010,
          2016,
          2017,
          2011,
          2014,
          2013,
          2011,
          2013,
          2010,
          2015,
          2012,
          2011,
          2014,
          2014,
          2014,
          2011,
          2015,
          2016,
          2003,
          2016,
          2014,
          2008,
          2014,
          2012,
          2014,
          2013,
          2006,
          2015,
          2017,
          2012,
          2015,
          2017,
          2009,
          2015,
          2010,
          2014,
          2014,
          2013,
          2015,
          2014,
          2015,
          2017,
          2014,
          2017,
          2010,
          2011,
          2016,
          2014,
          2011,
          2013,
          2011,
          2014,
          2015,
          2013,
          2004,
          2010,
          2012,
          2016,
          2015,
          2017,
          2015,
          2005,
          2010,
          2012,
          2013,
          2014,
          2009,
          2014,
          2005,
          2015,
          2008,
          2012,
          2016,
          2017,
          2013,
          2010,
          2010,
          2015,
          2011,
          2015,
          2016,
          2017,
          2015,
          2017,
          2015,
          2012,
          2015,
          2016,
          2011,
          2017,
          2012,
          2016,
          2016,
          2014,
          2012,
          2017,
          2013,
          2014,
          2015,
          2013,
          2011,
          2015,
          2011,
          2012,
          2012,
          2013,
          2017,
          2015,
          2013,
          2015,
          2017,
          2016,
          2015,
          2013,
          2012,
          2012,
          2015,
          2014,
          2016,
          2013,
          2012,
          2012,
          2015,
          2013,
          2016,
          2016,
          2013,
          2015,
          2014,
          2013,
          2012,
          2016,
          2015,
          2015,
          2014,
          2016,
          2016,
          2015,
          2016,
          2015,
          2017,
          2014,
          2016,
          2017,
          2015,
          2011,
          2009,
          2015,
          2010,
          2014,
          2016,
          2015,
          2015,
          2016,
          2014,
          2015,
          2006,
          2014,
          2016,
          2013,
          2016,
          2016,
          2015,
          2015,
          2016,
          2014,
          2015,
          2016,
          2010,
          2014,
          2015,
          2016,
          2015,
          2009,
          2017,
          2016
         ],
         "xaxis": "x",
         "y": [
          3.35,
          4.75,
          7.25,
          2.85,
          4.6,
          9.25,
          6.75,
          6.5,
          8.75,
          7.45,
          2.85,
          6.85,
          7.5,
          6.1,
          2.25,
          7.75,
          7.25,
          7.75,
          3.25,
          2.65,
          2.85,
          4.9,
          4.4,
          2.5,
          2.9,
          3,
          4.15,
          1.95,
          7.45,
          3.1,
          2.35,
          4.95,
          6,
          5.5,
          2.95,
          4.65,
          3,
          2.25,
          5.85,
          2.55,
          1.95,
          5.5,
          1.25,
          7.5,
          2.65,
          1.05,
          5.8,
          7.75,
          14.9,
          23,
          18,
          3.6,
          4.5,
          4.75,
          4.1,
          19.99,
          6.95,
          4.5,
          18.75,
          23.5,
          33,
          4.75,
          19.75,
          9.25,
          4.35,
          14.25,
          3.95,
          4.5,
          7.45,
          2.65,
          4.9,
          3.95,
          5.5,
          1.5,
          5.25,
          14.5,
          14.73,
          4.75,
          23,
          12.5,
          3.49,
          35,
          5.9,
          3.45,
          4.75,
          3.8,
          11.25,
          3.51,
          23,
          4,
          5.85,
          20.75,
          17,
          7.05,
          9.65,
          3.25,
          4.4,
          2.95,
          2.75,
          5.25,
          5.75,
          5.15,
          7.9,
          4.85,
          3.1,
          11.75,
          11.25,
          2.9,
          5.25,
          4.5,
          2.9,
          3.15,
          6.45,
          4.5,
          3.5,
          4.5,
          6,
          8.25,
          5.11,
          2.7,
          5.25,
          2.55,
          4.95,
          3.1,
          6.15,
          9.25,
          11.45,
          3.9,
          5.5,
          9.1,
          3.1,
          11.25,
          4.8,
          2,
          5.35,
          4.75,
          4.4,
          6.25,
          5.95,
          5.2,
          3.75,
          5.95,
          4,
          5.25,
          12.9,
          5,
          5.4,
          7.2,
          5.25,
          3,
          10.25,
          8.5,
          8.4,
          3.9,
          9.15,
          5.5,
          4,
          6.6,
          4,
          6.5,
          3.65,
          8.35,
          4.8,
          6.7,
          4.1,
          3,
          7.5,
          2.25,
          5.3,
          10.9,
          8.65,
          9.7,
          6,
          6.25,
          5.25,
          2.1,
          8.25,
          8.99,
          3.5,
          7.4,
          5.65,
          5.75,
          8.4,
          10.11,
          4.5,
          5.4,
          6.4,
          3.25,
          3.75,
          8.55,
          9.5,
          4,
          3.35,
          11.5,
          5.3
         ],
         "yaxis": "y"
        },
        {
         "alignmentgroup": "True",
         "bingroup": "x",
         "histfunc": "sum",
         "hovertemplate": "Selling Type=Individual<br>Year=%{x}<br>sum of Selling Price=%{y}<extra></extra>",
         "legendgroup": "Individual",
         "marker": {
          "color": "#FFD700",
          "pattern": {
           "shape": ""
          }
         },
         "name": "Individual",
         "offsetgroup": "Individual",
         "orientation": "v",
         "showlegend": true,
         "type": "histogram",
         "x": [
          2017,
          2003,
          2013,
          2005,
          2006,
          2016,
          2017,
          2017,
          2017,
          2017,
          2015,
          2014,
          2013,
          2016,
          2017,
          2016,
          2016,
          2014,
          2016,
          2015,
          2015,
          2013,
          2015,
          2015,
          2013,
          2016,
          2011,
          2016,
          2013,
          2012,
          2009,
          2017,
          2016,
          2017,
          2017,
          2017,
          2015,
          2017,
          2016,
          2017,
          2015,
          2014,
          2013,
          2016,
          2015,
          2013,
          2016,
          2015,
          2016,
          2014,
          2012,
          2014,
          2015,
          2010,
          2016,
          2011,
          2016,
          2012,
          2013,
          2014,
          2017,
          2017,
          2015,
          2017,
          2017,
          2011,
          2014,
          2012,
          2010,
          2016,
          2016,
          2016,
          2014,
          2013,
          2015,
          2012,
          2015,
          2014,
          2017,
          2015,
          2011,
          2011,
          2016,
          2014,
          2010,
          2012,
          2016,
          2013,
          2013,
          2008,
          2008,
          2010,
          2013,
          2013,
          2005,
          2008,
          2012,
          2007,
          2013,
          2008,
          2015,
          2008,
          2010,
          2011,
          2007,
          2006
         ],
         "xaxis": "x",
         "y": [
          6,
          0.35,
          16,
          2.75,
          2.5,
          1.75,
          1.7,
          1.65,
          1.45,
          1.35,
          1.35,
          1.35,
          1.25,
          1.2,
          1.2,
          1.2,
          1.15,
          1.15,
          1.15,
          1.15,
          1.11,
          1.1,
          1.1,
          1.1,
          1.05,
          1.05,
          1.05,
          1.05,
          1,
          0.95,
          0.9,
          0.9,
          0.75,
          0.8,
          0.78,
          0.75,
          0.75,
          0.75,
          0.72,
          0.65,
          0.65,
          0.65,
          0.65,
          0.6,
          0.6,
          0.6,
          0.6,
          0.6,
          0.6,
          0.6,
          0.6,
          0.55,
          0.55,
          0.52,
          0.51,
          0.5,
          0.5,
          0.5,
          0.5,
          0.5,
          0.48,
          0.48,
          0.48,
          0.48,
          0.45,
          0.45,
          0.45,
          0.45,
          0.45,
          0.45,
          0.45,
          0.45,
          0.42,
          0.42,
          0.4,
          0.4,
          0.4,
          0.4,
          0.4,
          0.38,
          0.38,
          0.35,
          0.35,
          0.35,
          0.31,
          0.3,
          0.3,
          0.3,
          0.27,
          0.25,
          0.25,
          0.25,
          0.25,
          0.25,
          0.2,
          0.2,
          0.2,
          0.2,
          0.2,
          0.2,
          0.18,
          0.17,
          0.16,
          0.15,
          0.12,
          0.1
         ],
         "yaxis": "y"
        }
       ],
       "layout": {
        "bargap": 0.05,
        "bargroupgap": 0.1,
        "barmode": "stack",
        "legend": {
         "title": {
          "text": "Selling Type"
         },
         "tracegroupgap": 0,
         "x": 0.02,
         "y": 0.98
        },
        "template": {
         "data": {
          "bar": [
           {
            "error_x": {
             "color": "#2a3f5f"
            },
            "error_y": {
             "color": "#2a3f5f"
            },
            "marker": {
             "line": {
              "color": "#E5ECF6",
              "width": 0.5
             },
             "pattern": {
              "fillmode": "overlay",
              "size": 10,
              "solidity": 0.2
             }
            },
            "type": "bar"
           }
          ],
          "barpolar": [
           {
            "marker": {
             "line": {
              "color": "#E5ECF6",
              "width": 0.5
             },
             "pattern": {
              "fillmode": "overlay",
              "size": 10,
              "solidity": 0.2
             }
            },
            "type": "barpolar"
           }
          ],
          "carpet": [
           {
            "aaxis": {
             "endlinecolor": "#2a3f5f",
             "gridcolor": "white",
             "linecolor": "white",
             "minorgridcolor": "white",
             "startlinecolor": "#2a3f5f"
            },
            "baxis": {
             "endlinecolor": "#2a3f5f",
             "gridcolor": "white",
             "linecolor": "white",
             "minorgridcolor": "white",
             "startlinecolor": "#2a3f5f"
            },
            "type": "carpet"
           }
          ],
          "choropleth": [
           {
            "colorbar": {
             "outlinewidth": 0,
             "ticks": ""
            },
            "type": "choropleth"
           }
          ],
          "contour": [
           {
            "colorbar": {
             "outlinewidth": 0,
             "ticks": ""
            },
            "colorscale": [
             [
              0,
              "#0d0887"
             ],
             [
              0.1111111111111111,
              "#46039f"
             ],
             [
              0.2222222222222222,
              "#7201a8"
             ],
             [
              0.3333333333333333,
              "#9c179e"
             ],
             [
              0.4444444444444444,
              "#bd3786"
             ],
             [
              0.5555555555555556,
              "#d8576b"
             ],
             [
              0.6666666666666666,
              "#ed7953"
             ],
             [
              0.7777777777777778,
              "#fb9f3a"
             ],
             [
              0.8888888888888888,
              "#fdca26"
             ],
             [
              1,
              "#f0f921"
             ]
            ],
            "type": "contour"
           }
          ],
          "contourcarpet": [
           {
            "colorbar": {
             "outlinewidth": 0,
             "ticks": ""
            },
            "type": "contourcarpet"
           }
          ],
          "heatmap": [
           {
            "colorbar": {
             "outlinewidth": 0,
             "ticks": ""
            },
            "colorscale": [
             [
              0,
              "#0d0887"
             ],
             [
              0.1111111111111111,
              "#46039f"
             ],
             [
              0.2222222222222222,
              "#7201a8"
             ],
             [
              0.3333333333333333,
              "#9c179e"
             ],
             [
              0.4444444444444444,
              "#bd3786"
             ],
             [
              0.5555555555555556,
              "#d8576b"
             ],
             [
              0.6666666666666666,
              "#ed7953"
             ],
             [
              0.7777777777777778,
              "#fb9f3a"
             ],
             [
              0.8888888888888888,
              "#fdca26"
             ],
             [
              1,
              "#f0f921"
             ]
            ],
            "type": "heatmap"
           }
          ],
          "heatmapgl": [
           {
            "colorbar": {
             "outlinewidth": 0,
             "ticks": ""
            },
            "colorscale": [
             [
              0,
              "#0d0887"
             ],
             [
              0.1111111111111111,
              "#46039f"
             ],
             [
              0.2222222222222222,
              "#7201a8"
             ],
             [
              0.3333333333333333,
              "#9c179e"
             ],
             [
              0.4444444444444444,
              "#bd3786"
             ],
             [
              0.5555555555555556,
              "#d8576b"
             ],
             [
              0.6666666666666666,
              "#ed7953"
             ],
             [
              0.7777777777777778,
              "#fb9f3a"
             ],
             [
              0.8888888888888888,
              "#fdca26"
             ],
             [
              1,
              "#f0f921"
             ]
            ],
            "type": "heatmapgl"
           }
          ],
          "histogram": [
           {
            "marker": {
             "pattern": {
              "fillmode": "overlay",
              "size": 10,
              "solidity": 0.2
             }
            },
            "type": "histogram"
           }
          ],
          "histogram2d": [
           {
            "colorbar": {
             "outlinewidth": 0,
             "ticks": ""
            },
            "colorscale": [
             [
              0,
              "#0d0887"
             ],
             [
              0.1111111111111111,
              "#46039f"
             ],
             [
              0.2222222222222222,
              "#7201a8"
             ],
             [
              0.3333333333333333,
              "#9c179e"
             ],
             [
              0.4444444444444444,
              "#bd3786"
             ],
             [
              0.5555555555555556,
              "#d8576b"
             ],
             [
              0.6666666666666666,
              "#ed7953"
             ],
             [
              0.7777777777777778,
              "#fb9f3a"
             ],
             [
              0.8888888888888888,
              "#fdca26"
             ],
             [
              1,
              "#f0f921"
             ]
            ],
            "type": "histogram2d"
           }
          ],
          "histogram2dcontour": [
           {
            "colorbar": {
             "outlinewidth": 0,
             "ticks": ""
            },
            "colorscale": [
             [
              0,
              "#0d0887"
             ],
             [
              0.1111111111111111,
              "#46039f"
             ],
             [
              0.2222222222222222,
              "#7201a8"
             ],
             [
              0.3333333333333333,
              "#9c179e"
             ],
             [
              0.4444444444444444,
              "#bd3786"
             ],
             [
              0.5555555555555556,
              "#d8576b"
             ],
             [
              0.6666666666666666,
              "#ed7953"
             ],
             [
              0.7777777777777778,
              "#fb9f3a"
             ],
             [
              0.8888888888888888,
              "#fdca26"
             ],
             [
              1,
              "#f0f921"
             ]
            ],
            "type": "histogram2dcontour"
           }
          ],
          "mesh3d": [
           {
            "colorbar": {
             "outlinewidth": 0,
             "ticks": ""
            },
            "type": "mesh3d"
           }
          ],
          "parcoords": [
           {
            "line": {
             "colorbar": {
              "outlinewidth": 0,
              "ticks": ""
             }
            },
            "type": "parcoords"
           }
          ],
          "pie": [
           {
            "automargin": true,
            "type": "pie"
           }
          ],
          "scatter": [
           {
            "fillpattern": {
             "fillmode": "overlay",
             "size": 10,
             "solidity": 0.2
            },
            "type": "scatter"
           }
          ],
          "scatter3d": [
           {
            "line": {
             "colorbar": {
              "outlinewidth": 0,
              "ticks": ""
             }
            },
            "marker": {
             "colorbar": {
              "outlinewidth": 0,
              "ticks": ""
             }
            },
            "type": "scatter3d"
           }
          ],
          "scattercarpet": [
           {
            "marker": {
             "colorbar": {
              "outlinewidth": 0,
              "ticks": ""
             }
            },
            "type": "scattercarpet"
           }
          ],
          "scattergeo": [
           {
            "marker": {
             "colorbar": {
              "outlinewidth": 0,
              "ticks": ""
             }
            },
            "type": "scattergeo"
           }
          ],
          "scattergl": [
           {
            "marker": {
             "colorbar": {
              "outlinewidth": 0,
              "ticks": ""
             }
            },
            "type": "scattergl"
           }
          ],
          "scattermapbox": [
           {
            "marker": {
             "colorbar": {
              "outlinewidth": 0,
              "ticks": ""
             }
            },
            "type": "scattermapbox"
           }
          ],
          "scatterpolar": [
           {
            "marker": {
             "colorbar": {
              "outlinewidth": 0,
              "ticks": ""
             }
            },
            "type": "scatterpolar"
           }
          ],
          "scatterpolargl": [
           {
            "marker": {
             "colorbar": {
              "outlinewidth": 0,
              "ticks": ""
             }
            },
            "type": "scatterpolargl"
           }
          ],
          "scatterternary": [
           {
            "marker": {
             "colorbar": {
              "outlinewidth": 0,
              "ticks": ""
             }
            },
            "type": "scatterternary"
           }
          ],
          "surface": [
           {
            "colorbar": {
             "outlinewidth": 0,
             "ticks": ""
            },
            "colorscale": [
             [
              0,
              "#0d0887"
             ],
             [
              0.1111111111111111,
              "#46039f"
             ],
             [
              0.2222222222222222,
              "#7201a8"
             ],
             [
              0.3333333333333333,
              "#9c179e"
             ],
             [
              0.4444444444444444,
              "#bd3786"
             ],
             [
              0.5555555555555556,
              "#d8576b"
             ],
             [
              0.6666666666666666,
              "#ed7953"
             ],
             [
              0.7777777777777778,
              "#fb9f3a"
             ],
             [
              0.8888888888888888,
              "#fdca26"
             ],
             [
              1,
              "#f0f921"
             ]
            ],
            "type": "surface"
           }
          ],
          "table": [
           {
            "cells": {
             "fill": {
              "color": "#EBF0F8"
             },
             "line": {
              "color": "white"
             }
            },
            "header": {
             "fill": {
              "color": "#C8D4E3"
             },
             "line": {
              "color": "white"
             }
            },
            "type": "table"
           }
          ]
         },
         "layout": {
          "annotationdefaults": {
           "arrowcolor": "#2a3f5f",
           "arrowhead": 0,
           "arrowwidth": 1
          },
          "autotypenumbers": "strict",
          "coloraxis": {
           "colorbar": {
            "outlinewidth": 0,
            "ticks": ""
           }
          },
          "colorscale": {
           "diverging": [
            [
             0,
             "#8e0152"
            ],
            [
             0.1,
             "#c51b7d"
            ],
            [
             0.2,
             "#de77ae"
            ],
            [
             0.3,
             "#f1b6da"
            ],
            [
             0.4,
             "#fde0ef"
            ],
            [
             0.5,
             "#f7f7f7"
            ],
            [
             0.6,
             "#e6f5d0"
            ],
            [
             0.7,
             "#b8e186"
            ],
            [
             0.8,
             "#7fbc41"
            ],
            [
             0.9,
             "#4d9221"
            ],
            [
             1,
             "#276419"
            ]
           ],
           "sequential": [
            [
             0,
             "#0d0887"
            ],
            [
             0.1111111111111111,
             "#46039f"
            ],
            [
             0.2222222222222222,
             "#7201a8"
            ],
            [
             0.3333333333333333,
             "#9c179e"
            ],
            [
             0.4444444444444444,
             "#bd3786"
            ],
            [
             0.5555555555555556,
             "#d8576b"
            ],
            [
             0.6666666666666666,
             "#ed7953"
            ],
            [
             0.7777777777777778,
             "#fb9f3a"
            ],
            [
             0.8888888888888888,
             "#fdca26"
            ],
            [
             1,
             "#f0f921"
            ]
           ],
           "sequentialminus": [
            [
             0,
             "#0d0887"
            ],
            [
             0.1111111111111111,
             "#46039f"
            ],
            [
             0.2222222222222222,
             "#7201a8"
            ],
            [
             0.3333333333333333,
             "#9c179e"
            ],
            [
             0.4444444444444444,
             "#bd3786"
            ],
            [
             0.5555555555555556,
             "#d8576b"
            ],
            [
             0.6666666666666666,
             "#ed7953"
            ],
            [
             0.7777777777777778,
             "#fb9f3a"
            ],
            [
             0.8888888888888888,
             "#fdca26"
            ],
            [
             1,
             "#f0f921"
            ]
           ]
          },
          "colorway": [
           "#636efa",
           "#EF553B",
           "#00cc96",
           "#ab63fa",
           "#FFA15A",
           "#19d3f3",
           "#FF6692",
           "#B6E880",
           "#FF97FF",
           "#FECB52"
          ],
          "font": {
           "color": "#2a3f5f"
          },
          "geo": {
           "bgcolor": "white",
           "lakecolor": "white",
           "landcolor": "#E5ECF6",
           "showlakes": true,
           "showland": true,
           "subunitcolor": "white"
          },
          "hoverlabel": {
           "align": "left"
          },
          "hovermode": "closest",
          "mapbox": {
           "style": "light"
          },
          "paper_bgcolor": "white",
          "plot_bgcolor": "#E5ECF6",
          "polar": {
           "angularaxis": {
            "gridcolor": "white",
            "linecolor": "white",
            "ticks": ""
           },
           "bgcolor": "#E5ECF6",
           "radialaxis": {
            "gridcolor": "white",
            "linecolor": "white",
            "ticks": ""
           }
          },
          "scene": {
           "xaxis": {
            "backgroundcolor": "#E5ECF6",
            "gridcolor": "white",
            "gridwidth": 2,
            "linecolor": "white",
            "showbackground": true,
            "ticks": "",
            "zerolinecolor": "white"
           },
           "yaxis": {
            "backgroundcolor": "#E5ECF6",
            "gridcolor": "white",
            "gridwidth": 2,
            "linecolor": "white",
            "showbackground": true,
            "ticks": "",
            "zerolinecolor": "white"
           },
           "zaxis": {
            "backgroundcolor": "#E5ECF6",
            "gridcolor": "white",
            "gridwidth": 2,
            "linecolor": "white",
            "showbackground": true,
            "ticks": "",
            "zerolinecolor": "white"
           }
          },
          "shapedefaults": {
           "line": {
            "color": "#2a3f5f"
           }
          },
          "ternary": {
           "aaxis": {
            "gridcolor": "white",
            "linecolor": "white",
            "ticks": ""
           },
           "baxis": {
            "gridcolor": "white",
            "linecolor": "white",
            "ticks": ""
           },
           "bgcolor": "#E5ECF6",
           "caxis": {
            "gridcolor": "white",
            "linecolor": "white",
            "ticks": ""
           }
          },
          "title": {
           "x": 0.05
          },
          "xaxis": {
           "automargin": true,
           "gridcolor": "white",
           "linecolor": "white",
           "ticks": "",
           "title": {
            "standoff": 15
           },
           "zerolinecolor": "white",
           "zerolinewidth": 2
          },
          "yaxis": {
           "automargin": true,
           "gridcolor": "white",
           "linecolor": "white",
           "ticks": "",
           "title": {
            "standoff": 15
           },
           "zerolinecolor": "white",
           "zerolinewidth": 2
          }
         }
        },
        "title": {
         "text": "Selling Price Over Time by Selling Type"
        },
        "xaxis": {
         "anchor": "y",
         "domain": [
          0,
          1
         ],
         "linecolor": "rgb(204, 204, 204)",
         "linewidth": 2,
         "showgrid": true,
         "showline": true,
         "showticklabels": true,
         "tickangle": -45,
         "tickfont": {
          "color": "rgb(82, 82, 82)",
          "family": "Arial",
          "size": 12
         },
         "ticks": "outside",
         "title": {
          "text": "Year"
         }
        },
        "yaxis": {
         "anchor": "x",
         "domain": [
          0,
          1
         ],
         "linecolor": "rgb(204, 204, 204)",
         "linewidth": 2,
         "showgrid": true,
         "showline": true,
         "showticklabels": true,
         "tickfont": {
          "color": "rgb(82, 82, 82)",
          "family": "Arial",
          "size": 12
         },
         "ticks": "outside",
         "title": {
          "text": "sum of Selling Price"
         }
        }
       }
      }
     },
     "metadata": {},
     "output_type": "display_data"
    }
   ],
   "source": [
    "fig5 = px.histogram(cars, x='Year', y='Selling_Price', title='Selling Price Over Time by Selling Type',\n",
    "                    labels={'Year': 'Year', 'Selling_Price': 'Selling Price', 'Selling_type': 'Selling Type'},\n",
    "                    color='Selling_type', barmode='stack', \n",
    "                    color_discrete_sequence=['#00BFFF', '#FFD700', '#FFF44F'])\n",
    "\n",
    "fig5.update_layout(bargap=0.05, bargroupgap=0.1, xaxis_tickangle=-45,\n",
    "                   xaxis=dict(showline=True, showgrid=True, showticklabels=True, linecolor='rgb(204, 204, 204)', linewidth=2, ticks='outside', tickfont=dict(family='Arial', size=12, color='rgb(82, 82, 82)')),\n",
    "                   yaxis=dict(showline=True, showgrid=True, showticklabels=True, linecolor='rgb(204, 204, 204)', linewidth=2, ticks='outside', tickfont=dict(family='Arial', size=12, color='rgb(82, 82, 82)')),\n",
    "                   legend=dict(x=0.02, y=0.98),\n",
    "                   barmode='stack')\n",
    "\n",
    "fig5.show()"
   ]
  },
  {
   "cell_type": "code",
   "execution_count": 543,
   "metadata": {},
   "outputs": [
    {
     "data": {
      "application/vnd.plotly.v1+json": {
       "config": {
        "plotlyServerURL": "https://plot.ly"
       },
       "data": [
        {
         "hovertemplate": "<b>%{hovertext}</b><br><br>Driven_kms=%{x}<br>Selling_Price=%{marker.size}<br>Year=%{marker.color}<extra></extra>",
         "hovertext": [
          "ritz",
          "sx4",
          "ciaz",
          "wagon r",
          "swift",
          "vitara brezza",
          "ciaz",
          "s cross",
          "ciaz",
          "ciaz",
          "alto 800",
          "ciaz",
          "ciaz",
          "ertiga",
          "dzire",
          "ertiga",
          "ertiga",
          "ertiga",
          "wagon r",
          "sx4",
          "alto k10",
          "ignis",
          "sx4",
          "alto k10",
          "wagon r",
          "swift",
          "swift",
          "swift",
          "alto k10",
          "ciaz",
          "ritz",
          "ritz",
          "swift",
          "ertiga",
          "dzire",
          "sx4",
          "dzire",
          "800",
          "alto k10",
          "sx4",
          "baleno",
          "alto k10",
          "sx4",
          "dzire",
          "omni",
          "ciaz",
          "ritz",
          "wagon r",
          "ertiga",
          "ciaz",
          "fortuner",
          "fortuner",
          "innova",
          "fortuner",
          "innova",
          "corolla altis",
          "etios cross",
          "corolla altis",
          "etios g",
          "fortuner",
          "corolla altis",
          "etios cross",
          "fortuner",
          "fortuner",
          "fortuner",
          "etios liva",
          "innova",
          "fortuner",
          "corolla altis",
          "corolla altis",
          "etios liva",
          "corolla altis",
          "corolla altis",
          "etios liva",
          "etios cross",
          "etios g",
          "corolla altis",
          "corolla",
          "corolla altis",
          "fortuner",
          "corolla altis",
          "etios gd",
          "innova",
          "innova",
          "innova",
          "camry",
          "land cruiser",
          "corolla altis",
          "etios liva",
          "etios g",
          "corolla altis",
          "innova",
          "innova",
          "fortuner",
          "corolla altis",
          "corolla altis",
          "innova",
          "corolla altis",
          "corolla altis",
          "fortuner",
          "Royal Enfield Thunder 500",
          "UM Renegade Mojave",
          "KTM RC200",
          "Bajaj Dominar 400",
          "Royal Enfield Classic 350",
          "KTM RC390",
          "Hyosung GT250R",
          "Royal Enfield Thunder 350",
          "Royal Enfield Thunder 350",
          "Royal Enfield Classic 350",
          "KTM RC200",
          "Royal Enfield Thunder 350",
          "KTM 390 Duke ",
          "Mahindra Mojo XT300",
          "Royal Enfield Classic 350",
          "Royal Enfield Classic 350",
          "Royal Enfield Classic 350",
          "Royal Enfield Thunder 500",
          "Royal Enfield Classic 350",
          "Royal Enfield Thunder 500",
          "Bajaj Pulsar RS200",
          "Royal Enfield Thunder 350",
          "Royal Enfield Bullet 350",
          "Royal Enfield Classic 350",
          "Royal Enfield Classic 500",
          "Royal Enfield Classic 500",
          "Bajaj Avenger 220",
          "Bajaj Avenger 150",
          "Honda CB Hornet 160R",
          "Yamaha FZ S V 2.0",
          "Honda CB Hornet 160R",
          "Yamaha FZ 16",
          "Bajaj Avenger 220",
          "Bajaj Avenger 220",
          "TVS Apache RTR 160",
          "Bajaj Pulsar 150",
          "Honda CBR 150",
          "Hero Extreme",
          "Honda CB Hornet 160R",
          "Bajaj Avenger 220 dtsi",
          "Honda CBR 150",
          "Bajaj Avenger 150 street",
          "Yamaha FZ  v 2.0",
          "Yamaha FZ  v 2.0",
          "Bajaj Pulsar  NS 200",
          "TVS Apache RTR 160",
          "Hero Extreme",
          "Yamaha FZ S V 2.0",
          "Bajaj Pulsar 220 F",
          "Bajaj Pulsar 220 F",
          "TVS Apache RTR 180",
          "Hero Passion X pro",
          "Bajaj Pulsar NS 200",
          "Bajaj Pulsar NS 200",
          "Yamaha Fazer ",
          "Honda Activa 4G",
          "TVS Sport ",
          "Yamaha FZ S V 2.0",
          "Honda Dream Yuga ",
          "Honda Activa 4G",
          "Bajaj Avenger Street 220",
          "TVS Apache RTR 180",
          "Bajaj Pulsar NS 200",
          "Bajaj Avenger 220 dtsi",
          "Hero Splender iSmart",
          "Activa 3g",
          "Hero Passion Pro",
          "TVS Apache RTR 160",
          "Honda CB Trigger",
          "Hero Splender iSmart",
          "Yamaha FZ S ",
          "Hero Passion Pro",
          "Bajaj Pulsar 135 LS",
          "Activa 4g",
          "Honda CB Unicorn",
          "Hero Honda CBZ extreme",
          "Honda Karizma",
          "Honda Activa 125",
          "TVS Jupyter",
          "Honda Karizma",
          "Hero Honda Passion Pro",
          "Hero Splender Plus",
          "Honda CB Shine",
          "Bajaj Discover 100",
          "Bajaj Pulsar 150",
          "Suzuki Access 125",
          "TVS Wego",
          "Honda CB twister",
          "Hero Glamour",
          "Hero Super Splendor",
          "Bajaj Pulsar 150",
          "Bajaj Discover 125",
          "Hero Hunk",
          "Hero  Ignitor Disc",
          "Hero  CBZ Xtreme",
          "Bajaj  ct 100",
          "Activa 3g",
          "Honda CB twister",
          "Bajaj Discover 125",
          "Honda CB Shine",
          "Bajaj Pulsar 150",
          "i20",
          "grand i10",
          "i10",
          "eon",
          "grand i10",
          "xcent",
          "grand i10",
          "i20",
          "grand i10",
          "i10",
          "elantra",
          "creta",
          "i20",
          "grand i10",
          "verna",
          "eon",
          "eon",
          "verna",
          "verna",
          "eon",
          "i20",
          "i20",
          "verna",
          "verna",
          "i10",
          "grand i10",
          "i10",
          "verna",
          "i20",
          "verna",
          "verna",
          "elantra",
          "grand i10",
          "grand i10",
          "verna",
          "eon",
          "creta",
          "verna",
          "eon",
          "verna",
          "xcent",
          "xcent",
          "i20",
          "verna",
          "verna",
          "i20",
          "verna",
          "i10",
          "i20",
          "creta",
          "city",
          "brio",
          "city",
          "city",
          "brio",
          "city",
          "city",
          "city",
          "amaze",
          "city",
          "brio",
          "amaze",
          "jazz",
          "amaze",
          "jazz",
          "amaze",
          "city",
          "brio",
          "city",
          "city",
          "city",
          "city",
          "jazz",
          "brio",
          "city",
          "city",
          "city",
          "jazz",
          "city",
          "brio",
          "city",
          "city",
          "city",
          "brio",
          "jazz",
          "jazz",
          "amaze",
          "city",
          "city",
          "amaze",
          "brio",
          "jazz",
          "city",
          "amaze",
          "city",
          "city",
          "brio",
          "city",
          "city",
          "brio"
         ],
         "legendgroup": "",
         "marker": {
          "color": [
           2014,
           2013,
           2017,
           2011,
           2014,
           2018,
           2015,
           2015,
           2016,
           2015,
           2017,
           2015,
           2015,
           2015,
           2009,
           2016,
           2015,
           2016,
           2015,
           2010,
           2016,
           2017,
           2011,
           2014,
           2013,
           2011,
           2013,
           2017,
           2010,
           2015,
           2012,
           2011,
           2014,
           2014,
           2014,
           2011,
           2015,
           2003,
           2016,
           2003,
           2016,
           2014,
           2008,
           2014,
           2012,
           2014,
           2013,
           2006,
           2015,
           2017,
           2012,
           2015,
           2017,
           2013,
           2005,
           2009,
           2015,
           2010,
           2014,
           2014,
           2013,
           2015,
           2014,
           2015,
           2017,
           2014,
           2017,
           2010,
           2011,
           2016,
           2014,
           2011,
           2013,
           2011,
           2014,
           2015,
           2013,
           2004,
           2010,
           2012,
           2016,
           2015,
           2017,
           2015,
           2005,
           2006,
           2010,
           2012,
           2013,
           2014,
           2009,
           2014,
           2005,
           2015,
           2008,
           2012,
           2016,
           2017,
           2013,
           2010,
           2016,
           2017,
           2017,
           2017,
           2017,
           2015,
           2014,
           2013,
           2016,
           2017,
           2016,
           2016,
           2014,
           2016,
           2015,
           2015,
           2013,
           2015,
           2015,
           2013,
           2016,
           2011,
           2016,
           2013,
           2012,
           2009,
           2017,
           2016,
           2017,
           2017,
           2017,
           2015,
           2017,
           2016,
           2017,
           2015,
           2014,
           2013,
           2016,
           2015,
           2013,
           2016,
           2015,
           2016,
           2014,
           2012,
           2014,
           2015,
           2010,
           2016,
           2011,
           2016,
           2012,
           2013,
           2014,
           2017,
           2017,
           2015,
           2017,
           2017,
           2011,
           2014,
           2012,
           2010,
           2016,
           2016,
           2016,
           2014,
           2013,
           2015,
           2012,
           2015,
           2014,
           2017,
           2015,
           2011,
           2011,
           2016,
           2014,
           2010,
           2012,
           2016,
           2013,
           2013,
           2008,
           2008,
           2010,
           2013,
           2013,
           2005,
           2008,
           2012,
           2007,
           2013,
           2008,
           2015,
           2008,
           2010,
           2011,
           2007,
           2006,
           2010,
           2015,
           2011,
           2015,
           2016,
           2017,
           2015,
           2017,
           2015,
           2012,
           2015,
           2016,
           2011,
           2017,
           2012,
           2016,
           2016,
           2014,
           2012,
           2017,
           2013,
           2014,
           2015,
           2013,
           2011,
           2015,
           2011,
           2012,
           2012,
           2013,
           2017,
           2015,
           2013,
           2015,
           2017,
           2016,
           2015,
           2013,
           2012,
           2012,
           2015,
           2014,
           2016,
           2013,
           2012,
           2012,
           2015,
           2013,
           2016,
           2016,
           2013,
           2015,
           2014,
           2013,
           2012,
           2016,
           2015,
           2015,
           2014,
           2016,
           2016,
           2015,
           2016,
           2015,
           2017,
           2014,
           2016,
           2017,
           2015,
           2011,
           2009,
           2015,
           2010,
           2014,
           2016,
           2015,
           2015,
           2016,
           2014,
           2015,
           2006,
           2014,
           2016,
           2013,
           2016,
           2016,
           2015,
           2015,
           2016,
           2014,
           2015,
           2016,
           2010,
           2014,
           2015,
           2016,
           2015,
           2009,
           2017,
           2016
          ],
          "coloraxis": "coloraxis",
          "size": [
           3.35,
           4.75,
           7.25,
           2.85,
           4.6,
           9.25,
           6.75,
           6.5,
           8.75,
           7.45,
           2.85,
           6.85,
           7.5,
           6.1,
           2.25,
           7.75,
           7.25,
           7.75,
           3.25,
           2.65,
           2.85,
           4.9,
           4.4,
           2.5,
           2.9,
           3,
           4.15,
           6,
           1.95,
           7.45,
           3.1,
           2.35,
           4.95,
           6,
           5.5,
           2.95,
           4.65,
           0.35,
           3,
           2.25,
           5.85,
           2.55,
           1.95,
           5.5,
           1.25,
           7.5,
           2.65,
           1.05,
           5.8,
           7.75,
           14.9,
           23,
           18,
           16,
           2.75,
           3.6,
           4.5,
           4.75,
           4.1,
           19.99,
           6.95,
           4.5,
           18.75,
           23.5,
           33,
           4.75,
           19.75,
           9.25,
           4.35,
           14.25,
           3.95,
           4.5,
           7.45,
           2.65,
           4.9,
           3.95,
           5.5,
           1.5,
           5.25,
           14.5,
           14.73,
           4.75,
           23,
           12.5,
           3.49,
           2.5,
           35,
           5.9,
           3.45,
           4.75,
           3.8,
           11.25,
           3.51,
           23,
           4,
           5.85,
           20.75,
           17,
           7.05,
           9.65,
           1.75,
           1.7,
           1.65,
           1.45,
           1.35,
           1.35,
           1.35,
           1.25,
           1.2,
           1.2,
           1.2,
           1.15,
           1.15,
           1.15,
           1.15,
           1.11,
           1.1,
           1.1,
           1.1,
           1.05,
           1.05,
           1.05,
           1.05,
           1,
           0.95,
           0.9,
           0.9,
           0.75,
           0.8,
           0.78,
           0.75,
           0.75,
           0.75,
           0.72,
           0.65,
           0.65,
           0.65,
           0.65,
           0.6,
           0.6,
           0.6,
           0.6,
           0.6,
           0.6,
           0.6,
           0.6,
           0.55,
           0.55,
           0.52,
           0.51,
           0.5,
           0.5,
           0.5,
           0.5,
           0.5,
           0.48,
           0.48,
           0.48,
           0.48,
           0.45,
           0.45,
           0.45,
           0.45,
           0.45,
           0.45,
           0.45,
           0.45,
           0.42,
           0.42,
           0.4,
           0.4,
           0.4,
           0.4,
           0.4,
           0.38,
           0.38,
           0.35,
           0.35,
           0.35,
           0.31,
           0.3,
           0.3,
           0.3,
           0.27,
           0.25,
           0.25,
           0.25,
           0.25,
           0.25,
           0.2,
           0.2,
           0.2,
           0.2,
           0.2,
           0.2,
           0.18,
           0.17,
           0.16,
           0.15,
           0.12,
           0.1,
           3.25,
           4.4,
           2.95,
           2.75,
           5.25,
           5.75,
           5.15,
           7.9,
           4.85,
           3.1,
           11.75,
           11.25,
           2.9,
           5.25,
           4.5,
           2.9,
           3.15,
           6.45,
           4.5,
           3.5,
           4.5,
           6,
           8.25,
           5.11,
           2.7,
           5.25,
           2.55,
           4.95,
           3.1,
           6.15,
           9.25,
           11.45,
           3.9,
           5.5,
           9.1,
           3.1,
           11.25,
           4.8,
           2,
           5.35,
           4.75,
           4.4,
           6.25,
           5.95,
           5.2,
           3.75,
           5.95,
           4,
           5.25,
           12.9,
           5,
           5.4,
           7.2,
           5.25,
           3,
           10.25,
           8.5,
           8.4,
           3.9,
           9.15,
           5.5,
           4,
           6.6,
           4,
           6.5,
           3.65,
           8.35,
           4.8,
           6.7,
           4.1,
           3,
           7.5,
           2.25,
           5.3,
           10.9,
           8.65,
           9.7,
           6,
           6.25,
           5.25,
           2.1,
           8.25,
           8.99,
           3.5,
           7.4,
           5.65,
           5.75,
           8.4,
           10.11,
           4.5,
           5.4,
           6.4,
           3.25,
           3.75,
           8.55,
           9.5,
           4,
           3.35,
           11.5,
           5.3
          ],
          "sizemode": "area",
          "sizeref": 0.0875,
          "symbol": "circle"
         },
         "mode": "markers",
         "name": "",
         "orientation": "v",
         "showlegend": false,
         "type": "scatter",
         "x": [
          27000,
          43000,
          6900,
          5200,
          42450,
          2071,
          18796,
          33429,
          20273,
          42367,
          2135,
          51000,
          15000,
          26000,
          77427,
          43000,
          41678,
          43000,
          35500,
          41442,
          25000,
          2400,
          50000,
          45280,
          56879,
          20000,
          55138,
          16200,
          44542,
          45000,
          51439,
          54200,
          39000,
          45000,
          45000,
          49998,
          48767,
          127000,
          10079,
          62000,
          24524,
          46706,
          58000,
          45780,
          50000,
          15000,
          64532,
          65000,
          25870,
          37000,
          104707,
          40000,
          15000,
          135000,
          90000,
          70000,
          40534,
          50000,
          39485,
          41000,
          40001,
          40588,
          78000,
          47000,
          6000,
          45000,
          11000,
          59000,
          88000,
          12000,
          71000,
          45000,
          56001,
          43000,
          83000,
          36000,
          72000,
          135154,
          80000,
          89000,
          23000,
          40000,
          15000,
          38000,
          197176,
          142000,
          78000,
          56000,
          47000,
          40000,
          62000,
          58242,
          75000,
          40000,
          89000,
          72000,
          29000,
          8700,
          45000,
          50024,
          3000,
          1400,
          4000,
          1200,
          4100,
          21700,
          16500,
          15000,
          18000,
          11000,
          6000,
          8700,
          7000,
          35000,
          17000,
          17500,
          33000,
          14000,
          26000,
          5400,
          5700,
          6900,
          6000,
          46500,
          11500,
          40000,
          1300,
          7000,
          3000,
          5000,
          11000,
          18000,
          3500,
          500,
          11800,
          5000,
          23500,
          16000,
          15000,
          16600,
          32000,
          20000,
          29000,
          25000,
          25000,
          19000,
          15000,
          58000,
          45000,
          24000,
          6000,
          31000,
          13000,
          45000,
          8000,
          4300,
          15000,
          23000,
          8600,
          4000,
          24000,
          23000,
          14500,
          27000,
          14000,
          500,
          1000,
          42000,
          12000,
          14000,
          5500,
          6700,
          13700,
          1300,
          38600,
          75000,
          30000,
          24000,
          19000,
          213000,
          60000,
          50000,
          30000,
          21000,
          26000,
          1900,
          22000,
          32000,
          18000,
          55000,
          60000,
          25000,
          49000,
          24000,
          50000,
          35000,
          500000,
          33000,
          35000,
          53000,
          92233,
          58000,
          28200,
          53460,
          28282,
          3493,
          12479,
          34797,
          3435,
          21125,
          35775,
          43535,
          22671,
          31604,
          20114,
          36100,
          12500,
          15000,
          45078,
          36000,
          38488,
          32000,
          77632,
          61381,
          36198,
          22517,
          24678,
          57000,
          60000,
          52132,
          45000,
          15001,
          12900,
          53000,
          4492,
          15141,
          11849,
          68000,
          60241,
          23709,
          32322,
          35866,
          34000,
          7000,
          49000,
          71000,
          35000,
          36000,
          30000,
          17000,
          35934,
          56701,
          31427,
          48000,
          54242,
          53675,
          49562,
          40324,
          25000,
          36054,
          29223,
          5600,
          40023,
          16002,
          40026,
          21200,
          35000,
          19434,
          19000,
          18828,
          69341,
          69562,
          27600,
          61203,
          16500,
          30753,
          24800,
          21780,
          4000,
          40126,
          14465,
          50456,
          63000,
          9010,
          9800,
          15059,
          28569,
          44000,
          34000,
          10980,
          19000,
          31427,
          12000,
          38000,
          33019,
          60076,
          33988,
          60000,
          87934,
          9000,
          5464
         ],
         "xaxis": "x",
         "y": [
          3.35,
          4.75,
          7.25,
          2.85,
          4.6,
          9.25,
          6.75,
          6.5,
          8.75,
          7.45,
          2.85,
          6.85,
          7.5,
          6.1,
          2.25,
          7.75,
          7.25,
          7.75,
          3.25,
          2.65,
          2.85,
          4.9,
          4.4,
          2.5,
          2.9,
          3,
          4.15,
          6,
          1.95,
          7.45,
          3.1,
          2.35,
          4.95,
          6,
          5.5,
          2.95,
          4.65,
          0.35,
          3,
          2.25,
          5.85,
          2.55,
          1.95,
          5.5,
          1.25,
          7.5,
          2.65,
          1.05,
          5.8,
          7.75,
          14.9,
          23,
          18,
          16,
          2.75,
          3.6,
          4.5,
          4.75,
          4.1,
          19.99,
          6.95,
          4.5,
          18.75,
          23.5,
          33,
          4.75,
          19.75,
          9.25,
          4.35,
          14.25,
          3.95,
          4.5,
          7.45,
          2.65,
          4.9,
          3.95,
          5.5,
          1.5,
          5.25,
          14.5,
          14.73,
          4.75,
          23,
          12.5,
          3.49,
          2.5,
          35,
          5.9,
          3.45,
          4.75,
          3.8,
          11.25,
          3.51,
          23,
          4,
          5.85,
          20.75,
          17,
          7.05,
          9.65,
          1.75,
          1.7,
          1.65,
          1.45,
          1.35,
          1.35,
          1.35,
          1.25,
          1.2,
          1.2,
          1.2,
          1.15,
          1.15,
          1.15,
          1.15,
          1.11,
          1.1,
          1.1,
          1.1,
          1.05,
          1.05,
          1.05,
          1.05,
          1,
          0.95,
          0.9,
          0.9,
          0.75,
          0.8,
          0.78,
          0.75,
          0.75,
          0.75,
          0.72,
          0.65,
          0.65,
          0.65,
          0.65,
          0.6,
          0.6,
          0.6,
          0.6,
          0.6,
          0.6,
          0.6,
          0.6,
          0.55,
          0.55,
          0.52,
          0.51,
          0.5,
          0.5,
          0.5,
          0.5,
          0.5,
          0.48,
          0.48,
          0.48,
          0.48,
          0.45,
          0.45,
          0.45,
          0.45,
          0.45,
          0.45,
          0.45,
          0.45,
          0.42,
          0.42,
          0.4,
          0.4,
          0.4,
          0.4,
          0.4,
          0.38,
          0.38,
          0.35,
          0.35,
          0.35,
          0.31,
          0.3,
          0.3,
          0.3,
          0.27,
          0.25,
          0.25,
          0.25,
          0.25,
          0.25,
          0.2,
          0.2,
          0.2,
          0.2,
          0.2,
          0.2,
          0.18,
          0.17,
          0.16,
          0.15,
          0.12,
          0.1,
          3.25,
          4.4,
          2.95,
          2.75,
          5.25,
          5.75,
          5.15,
          7.9,
          4.85,
          3.1,
          11.75,
          11.25,
          2.9,
          5.25,
          4.5,
          2.9,
          3.15,
          6.45,
          4.5,
          3.5,
          4.5,
          6,
          8.25,
          5.11,
          2.7,
          5.25,
          2.55,
          4.95,
          3.1,
          6.15,
          9.25,
          11.45,
          3.9,
          5.5,
          9.1,
          3.1,
          11.25,
          4.8,
          2,
          5.35,
          4.75,
          4.4,
          6.25,
          5.95,
          5.2,
          3.75,
          5.95,
          4,
          5.25,
          12.9,
          5,
          5.4,
          7.2,
          5.25,
          3,
          10.25,
          8.5,
          8.4,
          3.9,
          9.15,
          5.5,
          4,
          6.6,
          4,
          6.5,
          3.65,
          8.35,
          4.8,
          6.7,
          4.1,
          3,
          7.5,
          2.25,
          5.3,
          10.9,
          8.65,
          9.7,
          6,
          6.25,
          5.25,
          2.1,
          8.25,
          8.99,
          3.5,
          7.4,
          5.65,
          5.75,
          8.4,
          10.11,
          4.5,
          5.4,
          6.4,
          3.25,
          3.75,
          8.55,
          9.5,
          4,
          3.35,
          11.5,
          5.3
         ],
         "yaxis": "y"
        }
       ],
       "layout": {
        "coloraxis": {
         "colorbar": {
          "title": {
           "text": "Year"
          }
         },
         "colorscale": [
          [
           0,
           "#0d0887"
          ],
          [
           0.1111111111111111,
           "#46039f"
          ],
          [
           0.2222222222222222,
           "#7201a8"
          ],
          [
           0.3333333333333333,
           "#9c179e"
          ],
          [
           0.4444444444444444,
           "#bd3786"
          ],
          [
           0.5555555555555556,
           "#d8576b"
          ],
          [
           0.6666666666666666,
           "#ed7953"
          ],
          [
           0.7777777777777778,
           "#fb9f3a"
          ],
          [
           0.8888888888888888,
           "#fdca26"
          ],
          [
           1,
           "#f0f921"
          ]
         ]
        },
        "legend": {
         "itemsizing": "constant",
         "tracegroupgap": 0
        },
        "margin": {
         "t": 40
        },
        "template": {
         "data": {
          "bar": [
           {
            "error_x": {
             "color": "#2a3f5f"
            },
            "error_y": {
             "color": "#2a3f5f"
            },
            "marker": {
             "line": {
              "color": "#E5ECF6",
              "width": 0.5
             },
             "pattern": {
              "fillmode": "overlay",
              "size": 10,
              "solidity": 0.2
             }
            },
            "type": "bar"
           }
          ],
          "barpolar": [
           {
            "marker": {
             "line": {
              "color": "#E5ECF6",
              "width": 0.5
             },
             "pattern": {
              "fillmode": "overlay",
              "size": 10,
              "solidity": 0.2
             }
            },
            "type": "barpolar"
           }
          ],
          "carpet": [
           {
            "aaxis": {
             "endlinecolor": "#2a3f5f",
             "gridcolor": "white",
             "linecolor": "white",
             "minorgridcolor": "white",
             "startlinecolor": "#2a3f5f"
            },
            "baxis": {
             "endlinecolor": "#2a3f5f",
             "gridcolor": "white",
             "linecolor": "white",
             "minorgridcolor": "white",
             "startlinecolor": "#2a3f5f"
            },
            "type": "carpet"
           }
          ],
          "choropleth": [
           {
            "colorbar": {
             "outlinewidth": 0,
             "ticks": ""
            },
            "type": "choropleth"
           }
          ],
          "contour": [
           {
            "colorbar": {
             "outlinewidth": 0,
             "ticks": ""
            },
            "colorscale": [
             [
              0,
              "#0d0887"
             ],
             [
              0.1111111111111111,
              "#46039f"
             ],
             [
              0.2222222222222222,
              "#7201a8"
             ],
             [
              0.3333333333333333,
              "#9c179e"
             ],
             [
              0.4444444444444444,
              "#bd3786"
             ],
             [
              0.5555555555555556,
              "#d8576b"
             ],
             [
              0.6666666666666666,
              "#ed7953"
             ],
             [
              0.7777777777777778,
              "#fb9f3a"
             ],
             [
              0.8888888888888888,
              "#fdca26"
             ],
             [
              1,
              "#f0f921"
             ]
            ],
            "type": "contour"
           }
          ],
          "contourcarpet": [
           {
            "colorbar": {
             "outlinewidth": 0,
             "ticks": ""
            },
            "type": "contourcarpet"
           }
          ],
          "heatmap": [
           {
            "colorbar": {
             "outlinewidth": 0,
             "ticks": ""
            },
            "colorscale": [
             [
              0,
              "#0d0887"
             ],
             [
              0.1111111111111111,
              "#46039f"
             ],
             [
              0.2222222222222222,
              "#7201a8"
             ],
             [
              0.3333333333333333,
              "#9c179e"
             ],
             [
              0.4444444444444444,
              "#bd3786"
             ],
             [
              0.5555555555555556,
              "#d8576b"
             ],
             [
              0.6666666666666666,
              "#ed7953"
             ],
             [
              0.7777777777777778,
              "#fb9f3a"
             ],
             [
              0.8888888888888888,
              "#fdca26"
             ],
             [
              1,
              "#f0f921"
             ]
            ],
            "type": "heatmap"
           }
          ],
          "heatmapgl": [
           {
            "colorbar": {
             "outlinewidth": 0,
             "ticks": ""
            },
            "colorscale": [
             [
              0,
              "#0d0887"
             ],
             [
              0.1111111111111111,
              "#46039f"
             ],
             [
              0.2222222222222222,
              "#7201a8"
             ],
             [
              0.3333333333333333,
              "#9c179e"
             ],
             [
              0.4444444444444444,
              "#bd3786"
             ],
             [
              0.5555555555555556,
              "#d8576b"
             ],
             [
              0.6666666666666666,
              "#ed7953"
             ],
             [
              0.7777777777777778,
              "#fb9f3a"
             ],
             [
              0.8888888888888888,
              "#fdca26"
             ],
             [
              1,
              "#f0f921"
             ]
            ],
            "type": "heatmapgl"
           }
          ],
          "histogram": [
           {
            "marker": {
             "pattern": {
              "fillmode": "overlay",
              "size": 10,
              "solidity": 0.2
             }
            },
            "type": "histogram"
           }
          ],
          "histogram2d": [
           {
            "colorbar": {
             "outlinewidth": 0,
             "ticks": ""
            },
            "colorscale": [
             [
              0,
              "#0d0887"
             ],
             [
              0.1111111111111111,
              "#46039f"
             ],
             [
              0.2222222222222222,
              "#7201a8"
             ],
             [
              0.3333333333333333,
              "#9c179e"
             ],
             [
              0.4444444444444444,
              "#bd3786"
             ],
             [
              0.5555555555555556,
              "#d8576b"
             ],
             [
              0.6666666666666666,
              "#ed7953"
             ],
             [
              0.7777777777777778,
              "#fb9f3a"
             ],
             [
              0.8888888888888888,
              "#fdca26"
             ],
             [
              1,
              "#f0f921"
             ]
            ],
            "type": "histogram2d"
           }
          ],
          "histogram2dcontour": [
           {
            "colorbar": {
             "outlinewidth": 0,
             "ticks": ""
            },
            "colorscale": [
             [
              0,
              "#0d0887"
             ],
             [
              0.1111111111111111,
              "#46039f"
             ],
             [
              0.2222222222222222,
              "#7201a8"
             ],
             [
              0.3333333333333333,
              "#9c179e"
             ],
             [
              0.4444444444444444,
              "#bd3786"
             ],
             [
              0.5555555555555556,
              "#d8576b"
             ],
             [
              0.6666666666666666,
              "#ed7953"
             ],
             [
              0.7777777777777778,
              "#fb9f3a"
             ],
             [
              0.8888888888888888,
              "#fdca26"
             ],
             [
              1,
              "#f0f921"
             ]
            ],
            "type": "histogram2dcontour"
           }
          ],
          "mesh3d": [
           {
            "colorbar": {
             "outlinewidth": 0,
             "ticks": ""
            },
            "type": "mesh3d"
           }
          ],
          "parcoords": [
           {
            "line": {
             "colorbar": {
              "outlinewidth": 0,
              "ticks": ""
             }
            },
            "type": "parcoords"
           }
          ],
          "pie": [
           {
            "automargin": true,
            "type": "pie"
           }
          ],
          "scatter": [
           {
            "fillpattern": {
             "fillmode": "overlay",
             "size": 10,
             "solidity": 0.2
            },
            "type": "scatter"
           }
          ],
          "scatter3d": [
           {
            "line": {
             "colorbar": {
              "outlinewidth": 0,
              "ticks": ""
             }
            },
            "marker": {
             "colorbar": {
              "outlinewidth": 0,
              "ticks": ""
             }
            },
            "type": "scatter3d"
           }
          ],
          "scattercarpet": [
           {
            "marker": {
             "colorbar": {
              "outlinewidth": 0,
              "ticks": ""
             }
            },
            "type": "scattercarpet"
           }
          ],
          "scattergeo": [
           {
            "marker": {
             "colorbar": {
              "outlinewidth": 0,
              "ticks": ""
             }
            },
            "type": "scattergeo"
           }
          ],
          "scattergl": [
           {
            "marker": {
             "colorbar": {
              "outlinewidth": 0,
              "ticks": ""
             }
            },
            "type": "scattergl"
           }
          ],
          "scattermapbox": [
           {
            "marker": {
             "colorbar": {
              "outlinewidth": 0,
              "ticks": ""
             }
            },
            "type": "scattermapbox"
           }
          ],
          "scatterpolar": [
           {
            "marker": {
             "colorbar": {
              "outlinewidth": 0,
              "ticks": ""
             }
            },
            "type": "scatterpolar"
           }
          ],
          "scatterpolargl": [
           {
            "marker": {
             "colorbar": {
              "outlinewidth": 0,
              "ticks": ""
             }
            },
            "type": "scatterpolargl"
           }
          ],
          "scatterternary": [
           {
            "marker": {
             "colorbar": {
              "outlinewidth": 0,
              "ticks": ""
             }
            },
            "type": "scatterternary"
           }
          ],
          "surface": [
           {
            "colorbar": {
             "outlinewidth": 0,
             "ticks": ""
            },
            "colorscale": [
             [
              0,
              "#0d0887"
             ],
             [
              0.1111111111111111,
              "#46039f"
             ],
             [
              0.2222222222222222,
              "#7201a8"
             ],
             [
              0.3333333333333333,
              "#9c179e"
             ],
             [
              0.4444444444444444,
              "#bd3786"
             ],
             [
              0.5555555555555556,
              "#d8576b"
             ],
             [
              0.6666666666666666,
              "#ed7953"
             ],
             [
              0.7777777777777778,
              "#fb9f3a"
             ],
             [
              0.8888888888888888,
              "#fdca26"
             ],
             [
              1,
              "#f0f921"
             ]
            ],
            "type": "surface"
           }
          ],
          "table": [
           {
            "cells": {
             "fill": {
              "color": "#EBF0F8"
             },
             "line": {
              "color": "white"
             }
            },
            "header": {
             "fill": {
              "color": "#C8D4E3"
             },
             "line": {
              "color": "white"
             }
            },
            "type": "table"
           }
          ]
         },
         "layout": {
          "annotationdefaults": {
           "arrowcolor": "#2a3f5f",
           "arrowhead": 0,
           "arrowwidth": 1
          },
          "autotypenumbers": "strict",
          "coloraxis": {
           "colorbar": {
            "outlinewidth": 0,
            "ticks": ""
           }
          },
          "colorscale": {
           "diverging": [
            [
             0,
             "#8e0152"
            ],
            [
             0.1,
             "#c51b7d"
            ],
            [
             0.2,
             "#de77ae"
            ],
            [
             0.3,
             "#f1b6da"
            ],
            [
             0.4,
             "#fde0ef"
            ],
            [
             0.5,
             "#f7f7f7"
            ],
            [
             0.6,
             "#e6f5d0"
            ],
            [
             0.7,
             "#b8e186"
            ],
            [
             0.8,
             "#7fbc41"
            ],
            [
             0.9,
             "#4d9221"
            ],
            [
             1,
             "#276419"
            ]
           ],
           "sequential": [
            [
             0,
             "#0d0887"
            ],
            [
             0.1111111111111111,
             "#46039f"
            ],
            [
             0.2222222222222222,
             "#7201a8"
            ],
            [
             0.3333333333333333,
             "#9c179e"
            ],
            [
             0.4444444444444444,
             "#bd3786"
            ],
            [
             0.5555555555555556,
             "#d8576b"
            ],
            [
             0.6666666666666666,
             "#ed7953"
            ],
            [
             0.7777777777777778,
             "#fb9f3a"
            ],
            [
             0.8888888888888888,
             "#fdca26"
            ],
            [
             1,
             "#f0f921"
            ]
           ],
           "sequentialminus": [
            [
             0,
             "#0d0887"
            ],
            [
             0.1111111111111111,
             "#46039f"
            ],
            [
             0.2222222222222222,
             "#7201a8"
            ],
            [
             0.3333333333333333,
             "#9c179e"
            ],
            [
             0.4444444444444444,
             "#bd3786"
            ],
            [
             0.5555555555555556,
             "#d8576b"
            ],
            [
             0.6666666666666666,
             "#ed7953"
            ],
            [
             0.7777777777777778,
             "#fb9f3a"
            ],
            [
             0.8888888888888888,
             "#fdca26"
            ],
            [
             1,
             "#f0f921"
            ]
           ]
          },
          "colorway": [
           "#636efa",
           "#EF553B",
           "#00cc96",
           "#ab63fa",
           "#FFA15A",
           "#19d3f3",
           "#FF6692",
           "#B6E880",
           "#FF97FF",
           "#FECB52"
          ],
          "font": {
           "color": "#2a3f5f"
          },
          "geo": {
           "bgcolor": "white",
           "lakecolor": "white",
           "landcolor": "#E5ECF6",
           "showlakes": true,
           "showland": true,
           "subunitcolor": "white"
          },
          "hoverlabel": {
           "align": "left"
          },
          "hovermode": "closest",
          "mapbox": {
           "style": "light"
          },
          "paper_bgcolor": "white",
          "plot_bgcolor": "#E5ECF6",
          "polar": {
           "angularaxis": {
            "gridcolor": "white",
            "linecolor": "white",
            "ticks": ""
           },
           "bgcolor": "#E5ECF6",
           "radialaxis": {
            "gridcolor": "white",
            "linecolor": "white",
            "ticks": ""
           }
          },
          "scene": {
           "xaxis": {
            "backgroundcolor": "#E5ECF6",
            "gridcolor": "white",
            "gridwidth": 2,
            "linecolor": "white",
            "showbackground": true,
            "ticks": "",
            "zerolinecolor": "white"
           },
           "yaxis": {
            "backgroundcolor": "#E5ECF6",
            "gridcolor": "white",
            "gridwidth": 2,
            "linecolor": "white",
            "showbackground": true,
            "ticks": "",
            "zerolinecolor": "white"
           },
           "zaxis": {
            "backgroundcolor": "#E5ECF6",
            "gridcolor": "white",
            "gridwidth": 2,
            "linecolor": "white",
            "showbackground": true,
            "ticks": "",
            "zerolinecolor": "white"
           }
          },
          "shapedefaults": {
           "line": {
            "color": "#2a3f5f"
           }
          },
          "ternary": {
           "aaxis": {
            "gridcolor": "white",
            "linecolor": "white",
            "ticks": ""
           },
           "baxis": {
            "gridcolor": "white",
            "linecolor": "white",
            "ticks": ""
           },
           "bgcolor": "#E5ECF6",
           "caxis": {
            "gridcolor": "white",
            "linecolor": "white",
            "ticks": ""
           }
          },
          "title": {
           "x": 0.05
          },
          "xaxis": {
           "automargin": true,
           "gridcolor": "white",
           "linecolor": "white",
           "ticks": "",
           "title": {
            "standoff": 15
           },
           "zerolinecolor": "white",
           "zerolinewidth": 2
          },
          "yaxis": {
           "automargin": true,
           "gridcolor": "white",
           "linecolor": "white",
           "ticks": "",
           "title": {
            "standoff": 15
           },
           "zerolinecolor": "white",
           "zerolinewidth": 2
          }
         }
        },
        "title": {
         "text": "Selling Price vs Driven Kilometers"
        },
        "xaxis": {
         "anchor": "y",
         "domain": [
          0,
          1
         ],
         "title": {
          "text": "Driven Kilometers"
         },
         "type": "log"
        },
        "yaxis": {
         "anchor": "x",
         "domain": [
          0,
          1
         ],
         "title": {
          "text": "Selling Price"
         }
        }
       }
      }
     },
     "metadata": {},
     "output_type": "display_data"
    }
   ],
   "source": [
    "fig7 = px.scatter(cars, x='Driven_kms', y='Selling_Price', size='Selling_Price', hover_name='Car_Name', log_x=True, color='Year')\n",
    "\n",
    "fig7.update_layout(title='Selling Price vs Driven Kilometers',\n",
    "                  xaxis_title='Driven Kilometers',\n",
    "                  yaxis_title='Selling Price',\n",
    "                  coloraxis_colorbar=dict(title='Year'),\n",
    "                  margin=dict(t=40)  \n",
    "                 )\n",
    "\n",
    "\n",
    "fig7.show()"
   ]
  },
  {
   "cell_type": "code",
   "execution_count": 544,
   "metadata": {},
   "outputs": [
    {
     "data": {
      "application/vnd.plotly.v1+json": {
       "config": {
        "plotlyServerURL": "https://plot.ly"
       },
       "data": [
        {
         "branchvalues": "total",
         "domain": {
          "x": [
           0,
           1
          ],
          "y": [
           0,
           1
          ]
         },
         "hovertemplate": "labels=%{label}<br>Selling_Price=%{value}<br>parent=%{parent}<br>id=%{id}<extra></extra>",
         "ids": [
          "Petrol/Individual/Manual/2003/800",
          "Petrol/Individual/Automatic/2008/Activa 3g",
          "Petrol/Individual/Automatic/2016/Activa 3g",
          "Petrol/Individual/Automatic/2017/Activa 4g",
          "Petrol/Individual/Manual/2015/Bajaj  ct 100",
          "Petrol/Individual/Manual/2016/Bajaj Avenger 150",
          "Petrol/Individual/Manual/2016/Bajaj Avenger 150 street",
          "Petrol/Individual/Manual/2016/Bajaj Avenger 220",
          "Petrol/Individual/Manual/2017/Bajaj Avenger 220",
          "Petrol/Individual/Manual/2010/Bajaj Avenger 220 dtsi",
          "Petrol/Individual/Manual/2015/Bajaj Avenger 220 dtsi",
          "Petrol/Individual/Manual/2011/Bajaj Avenger Street 220",
          "Petrol/Individual/Manual/2013/Bajaj Discover 100",
          "Petrol/Individual/Manual/2011/Bajaj Discover 125",
          "Petrol/Individual/Manual/2012/Bajaj Discover 125",
          "Petrol/Individual/Manual/2017/Bajaj Dominar 400",
          "Petrol/Individual/Manual/2014/Bajaj Pulsar  NS 200",
          "Petrol/Individual/Manual/2014/Bajaj Pulsar 135 LS",
          "Petrol/Individual/Manual/2006/Bajaj Pulsar 150",
          "Petrol/Individual/Manual/2008/Bajaj Pulsar 150",
          "Petrol/Individual/Manual/2015/Bajaj Pulsar 150",
          "Petrol/Individual/Manual/2010/Bajaj Pulsar 220 F",
          "Petrol/Individual/Manual/2016/Bajaj Pulsar 220 F",
          "Petrol/Individual/Manual/2012/Bajaj Pulsar NS 200",
          "Petrol/Individual/Manual/2013/Bajaj Pulsar NS 200",
          "Petrol/Individual/Manual/2016/Bajaj Pulsar RS200",
          "Petrol/Individual/Manual/2008/Hero  CBZ Xtreme",
          "Petrol/Individual/Manual/2013/Hero  Ignitor Disc",
          "Petrol/Individual/Manual/2013/Hero Extreme",
          "Petrol/Individual/Manual/2014/Hero Extreme",
          "Petrol/Individual/Manual/2013/Hero Glamour",
          "Petrol/Individual/Manual/2011/Hero Honda CBZ extreme",
          "Petrol/Individual/Manual/2012/Hero Honda Passion Pro",
          "Petrol/Individual/Manual/2007/Hero Hunk",
          "Petrol/Individual/Manual/2015/Hero Passion Pro",
          "Petrol/Individual/Manual/2016/Hero Passion Pro",
          "Petrol/Individual/Manual/2016/Hero Passion X pro",
          "Petrol/Individual/Manual/2016/Hero Splender Plus",
          "Petrol/Individual/Manual/2015/Hero Splender iSmart",
          "Petrol/Individual/Manual/2016/Hero Splender iSmart",
          "Petrol/Individual/Manual/2005/Hero Super Splendor",
          "Petrol/Individual/Automatic/2016/Honda Activa 125",
          "Petrol/Individual/Automatic/2017/Honda Activa 4G",
          "Petrol/Individual/Manual/2016/Honda CB Hornet 160R",
          "Petrol/Individual/Manual/2017/Honda CB Hornet 160R",
          "Petrol/Individual/Manual/2007/Honda CB Shine",
          "Petrol/Individual/Manual/2013/Honda CB Shine",
          "Petrol/Individual/Manual/2013/Honda CB Trigger",
          "Petrol/Individual/Manual/2015/Honda CB Unicorn",
          "Petrol/Individual/Manual/2010/Honda CB twister",
          "Petrol/Individual/Manual/2013/Honda CB twister",
          "Petrol/Individual/Manual/2013/Honda CBR 150",
          "Petrol/Individual/Manual/2014/Honda CBR 150",
          "Petrol/Individual/Manual/2017/Honda Dream Yuga ",
          "Petrol/Individual/Manual/2010/Honda Karizma",
          "Petrol/Individual/Manual/2011/Honda Karizma",
          "Petrol/Individual/Manual/2014/Hyosung GT250R",
          "Petrol/Individual/Manual/2014/KTM 390 Duke ",
          "Petrol/Individual/Manual/2016/KTM RC200",
          "Petrol/Individual/Manual/2017/KTM RC200",
          "Petrol/Individual/Manual/2015/KTM RC390",
          "Petrol/Individual/Manual/2016/Mahindra Mojo XT300",
          "Petrol/Individual/Manual/2016/Royal Enfield Bullet 350",
          "Petrol/Individual/Manual/2013/Royal Enfield Classic 350",
          "Petrol/Individual/Manual/2015/Royal Enfield Classic 350",
          "Petrol/Individual/Manual/2017/Royal Enfield Classic 350",
          "Petrol/Individual/Manual/2009/Royal Enfield Classic 500",
          "Petrol/Individual/Manual/2012/Royal Enfield Classic 500",
          "Petrol/Individual/Manual/2011/Royal Enfield Thunder 350",
          "Petrol/Individual/Manual/2013/Royal Enfield Thunder 350",
          "Petrol/Individual/Manual/2016/Royal Enfield Thunder 350",
          "Petrol/Individual/Manual/2013/Royal Enfield Thunder 500",
          "Petrol/Individual/Manual/2015/Royal Enfield Thunder 500",
          "Petrol/Individual/Manual/2016/Royal Enfield Thunder 500",
          "Petrol/Individual/Automatic/2008/Suzuki Access 125",
          "Petrol/Individual/Manual/2012/TVS Apache RTR 160",
          "Petrol/Individual/Manual/2014/TVS Apache RTR 160",
          "Petrol/Individual/Manual/2017/TVS Apache RTR 160",
          "Petrol/Individual/Manual/2011/TVS Apache RTR 180",
          "Petrol/Individual/Manual/2014/TVS Apache RTR 180",
          "Petrol/Individual/Automatic/2014/TVS Jupyter",
          "Petrol/Individual/Manual/2017/TVS Sport ",
          "Petrol/Individual/Automatic/2010/TVS Wego",
          "Petrol/Individual/Manual/2017/UM Renegade Mojave",
          "Petrol/Individual/Manual/2015/Yamaha FZ  v 2.0",
          "Petrol/Individual/Manual/2016/Yamaha FZ  v 2.0",
          "Petrol/Individual/Manual/2015/Yamaha FZ 16",
          "Petrol/Individual/Manual/2012/Yamaha FZ S ",
          "Petrol/Individual/Manual/2015/Yamaha FZ S V 2.0",
          "Petrol/Individual/Manual/2017/Yamaha FZ S V 2.0",
          "Petrol/Individual/Manual/2014/Yamaha Fazer ",
          "Petrol/Dealer/Manual/2017/alto 800",
          "Petrol/Dealer/Manual/2010/alto k10",
          "Petrol/Dealer/Manual/2014/alto k10",
          "Petrol/Dealer/Manual/2016/alto k10",
          "Petrol/Dealer/Manual/2014/amaze",
          "Petrol/Dealer/Automatic/2015/amaze",
          "Petrol/Dealer/Manual/2015/amaze",
          "Petrol/Dealer/Automatic/2016/baleno",
          "Petrol/Dealer/Manual/2012/brio",
          "Petrol/Dealer/Manual/2013/brio",
          "Petrol/Dealer/Manual/2014/brio",
          "Petrol/Dealer/Automatic/2015/brio",
          "Petrol/Dealer/Manual/2015/brio",
          "Petrol/Dealer/Manual/2016/brio",
          "Petrol/Dealer/Manual/2017/brio",
          "Petrol/Individual/Automatic/2006/camry",
          "Petrol/Dealer/Automatic/2014/ciaz",
          "Petrol/Dealer/Automatic/2015/ciaz",
          "Diesel/Dealer/Manual/2015/ciaz",
          "Petrol/Dealer/Manual/2015/ciaz",
          "Diesel/Dealer/Manual/2016/ciaz",
          "Petrol/Dealer/Automatic/2017/ciaz",
          "Petrol/Dealer/Manual/2017/ciaz",
          "Petrol/Dealer/Manual/2006/city",
          "Petrol/Dealer/Manual/2009/city",
          "Petrol/Dealer/Manual/2010/city",
          "Petrol/Dealer/Manual/2011/city",
          "Petrol/Dealer/Manual/2013/city",
          "Diesel/Dealer/Manual/2014/city",
          "Petrol/Dealer/Manual/2014/city",
          "Diesel/Dealer/Manual/2015/city",
          "Petrol/Dealer/Manual/2015/city",
          "Petrol/Dealer/Automatic/2016/city",
          "Diesel/Dealer/Manual/2016/city",
          "Petrol/Dealer/Manual/2016/city",
          "Diesel/Dealer/Manual/2017/city",
          "Petrol/Dealer/Automatic/2004/corolla",
          "Petrol/Dealer/Automatic/2008/corolla altis",
          "Petrol/Dealer/Automatic/2009/corolla altis",
          "Petrol/Dealer/Manual/2009/corolla altis",
          "Petrol/Dealer/Automatic/2010/corolla altis",
          "Petrol/Dealer/Manual/2010/corolla altis",
          "Diesel/Dealer/Manual/2011/corolla altis",
          "Petrol/Dealer/Manual/2011/corolla altis",
          "Petrol/Dealer/Manual/2012/corolla altis",
          "Petrol/Dealer/Manual/2013/corolla altis",
          "Diesel/Dealer/Manual/2016/corolla altis",
          "Petrol/Dealer/Manual/2016/corolla altis",
          "Petrol/Dealer/Manual/2017/corolla altis",
          "Diesel/Dealer/Manual/2015/creta",
          "Diesel/Dealer/Manual/2016/creta",
          "Petrol/Dealer/Manual/2016/creta",
          "Petrol/Dealer/Manual/2009/dzire",
          "Diesel/Dealer/Manual/2014/dzire",
          "Petrol/Dealer/Manual/2015/dzire",
          "Petrol/Dealer/Automatic/2015/elantra",
          "Diesel/Dealer/Manual/2015/elantra",
          "Petrol/Dealer/Manual/2012/eon",
          "Petrol/Dealer/Manual/2015/eon",
          "Petrol/Dealer/Manual/2016/eon",
          "Petrol/Dealer/Manual/2017/eon",
          "Diesel/Dealer/Manual/2014/ertiga",
          "Diesel/Dealer/Manual/2015/ertiga",
          "Petrol/Dealer/Manual/2015/ertiga",
          "Diesel/Dealer/Manual/2016/ertiga",
          "Diesel/Dealer/Manual/2014/etios cross",
          "Petrol/Dealer/Manual/2015/etios cross",
          "Petrol/Dealer/Manual/2014/etios g",
          "Petrol/Dealer/Manual/2015/etios g",
          "Diesel/Dealer/Manual/2015/etios gd",
          "Petrol/Dealer/Manual/2011/etios liva",
          "Petrol/Dealer/Manual/2013/etios liva",
          "Diesel/Dealer/Manual/2014/etios liva",
          "Diesel/Dealer/Manual/2010/fortuner",
          "Diesel/Dealer/Automatic/2012/fortuner",
          "Diesel/Individual/Automatic/2013/fortuner",
          "Diesel/Dealer/Automatic/2014/fortuner",
          "Diesel/Dealer/Automatic/2015/fortuner",
          "Diesel/Dealer/Automatic/2017/fortuner",
          "Diesel/Dealer/Manual/2013/grand i10",
          "Petrol/Dealer/Automatic/2015/grand i10",
          "Diesel/Dealer/Manual/2015/grand i10",
          "Petrol/Dealer/Manual/2015/grand i10",
          "Petrol/Dealer/Manual/2016/grand i10",
          "Petrol/Dealer/Manual/2017/grand i10",
          "Petrol/Dealer/Manual/2011/i10",
          "Petrol/Dealer/Manual/2012/i10",
          "Petrol/Dealer/Manual/2013/i10",
          "Diesel/Dealer/Manual/2010/i20",
          "Petrol/Dealer/Manual/2011/i20",
          "Diesel/Dealer/Manual/2012/i20",
          "Petrol/Dealer/Manual/2012/i20",
          "Petrol/Dealer/Automatic/2013/i20",
          "Diesel/Dealer/Manual/2014/i20",
          "Petrol/Dealer/Manual/2016/i20",
          "Petrol/Dealer/Manual/2017/i20",
          "Petrol/Dealer/Manual/2017/ignis",
          "Diesel/Dealer/Manual/2005/innova",
          "Petrol/Dealer/Manual/2005/innova",
          "Petrol/Individual/Manual/2005/innova",
          "Diesel/Dealer/Manual/2014/innova",
          "Diesel/Dealer/Manual/2015/innova",
          "Diesel/Dealer/Automatic/2016/innova",
          "Diesel/Dealer/Automatic/2017/innova",
          "Petrol/Dealer/Automatic/2017/innova",
          "Petrol/Dealer/Manual/2010/jazz",
          "Petrol/Dealer/Automatic/2016/jazz",
          "Petrol/Dealer/Manual/2016/jazz",
          "Petrol/Dealer/Manual/2017/jazz",
          "Diesel/Dealer/Manual/2010/land cruiser",
          "Petrol/Dealer/Manual/2012/omni",
          "Petrol/Dealer/Manual/2011/ritz",
          "Diesel/Dealer/Manual/2012/ritz",
          "Petrol/Dealer/Manual/2013/ritz",
          "Petrol/Dealer/Manual/2014/ritz",
          "Diesel/Dealer/Manual/2015/s cross",
          "Petrol/Dealer/Manual/2011/swift",
          "Petrol/Dealer/Manual/2013/swift",
          "Diesel/Dealer/Manual/2014/swift",
          "Petrol/Individual/Manual/2017/swift",
          "Petrol/Dealer/Manual/2003/sx4",
          "Petrol/Dealer/Manual/2008/sx4",
          "Petrol/Dealer/Manual/2010/sx4",
          "Petrol/Dealer/Automatic/2011/sx4",
          "CNG/Dealer/Manual/2011/sx4",
          "Diesel/Dealer/Manual/2013/sx4",
          "Diesel/Dealer/Manual/2012/verna",
          "Petrol/Dealer/Manual/2012/verna",
          "Petrol/Dealer/Automatic/2013/verna",
          "Diesel/Dealer/Manual/2013/verna",
          "Petrol/Dealer/Manual/2013/verna",
          "Petrol/Dealer/Manual/2014/verna",
          "Diesel/Dealer/Manual/2015/verna",
          "Petrol/Dealer/Manual/2015/verna",
          "Petrol/Dealer/Manual/2017/verna",
          "Diesel/Dealer/Manual/2018/vitara brezza",
          "Petrol/Dealer/Manual/2006/wagon r",
          "Petrol/Dealer/Manual/2011/wagon r",
          "Petrol/Dealer/Manual/2013/wagon r",
          "CNG/Dealer/Manual/2015/wagon r",
          "Petrol/Dealer/Manual/2014/xcent",
          "Petrol/Dealer/Manual/2015/xcent",
          "Petrol/Dealer/Manual/2017/xcent",
          "Petrol/Dealer/Manual/2003",
          "Petrol/Individual/Manual/2003",
          "Petrol/Dealer/Automatic/2004",
          "Diesel/Dealer/Manual/2005",
          "Petrol/Dealer/Manual/2005",
          "Petrol/Individual/Manual/2005",
          "Petrol/Individual/Automatic/2006",
          "Petrol/Dealer/Manual/2006",
          "Petrol/Individual/Manual/2006",
          "Petrol/Individual/Manual/2007",
          "Petrol/Dealer/Automatic/2008",
          "Petrol/Individual/Automatic/2008",
          "Petrol/Dealer/Manual/2008",
          "Petrol/Individual/Manual/2008",
          "Petrol/Dealer/Automatic/2009",
          "Petrol/Dealer/Manual/2009",
          "Petrol/Individual/Manual/2009",
          "Petrol/Dealer/Automatic/2010",
          "Petrol/Individual/Automatic/2010",
          "Diesel/Dealer/Manual/2010",
          "Petrol/Dealer/Manual/2010",
          "Petrol/Individual/Manual/2010",
          "Petrol/Dealer/Automatic/2011",
          "CNG/Dealer/Manual/2011",
          "Diesel/Dealer/Manual/2011",
          "Petrol/Dealer/Manual/2011",
          "Petrol/Individual/Manual/2011",
          "Diesel/Dealer/Automatic/2012",
          "Diesel/Dealer/Manual/2012",
          "Petrol/Dealer/Manual/2012",
          "Petrol/Individual/Manual/2012",
          "Petrol/Dealer/Automatic/2013",
          "Diesel/Individual/Automatic/2013",
          "Diesel/Dealer/Manual/2013",
          "Petrol/Dealer/Manual/2013",
          "Petrol/Individual/Manual/2013",
          "Diesel/Dealer/Automatic/2014",
          "Petrol/Dealer/Automatic/2014",
          "Petrol/Individual/Automatic/2014",
          "Diesel/Dealer/Manual/2014",
          "Petrol/Dealer/Manual/2014",
          "Petrol/Individual/Manual/2014",
          "Diesel/Dealer/Automatic/2015",
          "Petrol/Dealer/Automatic/2015",
          "CNG/Dealer/Manual/2015",
          "Diesel/Dealer/Manual/2015",
          "Petrol/Dealer/Manual/2015",
          "Petrol/Individual/Manual/2015",
          "Diesel/Dealer/Automatic/2016",
          "Petrol/Dealer/Automatic/2016",
          "Petrol/Individual/Automatic/2016",
          "Diesel/Dealer/Manual/2016",
          "Petrol/Dealer/Manual/2016",
          "Petrol/Individual/Manual/2016",
          "Diesel/Dealer/Automatic/2017",
          "Petrol/Dealer/Automatic/2017",
          "Petrol/Individual/Automatic/2017",
          "Diesel/Dealer/Manual/2017",
          "Petrol/Dealer/Manual/2017",
          "Petrol/Individual/Manual/2017",
          "Diesel/Dealer/Manual/2018",
          "Diesel/Dealer/Automatic",
          "Petrol/Dealer/Automatic",
          "Diesel/Individual/Automatic",
          "Petrol/Individual/Automatic",
          "CNG/Dealer/Manual",
          "Diesel/Dealer/Manual",
          "Petrol/Dealer/Manual",
          "Petrol/Individual/Manual",
          "CNG/Dealer",
          "Diesel/Dealer",
          "Petrol/Dealer",
          "Diesel/Individual",
          "Petrol/Individual",
          "CNG",
          "Diesel",
          "Petrol"
         ],
         "labels": [
          "800",
          "Activa 3g",
          "Activa 3g",
          "Activa 4g",
          "Bajaj  ct 100",
          "Bajaj Avenger 150",
          "Bajaj Avenger 150 street",
          "Bajaj Avenger 220",
          "Bajaj Avenger 220",
          "Bajaj Avenger 220 dtsi",
          "Bajaj Avenger 220 dtsi",
          "Bajaj Avenger Street 220",
          "Bajaj Discover 100",
          "Bajaj Discover 125",
          "Bajaj Discover 125",
          "Bajaj Dominar 400",
          "Bajaj Pulsar  NS 200",
          "Bajaj Pulsar 135 LS",
          "Bajaj Pulsar 150",
          "Bajaj Pulsar 150",
          "Bajaj Pulsar 150",
          "Bajaj Pulsar 220 F",
          "Bajaj Pulsar 220 F",
          "Bajaj Pulsar NS 200",
          "Bajaj Pulsar NS 200",
          "Bajaj Pulsar RS200",
          "Hero  CBZ Xtreme",
          "Hero  Ignitor Disc",
          "Hero Extreme",
          "Hero Extreme",
          "Hero Glamour",
          "Hero Honda CBZ extreme",
          "Hero Honda Passion Pro",
          "Hero Hunk",
          "Hero Passion Pro",
          "Hero Passion Pro",
          "Hero Passion X pro",
          "Hero Splender Plus",
          "Hero Splender iSmart",
          "Hero Splender iSmart",
          "Hero Super Splendor",
          "Honda Activa 125",
          "Honda Activa 4G",
          "Honda CB Hornet 160R",
          "Honda CB Hornet 160R",
          "Honda CB Shine",
          "Honda CB Shine",
          "Honda CB Trigger",
          "Honda CB Unicorn",
          "Honda CB twister",
          "Honda CB twister",
          "Honda CBR 150",
          "Honda CBR 150",
          "Honda Dream Yuga ",
          "Honda Karizma",
          "Honda Karizma",
          "Hyosung GT250R",
          "KTM 390 Duke ",
          "KTM RC200",
          "KTM RC200",
          "KTM RC390",
          "Mahindra Mojo XT300",
          "Royal Enfield Bullet 350",
          "Royal Enfield Classic 350",
          "Royal Enfield Classic 350",
          "Royal Enfield Classic 350",
          "Royal Enfield Classic 500",
          "Royal Enfield Classic 500",
          "Royal Enfield Thunder 350",
          "Royal Enfield Thunder 350",
          "Royal Enfield Thunder 350",
          "Royal Enfield Thunder 500",
          "Royal Enfield Thunder 500",
          "Royal Enfield Thunder 500",
          "Suzuki Access 125",
          "TVS Apache RTR 160",
          "TVS Apache RTR 160",
          "TVS Apache RTR 160",
          "TVS Apache RTR 180",
          "TVS Apache RTR 180",
          "TVS Jupyter",
          "TVS Sport ",
          "TVS Wego",
          "UM Renegade Mojave",
          "Yamaha FZ  v 2.0",
          "Yamaha FZ  v 2.0",
          "Yamaha FZ 16",
          "Yamaha FZ S ",
          "Yamaha FZ S V 2.0",
          "Yamaha FZ S V 2.0",
          "Yamaha Fazer ",
          "alto 800",
          "alto k10",
          "alto k10",
          "alto k10",
          "amaze",
          "amaze",
          "amaze",
          "baleno",
          "brio",
          "brio",
          "brio",
          "brio",
          "brio",
          "brio",
          "brio",
          "camry",
          "ciaz",
          "ciaz",
          "ciaz",
          "ciaz",
          "ciaz",
          "ciaz",
          "ciaz",
          "city",
          "city",
          "city",
          "city",
          "city",
          "city",
          "city",
          "city",
          "city",
          "city",
          "city",
          "city",
          "city",
          "corolla",
          "corolla altis",
          "corolla altis",
          "corolla altis",
          "corolla altis",
          "corolla altis",
          "corolla altis",
          "corolla altis",
          "corolla altis",
          "corolla altis",
          "corolla altis",
          "corolla altis",
          "corolla altis",
          "creta",
          "creta",
          "creta",
          "dzire",
          "dzire",
          "dzire",
          "elantra",
          "elantra",
          "eon",
          "eon",
          "eon",
          "eon",
          "ertiga",
          "ertiga",
          "ertiga",
          "ertiga",
          "etios cross",
          "etios cross",
          "etios g",
          "etios g",
          "etios gd",
          "etios liva",
          "etios liva",
          "etios liva",
          "fortuner",
          "fortuner",
          "fortuner",
          "fortuner",
          "fortuner",
          "fortuner",
          "grand i10",
          "grand i10",
          "grand i10",
          "grand i10",
          "grand i10",
          "grand i10",
          "i10",
          "i10",
          "i10",
          "i20",
          "i20",
          "i20",
          "i20",
          "i20",
          "i20",
          "i20",
          "i20",
          "ignis",
          "innova",
          "innova",
          "innova",
          "innova",
          "innova",
          "innova",
          "innova",
          "innova",
          "jazz",
          "jazz",
          "jazz",
          "jazz",
          "land cruiser",
          "omni",
          "ritz",
          "ritz",
          "ritz",
          "ritz",
          "s cross",
          "swift",
          "swift",
          "swift",
          "swift",
          "sx4",
          "sx4",
          "sx4",
          "sx4",
          "sx4",
          "sx4",
          "verna",
          "verna",
          "verna",
          "verna",
          "verna",
          "verna",
          "verna",
          "verna",
          "verna",
          "vitara brezza",
          "wagon r",
          "wagon r",
          "wagon r",
          "wagon r",
          "xcent",
          "xcent",
          "xcent",
          "2003",
          "2003",
          "2004",
          "2005",
          "2005",
          "2005",
          "2006",
          "2006",
          "2006",
          "2007",
          "2008",
          "2008",
          "2008",
          "2008",
          "2009",
          "2009",
          "2009",
          "2010",
          "2010",
          "2010",
          "2010",
          "2010",
          "2011",
          "2011",
          "2011",
          "2011",
          "2011",
          "2012",
          "2012",
          "2012",
          "2012",
          "2013",
          "2013",
          "2013",
          "2013",
          "2013",
          "2014",
          "2014",
          "2014",
          "2014",
          "2014",
          "2014",
          "2015",
          "2015",
          "2015",
          "2015",
          "2015",
          "2015",
          "2016",
          "2016",
          "2016",
          "2016",
          "2016",
          "2016",
          "2017",
          "2017",
          "2017",
          "2017",
          "2017",
          "2017",
          "2018",
          "Automatic",
          "Automatic",
          "Automatic",
          "Automatic",
          "Manual",
          "Manual",
          "Manual",
          "Manual",
          "Dealer",
          "Dealer",
          "Dealer",
          "Individual",
          "Individual",
          "CNG",
          "Diesel",
          "Petrol"
         ],
         "name": "",
         "parents": [
          "Petrol/Individual/Manual/2003",
          "Petrol/Individual/Automatic/2008",
          "Petrol/Individual/Automatic/2016",
          "Petrol/Individual/Automatic/2017",
          "Petrol/Individual/Manual/2015",
          "Petrol/Individual/Manual/2016",
          "Petrol/Individual/Manual/2016",
          "Petrol/Individual/Manual/2016",
          "Petrol/Individual/Manual/2017",
          "Petrol/Individual/Manual/2010",
          "Petrol/Individual/Manual/2015",
          "Petrol/Individual/Manual/2011",
          "Petrol/Individual/Manual/2013",
          "Petrol/Individual/Manual/2011",
          "Petrol/Individual/Manual/2012",
          "Petrol/Individual/Manual/2017",
          "Petrol/Individual/Manual/2014",
          "Petrol/Individual/Manual/2014",
          "Petrol/Individual/Manual/2006",
          "Petrol/Individual/Manual/2008",
          "Petrol/Individual/Manual/2015",
          "Petrol/Individual/Manual/2010",
          "Petrol/Individual/Manual/2016",
          "Petrol/Individual/Manual/2012",
          "Petrol/Individual/Manual/2013",
          "Petrol/Individual/Manual/2016",
          "Petrol/Individual/Manual/2008",
          "Petrol/Individual/Manual/2013",
          "Petrol/Individual/Manual/2013",
          "Petrol/Individual/Manual/2014",
          "Petrol/Individual/Manual/2013",
          "Petrol/Individual/Manual/2011",
          "Petrol/Individual/Manual/2012",
          "Petrol/Individual/Manual/2007",
          "Petrol/Individual/Manual/2015",
          "Petrol/Individual/Manual/2016",
          "Petrol/Individual/Manual/2016",
          "Petrol/Individual/Manual/2016",
          "Petrol/Individual/Manual/2015",
          "Petrol/Individual/Manual/2016",
          "Petrol/Individual/Manual/2005",
          "Petrol/Individual/Automatic/2016",
          "Petrol/Individual/Automatic/2017",
          "Petrol/Individual/Manual/2016",
          "Petrol/Individual/Manual/2017",
          "Petrol/Individual/Manual/2007",
          "Petrol/Individual/Manual/2013",
          "Petrol/Individual/Manual/2013",
          "Petrol/Individual/Manual/2015",
          "Petrol/Individual/Manual/2010",
          "Petrol/Individual/Manual/2013",
          "Petrol/Individual/Manual/2013",
          "Petrol/Individual/Manual/2014",
          "Petrol/Individual/Manual/2017",
          "Petrol/Individual/Manual/2010",
          "Petrol/Individual/Manual/2011",
          "Petrol/Individual/Manual/2014",
          "Petrol/Individual/Manual/2014",
          "Petrol/Individual/Manual/2016",
          "Petrol/Individual/Manual/2017",
          "Petrol/Individual/Manual/2015",
          "Petrol/Individual/Manual/2016",
          "Petrol/Individual/Manual/2016",
          "Petrol/Individual/Manual/2013",
          "Petrol/Individual/Manual/2015",
          "Petrol/Individual/Manual/2017",
          "Petrol/Individual/Manual/2009",
          "Petrol/Individual/Manual/2012",
          "Petrol/Individual/Manual/2011",
          "Petrol/Individual/Manual/2013",
          "Petrol/Individual/Manual/2016",
          "Petrol/Individual/Manual/2013",
          "Petrol/Individual/Manual/2015",
          "Petrol/Individual/Manual/2016",
          "Petrol/Individual/Automatic/2008",
          "Petrol/Individual/Manual/2012",
          "Petrol/Individual/Manual/2014",
          "Petrol/Individual/Manual/2017",
          "Petrol/Individual/Manual/2011",
          "Petrol/Individual/Manual/2014",
          "Petrol/Individual/Automatic/2014",
          "Petrol/Individual/Manual/2017",
          "Petrol/Individual/Automatic/2010",
          "Petrol/Individual/Manual/2017",
          "Petrol/Individual/Manual/2015",
          "Petrol/Individual/Manual/2016",
          "Petrol/Individual/Manual/2015",
          "Petrol/Individual/Manual/2012",
          "Petrol/Individual/Manual/2015",
          "Petrol/Individual/Manual/2017",
          "Petrol/Individual/Manual/2014",
          "Petrol/Dealer/Manual/2017",
          "Petrol/Dealer/Manual/2010",
          "Petrol/Dealer/Manual/2014",
          "Petrol/Dealer/Manual/2016",
          "Petrol/Dealer/Manual/2014",
          "Petrol/Dealer/Automatic/2015",
          "Petrol/Dealer/Manual/2015",
          "Petrol/Dealer/Automatic/2016",
          "Petrol/Dealer/Manual/2012",
          "Petrol/Dealer/Manual/2013",
          "Petrol/Dealer/Manual/2014",
          "Petrol/Dealer/Automatic/2015",
          "Petrol/Dealer/Manual/2015",
          "Petrol/Dealer/Manual/2016",
          "Petrol/Dealer/Manual/2017",
          "Petrol/Individual/Automatic/2006",
          "Petrol/Dealer/Automatic/2014",
          "Petrol/Dealer/Automatic/2015",
          "Diesel/Dealer/Manual/2015",
          "Petrol/Dealer/Manual/2015",
          "Diesel/Dealer/Manual/2016",
          "Petrol/Dealer/Automatic/2017",
          "Petrol/Dealer/Manual/2017",
          "Petrol/Dealer/Manual/2006",
          "Petrol/Dealer/Manual/2009",
          "Petrol/Dealer/Manual/2010",
          "Petrol/Dealer/Manual/2011",
          "Petrol/Dealer/Manual/2013",
          "Diesel/Dealer/Manual/2014",
          "Petrol/Dealer/Manual/2014",
          "Diesel/Dealer/Manual/2015",
          "Petrol/Dealer/Manual/2015",
          "Petrol/Dealer/Automatic/2016",
          "Diesel/Dealer/Manual/2016",
          "Petrol/Dealer/Manual/2016",
          "Diesel/Dealer/Manual/2017",
          "Petrol/Dealer/Automatic/2004",
          "Petrol/Dealer/Automatic/2008",
          "Petrol/Dealer/Automatic/2009",
          "Petrol/Dealer/Manual/2009",
          "Petrol/Dealer/Automatic/2010",
          "Petrol/Dealer/Manual/2010",
          "Diesel/Dealer/Manual/2011",
          "Petrol/Dealer/Manual/2011",
          "Petrol/Dealer/Manual/2012",
          "Petrol/Dealer/Manual/2013",
          "Diesel/Dealer/Manual/2016",
          "Petrol/Dealer/Manual/2016",
          "Petrol/Dealer/Manual/2017",
          "Diesel/Dealer/Manual/2015",
          "Diesel/Dealer/Manual/2016",
          "Petrol/Dealer/Manual/2016",
          "Petrol/Dealer/Manual/2009",
          "Diesel/Dealer/Manual/2014",
          "Petrol/Dealer/Manual/2015",
          "Petrol/Dealer/Automatic/2015",
          "Diesel/Dealer/Manual/2015",
          "Petrol/Dealer/Manual/2012",
          "Petrol/Dealer/Manual/2015",
          "Petrol/Dealer/Manual/2016",
          "Petrol/Dealer/Manual/2017",
          "Diesel/Dealer/Manual/2014",
          "Diesel/Dealer/Manual/2015",
          "Petrol/Dealer/Manual/2015",
          "Diesel/Dealer/Manual/2016",
          "Diesel/Dealer/Manual/2014",
          "Petrol/Dealer/Manual/2015",
          "Petrol/Dealer/Manual/2014",
          "Petrol/Dealer/Manual/2015",
          "Diesel/Dealer/Manual/2015",
          "Petrol/Dealer/Manual/2011",
          "Petrol/Dealer/Manual/2013",
          "Diesel/Dealer/Manual/2014",
          "Diesel/Dealer/Manual/2010",
          "Diesel/Dealer/Automatic/2012",
          "Diesel/Individual/Automatic/2013",
          "Diesel/Dealer/Automatic/2014",
          "Diesel/Dealer/Automatic/2015",
          "Diesel/Dealer/Automatic/2017",
          "Diesel/Dealer/Manual/2013",
          "Petrol/Dealer/Automatic/2015",
          "Diesel/Dealer/Manual/2015",
          "Petrol/Dealer/Manual/2015",
          "Petrol/Dealer/Manual/2016",
          "Petrol/Dealer/Manual/2017",
          "Petrol/Dealer/Manual/2011",
          "Petrol/Dealer/Manual/2012",
          "Petrol/Dealer/Manual/2013",
          "Diesel/Dealer/Manual/2010",
          "Petrol/Dealer/Manual/2011",
          "Diesel/Dealer/Manual/2012",
          "Petrol/Dealer/Manual/2012",
          "Petrol/Dealer/Automatic/2013",
          "Diesel/Dealer/Manual/2014",
          "Petrol/Dealer/Manual/2016",
          "Petrol/Dealer/Manual/2017",
          "Petrol/Dealer/Manual/2017",
          "Diesel/Dealer/Manual/2005",
          "Petrol/Dealer/Manual/2005",
          "Petrol/Individual/Manual/2005",
          "Diesel/Dealer/Manual/2014",
          "Diesel/Dealer/Manual/2015",
          "Diesel/Dealer/Automatic/2016",
          "Diesel/Dealer/Automatic/2017",
          "Petrol/Dealer/Automatic/2017",
          "Petrol/Dealer/Manual/2010",
          "Petrol/Dealer/Automatic/2016",
          "Petrol/Dealer/Manual/2016",
          "Petrol/Dealer/Manual/2017",
          "Diesel/Dealer/Manual/2010",
          "Petrol/Dealer/Manual/2012",
          "Petrol/Dealer/Manual/2011",
          "Diesel/Dealer/Manual/2012",
          "Petrol/Dealer/Manual/2013",
          "Petrol/Dealer/Manual/2014",
          "Diesel/Dealer/Manual/2015",
          "Petrol/Dealer/Manual/2011",
          "Petrol/Dealer/Manual/2013",
          "Diesel/Dealer/Manual/2014",
          "Petrol/Individual/Manual/2017",
          "Petrol/Dealer/Manual/2003",
          "Petrol/Dealer/Manual/2008",
          "Petrol/Dealer/Manual/2010",
          "Petrol/Dealer/Automatic/2011",
          "CNG/Dealer/Manual/2011",
          "Diesel/Dealer/Manual/2013",
          "Diesel/Dealer/Manual/2012",
          "Petrol/Dealer/Manual/2012",
          "Petrol/Dealer/Automatic/2013",
          "Diesel/Dealer/Manual/2013",
          "Petrol/Dealer/Manual/2013",
          "Petrol/Dealer/Manual/2014",
          "Diesel/Dealer/Manual/2015",
          "Petrol/Dealer/Manual/2015",
          "Petrol/Dealer/Manual/2017",
          "Diesel/Dealer/Manual/2018",
          "Petrol/Dealer/Manual/2006",
          "Petrol/Dealer/Manual/2011",
          "Petrol/Dealer/Manual/2013",
          "CNG/Dealer/Manual/2015",
          "Petrol/Dealer/Manual/2014",
          "Petrol/Dealer/Manual/2015",
          "Petrol/Dealer/Manual/2017",
          "Petrol/Dealer/Manual",
          "Petrol/Individual/Manual",
          "Petrol/Dealer/Automatic",
          "Diesel/Dealer/Manual",
          "Petrol/Dealer/Manual",
          "Petrol/Individual/Manual",
          "Petrol/Individual/Automatic",
          "Petrol/Dealer/Manual",
          "Petrol/Individual/Manual",
          "Petrol/Individual/Manual",
          "Petrol/Dealer/Automatic",
          "Petrol/Individual/Automatic",
          "Petrol/Dealer/Manual",
          "Petrol/Individual/Manual",
          "Petrol/Dealer/Automatic",
          "Petrol/Dealer/Manual",
          "Petrol/Individual/Manual",
          "Petrol/Dealer/Automatic",
          "Petrol/Individual/Automatic",
          "Diesel/Dealer/Manual",
          "Petrol/Dealer/Manual",
          "Petrol/Individual/Manual",
          "Petrol/Dealer/Automatic",
          "CNG/Dealer/Manual",
          "Diesel/Dealer/Manual",
          "Petrol/Dealer/Manual",
          "Petrol/Individual/Manual",
          "Diesel/Dealer/Automatic",
          "Diesel/Dealer/Manual",
          "Petrol/Dealer/Manual",
          "Petrol/Individual/Manual",
          "Petrol/Dealer/Automatic",
          "Diesel/Individual/Automatic",
          "Diesel/Dealer/Manual",
          "Petrol/Dealer/Manual",
          "Petrol/Individual/Manual",
          "Diesel/Dealer/Automatic",
          "Petrol/Dealer/Automatic",
          "Petrol/Individual/Automatic",
          "Diesel/Dealer/Manual",
          "Petrol/Dealer/Manual",
          "Petrol/Individual/Manual",
          "Diesel/Dealer/Automatic",
          "Petrol/Dealer/Automatic",
          "CNG/Dealer/Manual",
          "Diesel/Dealer/Manual",
          "Petrol/Dealer/Manual",
          "Petrol/Individual/Manual",
          "Diesel/Dealer/Automatic",
          "Petrol/Dealer/Automatic",
          "Petrol/Individual/Automatic",
          "Diesel/Dealer/Manual",
          "Petrol/Dealer/Manual",
          "Petrol/Individual/Manual",
          "Diesel/Dealer/Automatic",
          "Petrol/Dealer/Automatic",
          "Petrol/Individual/Automatic",
          "Diesel/Dealer/Manual",
          "Petrol/Dealer/Manual",
          "Petrol/Individual/Manual",
          "Diesel/Dealer/Manual",
          "Diesel/Dealer",
          "Petrol/Dealer",
          "Diesel/Individual",
          "Petrol/Individual",
          "CNG/Dealer",
          "Diesel/Dealer",
          "Petrol/Dealer",
          "Petrol/Individual",
          "CNG",
          "Diesel",
          "Petrol",
          "Diesel",
          "Petrol",
          "",
          "",
          ""
         ],
         "type": "sunburst",
         "values": [
          0.35,
          0.17,
          0.45,
          0.4,
          0.18,
          0.75,
          0.6,
          0.72,
          1.65,
          0.45,
          0.6,
          0.45,
          0.27,
          0.15,
          0.2,
          1.45,
          0.6,
          0.4,
          0.1,
          0.45,
          0.65,
          0.52,
          0.51,
          0.95,
          0.5,
          1.05,
          0.2,
          0.2,
          0.65,
          0.55,
          0.25,
          0.38,
          0.3,
          0.2,
          0.4,
          0.45,
          0.5,
          0.3,
          0.4,
          0.45,
          0.2,
          0.35,
          0.9299999999999999,
          0.6,
          1.55,
          0.12,
          0.3,
          0.42,
          0.38,
          0.16,
          0.25,
          0.6,
          0.65,
          0.48,
          0.31,
          0.35,
          1.35,
          1.15,
          1.2,
          1.65,
          1.35,
          1.15,
          1.05,
          2.1,
          3.3600000000000003,
          2.55,
          0.9,
          0.95,
          1.05,
          1.25,
          2.3499999999999996,
          1.05,
          1.1,
          1.75,
          0.25,
          0.6,
          0.42,
          0.65,
          0.5,
          0.45,
          0.35,
          0.48,
          0.25,
          1.7,
          0.6,
          0.6,
          0.75,
          0.4,
          1.03,
          0.78,
          0.5,
          2.85,
          1.95,
          5.05,
          5.85,
          15.8,
          5.75,
          8,
          5.85,
          3,
          3.5,
          5.3,
          5.4,
          14.65,
          10.8,
          4.8,
          2.5,
          7.5,
          7.5,
          21.75,
          6.75,
          8.75,
          7.75,
          7.25,
          2.1,
          6.35,
          3.25,
          4.1,
          10.25,
          15.45,
          6.25,
          8.55,
          57.85,
          10.9,
          17.85,
          38.5,
          11.5,
          1.5,
          4,
          3.6,
          3.8,
          5.25,
          4.75,
          4.5,
          4.35,
          11.75,
          26.95,
          14.73,
          14.25,
          17,
          11.25,
          12.9,
          11.25,
          2.25,
          11,
          4.65,
          11.45,
          11.75,
          2,
          2.75,
          9.15,
          3.5,
          6,
          7.25,
          11.899999999999999,
          15.5,
          4.9,
          9,
          8.85,
          3.95,
          4.75,
          2.65,
          3.45,
          8.7,
          18.9,
          29.4,
          16,
          38.739999999999995,
          69.5,
          33,
          3.9,
          5.15,
          4.85,
          15.15,
          5.25,
          5.25,
          8.2,
          3.1,
          4,
          3.25,
          2.9,
          3.1,
          3.75,
          4.5,
          6,
          11.5,
          7.9,
          4.9,
          3.49,
          3.51,
          2.75,
          11.25,
          12.5,
          20.75,
          41,
          19.75,
          2.25,
          7.4,
          24.65,
          6.5,
          35,
          1.25,
          2.35,
          3.1,
          2.65,
          3.35,
          6.5,
          3,
          4.15,
          9.55,
          6,
          2.25,
          1.95,
          2.65,
          4.4,
          2.95,
          4.75,
          15.5,
          9,
          5.11,
          12.100000000000001,
          4.8,
          6.45,
          8.25,
          5.95,
          18.35,
          9.25,
          1.05,
          2.85,
          2.9,
          3.25,
          4.4,
          4.75,
          5.75,
          2.25,
          0.35,
          1.5,
          3.49,
          3.51,
          2.95,
          2.5,
          3.1500000000000004,
          0.1,
          0.32,
          4,
          0.42000000000000004,
          1.95,
          0.65,
          3.6,
          12.4,
          0.9,
          5.25,
          0.25,
          57.15,
          14.85,
          1.44,
          4.4,
          2.95,
          4.5,
          30.4,
          2.88,
          29.4,
          21.7,
          33.85,
          3.4,
          9.61,
          16,
          20.75,
          62.65,
          7.84,
          38.739999999999995,
          7.5,
          0.35,
          72.85,
          55.45,
          6.07,
          69.5,
          35.25,
          3.25,
          97.4,
          145.35,
          10.8,
          20.75,
          24.15,
          0.8,
          69.73,
          131.2,
          14.03,
          74,
          27.5,
          1.33,
          11.5,
          84.05,
          18.94,
          9.25,
          232.39,
          122.76,
          16,
          5.65,
          6.2,
          368.32,
          581.06,
          70.67,
          6.2,
          600.71,
          703.82,
          16,
          76.32000000000001,
          6.2,
          616.71,
          780.14
         ]
        }
       ],
       "layout": {
        "legend": {
         "tracegroupgap": 0
        },
        "template": {
         "data": {
          "bar": [
           {
            "error_x": {
             "color": "#2a3f5f"
            },
            "error_y": {
             "color": "#2a3f5f"
            },
            "marker": {
             "line": {
              "color": "#E5ECF6",
              "width": 0.5
             },
             "pattern": {
              "fillmode": "overlay",
              "size": 10,
              "solidity": 0.2
             }
            },
            "type": "bar"
           }
          ],
          "barpolar": [
           {
            "marker": {
             "line": {
              "color": "#E5ECF6",
              "width": 0.5
             },
             "pattern": {
              "fillmode": "overlay",
              "size": 10,
              "solidity": 0.2
             }
            },
            "type": "barpolar"
           }
          ],
          "carpet": [
           {
            "aaxis": {
             "endlinecolor": "#2a3f5f",
             "gridcolor": "white",
             "linecolor": "white",
             "minorgridcolor": "white",
             "startlinecolor": "#2a3f5f"
            },
            "baxis": {
             "endlinecolor": "#2a3f5f",
             "gridcolor": "white",
             "linecolor": "white",
             "minorgridcolor": "white",
             "startlinecolor": "#2a3f5f"
            },
            "type": "carpet"
           }
          ],
          "choropleth": [
           {
            "colorbar": {
             "outlinewidth": 0,
             "ticks": ""
            },
            "type": "choropleth"
           }
          ],
          "contour": [
           {
            "colorbar": {
             "outlinewidth": 0,
             "ticks": ""
            },
            "colorscale": [
             [
              0,
              "#0d0887"
             ],
             [
              0.1111111111111111,
              "#46039f"
             ],
             [
              0.2222222222222222,
              "#7201a8"
             ],
             [
              0.3333333333333333,
              "#9c179e"
             ],
             [
              0.4444444444444444,
              "#bd3786"
             ],
             [
              0.5555555555555556,
              "#d8576b"
             ],
             [
              0.6666666666666666,
              "#ed7953"
             ],
             [
              0.7777777777777778,
              "#fb9f3a"
             ],
             [
              0.8888888888888888,
              "#fdca26"
             ],
             [
              1,
              "#f0f921"
             ]
            ],
            "type": "contour"
           }
          ],
          "contourcarpet": [
           {
            "colorbar": {
             "outlinewidth": 0,
             "ticks": ""
            },
            "type": "contourcarpet"
           }
          ],
          "heatmap": [
           {
            "colorbar": {
             "outlinewidth": 0,
             "ticks": ""
            },
            "colorscale": [
             [
              0,
              "#0d0887"
             ],
             [
              0.1111111111111111,
              "#46039f"
             ],
             [
              0.2222222222222222,
              "#7201a8"
             ],
             [
              0.3333333333333333,
              "#9c179e"
             ],
             [
              0.4444444444444444,
              "#bd3786"
             ],
             [
              0.5555555555555556,
              "#d8576b"
             ],
             [
              0.6666666666666666,
              "#ed7953"
             ],
             [
              0.7777777777777778,
              "#fb9f3a"
             ],
             [
              0.8888888888888888,
              "#fdca26"
             ],
             [
              1,
              "#f0f921"
             ]
            ],
            "type": "heatmap"
           }
          ],
          "heatmapgl": [
           {
            "colorbar": {
             "outlinewidth": 0,
             "ticks": ""
            },
            "colorscale": [
             [
              0,
              "#0d0887"
             ],
             [
              0.1111111111111111,
              "#46039f"
             ],
             [
              0.2222222222222222,
              "#7201a8"
             ],
             [
              0.3333333333333333,
              "#9c179e"
             ],
             [
              0.4444444444444444,
              "#bd3786"
             ],
             [
              0.5555555555555556,
              "#d8576b"
             ],
             [
              0.6666666666666666,
              "#ed7953"
             ],
             [
              0.7777777777777778,
              "#fb9f3a"
             ],
             [
              0.8888888888888888,
              "#fdca26"
             ],
             [
              1,
              "#f0f921"
             ]
            ],
            "type": "heatmapgl"
           }
          ],
          "histogram": [
           {
            "marker": {
             "pattern": {
              "fillmode": "overlay",
              "size": 10,
              "solidity": 0.2
             }
            },
            "type": "histogram"
           }
          ],
          "histogram2d": [
           {
            "colorbar": {
             "outlinewidth": 0,
             "ticks": ""
            },
            "colorscale": [
             [
              0,
              "#0d0887"
             ],
             [
              0.1111111111111111,
              "#46039f"
             ],
             [
              0.2222222222222222,
              "#7201a8"
             ],
             [
              0.3333333333333333,
              "#9c179e"
             ],
             [
              0.4444444444444444,
              "#bd3786"
             ],
             [
              0.5555555555555556,
              "#d8576b"
             ],
             [
              0.6666666666666666,
              "#ed7953"
             ],
             [
              0.7777777777777778,
              "#fb9f3a"
             ],
             [
              0.8888888888888888,
              "#fdca26"
             ],
             [
              1,
              "#f0f921"
             ]
            ],
            "type": "histogram2d"
           }
          ],
          "histogram2dcontour": [
           {
            "colorbar": {
             "outlinewidth": 0,
             "ticks": ""
            },
            "colorscale": [
             [
              0,
              "#0d0887"
             ],
             [
              0.1111111111111111,
              "#46039f"
             ],
             [
              0.2222222222222222,
              "#7201a8"
             ],
             [
              0.3333333333333333,
              "#9c179e"
             ],
             [
              0.4444444444444444,
              "#bd3786"
             ],
             [
              0.5555555555555556,
              "#d8576b"
             ],
             [
              0.6666666666666666,
              "#ed7953"
             ],
             [
              0.7777777777777778,
              "#fb9f3a"
             ],
             [
              0.8888888888888888,
              "#fdca26"
             ],
             [
              1,
              "#f0f921"
             ]
            ],
            "type": "histogram2dcontour"
           }
          ],
          "mesh3d": [
           {
            "colorbar": {
             "outlinewidth": 0,
             "ticks": ""
            },
            "type": "mesh3d"
           }
          ],
          "parcoords": [
           {
            "line": {
             "colorbar": {
              "outlinewidth": 0,
              "ticks": ""
             }
            },
            "type": "parcoords"
           }
          ],
          "pie": [
           {
            "automargin": true,
            "type": "pie"
           }
          ],
          "scatter": [
           {
            "fillpattern": {
             "fillmode": "overlay",
             "size": 10,
             "solidity": 0.2
            },
            "type": "scatter"
           }
          ],
          "scatter3d": [
           {
            "line": {
             "colorbar": {
              "outlinewidth": 0,
              "ticks": ""
             }
            },
            "marker": {
             "colorbar": {
              "outlinewidth": 0,
              "ticks": ""
             }
            },
            "type": "scatter3d"
           }
          ],
          "scattercarpet": [
           {
            "marker": {
             "colorbar": {
              "outlinewidth": 0,
              "ticks": ""
             }
            },
            "type": "scattercarpet"
           }
          ],
          "scattergeo": [
           {
            "marker": {
             "colorbar": {
              "outlinewidth": 0,
              "ticks": ""
             }
            },
            "type": "scattergeo"
           }
          ],
          "scattergl": [
           {
            "marker": {
             "colorbar": {
              "outlinewidth": 0,
              "ticks": ""
             }
            },
            "type": "scattergl"
           }
          ],
          "scattermapbox": [
           {
            "marker": {
             "colorbar": {
              "outlinewidth": 0,
              "ticks": ""
             }
            },
            "type": "scattermapbox"
           }
          ],
          "scatterpolar": [
           {
            "marker": {
             "colorbar": {
              "outlinewidth": 0,
              "ticks": ""
             }
            },
            "type": "scatterpolar"
           }
          ],
          "scatterpolargl": [
           {
            "marker": {
             "colorbar": {
              "outlinewidth": 0,
              "ticks": ""
             }
            },
            "type": "scatterpolargl"
           }
          ],
          "scatterternary": [
           {
            "marker": {
             "colorbar": {
              "outlinewidth": 0,
              "ticks": ""
             }
            },
            "type": "scatterternary"
           }
          ],
          "surface": [
           {
            "colorbar": {
             "outlinewidth": 0,
             "ticks": ""
            },
            "colorscale": [
             [
              0,
              "#0d0887"
             ],
             [
              0.1111111111111111,
              "#46039f"
             ],
             [
              0.2222222222222222,
              "#7201a8"
             ],
             [
              0.3333333333333333,
              "#9c179e"
             ],
             [
              0.4444444444444444,
              "#bd3786"
             ],
             [
              0.5555555555555556,
              "#d8576b"
             ],
             [
              0.6666666666666666,
              "#ed7953"
             ],
             [
              0.7777777777777778,
              "#fb9f3a"
             ],
             [
              0.8888888888888888,
              "#fdca26"
             ],
             [
              1,
              "#f0f921"
             ]
            ],
            "type": "surface"
           }
          ],
          "table": [
           {
            "cells": {
             "fill": {
              "color": "#EBF0F8"
             },
             "line": {
              "color": "white"
             }
            },
            "header": {
             "fill": {
              "color": "#C8D4E3"
             },
             "line": {
              "color": "white"
             }
            },
            "type": "table"
           }
          ]
         },
         "layout": {
          "annotationdefaults": {
           "arrowcolor": "#2a3f5f",
           "arrowhead": 0,
           "arrowwidth": 1
          },
          "autotypenumbers": "strict",
          "coloraxis": {
           "colorbar": {
            "outlinewidth": 0,
            "ticks": ""
           }
          },
          "colorscale": {
           "diverging": [
            [
             0,
             "#8e0152"
            ],
            [
             0.1,
             "#c51b7d"
            ],
            [
             0.2,
             "#de77ae"
            ],
            [
             0.3,
             "#f1b6da"
            ],
            [
             0.4,
             "#fde0ef"
            ],
            [
             0.5,
             "#f7f7f7"
            ],
            [
             0.6,
             "#e6f5d0"
            ],
            [
             0.7,
             "#b8e186"
            ],
            [
             0.8,
             "#7fbc41"
            ],
            [
             0.9,
             "#4d9221"
            ],
            [
             1,
             "#276419"
            ]
           ],
           "sequential": [
            [
             0,
             "#0d0887"
            ],
            [
             0.1111111111111111,
             "#46039f"
            ],
            [
             0.2222222222222222,
             "#7201a8"
            ],
            [
             0.3333333333333333,
             "#9c179e"
            ],
            [
             0.4444444444444444,
             "#bd3786"
            ],
            [
             0.5555555555555556,
             "#d8576b"
            ],
            [
             0.6666666666666666,
             "#ed7953"
            ],
            [
             0.7777777777777778,
             "#fb9f3a"
            ],
            [
             0.8888888888888888,
             "#fdca26"
            ],
            [
             1,
             "#f0f921"
            ]
           ],
           "sequentialminus": [
            [
             0,
             "#0d0887"
            ],
            [
             0.1111111111111111,
             "#46039f"
            ],
            [
             0.2222222222222222,
             "#7201a8"
            ],
            [
             0.3333333333333333,
             "#9c179e"
            ],
            [
             0.4444444444444444,
             "#bd3786"
            ],
            [
             0.5555555555555556,
             "#d8576b"
            ],
            [
             0.6666666666666666,
             "#ed7953"
            ],
            [
             0.7777777777777778,
             "#fb9f3a"
            ],
            [
             0.8888888888888888,
             "#fdca26"
            ],
            [
             1,
             "#f0f921"
            ]
           ]
          },
          "colorway": [
           "#636efa",
           "#EF553B",
           "#00cc96",
           "#ab63fa",
           "#FFA15A",
           "#19d3f3",
           "#FF6692",
           "#B6E880",
           "#FF97FF",
           "#FECB52"
          ],
          "font": {
           "color": "#2a3f5f"
          },
          "geo": {
           "bgcolor": "white",
           "lakecolor": "white",
           "landcolor": "#E5ECF6",
           "showlakes": true,
           "showland": true,
           "subunitcolor": "white"
          },
          "hoverlabel": {
           "align": "left"
          },
          "hovermode": "closest",
          "mapbox": {
           "style": "light"
          },
          "paper_bgcolor": "white",
          "plot_bgcolor": "#E5ECF6",
          "polar": {
           "angularaxis": {
            "gridcolor": "white",
            "linecolor": "white",
            "ticks": ""
           },
           "bgcolor": "#E5ECF6",
           "radialaxis": {
            "gridcolor": "white",
            "linecolor": "white",
            "ticks": ""
           }
          },
          "scene": {
           "xaxis": {
            "backgroundcolor": "#E5ECF6",
            "gridcolor": "white",
            "gridwidth": 2,
            "linecolor": "white",
            "showbackground": true,
            "ticks": "",
            "zerolinecolor": "white"
           },
           "yaxis": {
            "backgroundcolor": "#E5ECF6",
            "gridcolor": "white",
            "gridwidth": 2,
            "linecolor": "white",
            "showbackground": true,
            "ticks": "",
            "zerolinecolor": "white"
           },
           "zaxis": {
            "backgroundcolor": "#E5ECF6",
            "gridcolor": "white",
            "gridwidth": 2,
            "linecolor": "white",
            "showbackground": true,
            "ticks": "",
            "zerolinecolor": "white"
           }
          },
          "shapedefaults": {
           "line": {
            "color": "#2a3f5f"
           }
          },
          "ternary": {
           "aaxis": {
            "gridcolor": "white",
            "linecolor": "white",
            "ticks": ""
           },
           "baxis": {
            "gridcolor": "white",
            "linecolor": "white",
            "ticks": ""
           },
           "bgcolor": "#E5ECF6",
           "caxis": {
            "gridcolor": "white",
            "linecolor": "white",
            "ticks": ""
           }
          },
          "title": {
           "x": 0.05
          },
          "xaxis": {
           "automargin": true,
           "gridcolor": "white",
           "linecolor": "white",
           "ticks": "",
           "title": {
            "standoff": 15
           },
           "zerolinecolor": "white",
           "zerolinewidth": 2
          },
          "yaxis": {
           "automargin": true,
           "gridcolor": "white",
           "linecolor": "white",
           "ticks": "",
           "title": {
            "standoff": 15
           },
           "zerolinecolor": "white",
           "zerolinewidth": 2
          }
         }
        },
        "title": {
         "text": "Car Price Breakdown by Fuel Type, Selling Type, Transmission, Year, and Car Name"
        }
       }
      }
     },
     "metadata": {},
     "output_type": "display_data"
    }
   ],
   "source": [
    "# Plot 8: Sunburst Plot for Fuel Type, Selling Type, Transmission, Year, and Car Name\n",
    "fig8 = px.sunburst(cars, path=['Fuel_Type', 'Selling_type', 'Transmission', 'Year', 'Car_Name'], values='Selling_Price',\n",
    "                   title='Car Price Breakdown by Fuel Type, Selling Type, Transmission, Year, and Car Name')\n",
    "fig8.show()"
   ]
  },
  {
   "cell_type": "code",
   "execution_count": 545,
   "metadata": {},
   "outputs": [],
   "source": [
    "\n",
    "# Layout for the Visualizations page\n",
    "visualizations_layout = html.Div([\n",
    "    html.H1('Visualizations Page', style={'text-align': 'center', 'color': 'orange'}),\n",
    "    \n",
    "    # Navigation Buttons\n",
    "    dbc.Row([\n",
    "        dbc.Col(\n",
    "            dbc.ButtonGroup(\n",
    "                [\n",
    "                    dbc.Button('Interactive Search in Visuals', href='/interactive-search-visuals', active=True, className='mb-2 rounded-pill', style={'background-color': 'rgb(54, 54, 54)', 'color': 'white', 'transition-duration': '0.4s'}),\n",
    "                    dbc.Button('Visualizations', href='/visualizations', active=True, className='mb-2 rounded-pill', style={'background-color': 'rgb(54, 54, 54)', 'color': 'white', 'transition-duration': '0.4s'}),\n",
    "                    dbc.Button('Prediction Screen', href='/prediction-screen', active=True, className='mb-2 rounded-pill', style={'background-color': 'rgb(54, 54, 54)', 'color': 'white', 'transition-duration': '0.4s'}),\n",
    "                    dbc.Button('Search in Dataset', href='/search-dataset', active=True, className='mb-2 rounded-pill', style={'background-color': 'rgb(54, 54, 54)', 'color': 'white', 'transition-duration': '0.4s'}),\n",
    "                    dbc.Button('About', href='/about', active=True, className='mb-2 rounded-pill', style={'background-color': 'rgb(54, 54, 54)', 'color': 'white', 'transition-duration': '0.4s'}),\n",
    "                ],\n",
    "            ),\n",
    "            width=12, style={'justify-content': 'center'}\n",
    "        ),\n",
    "    ]),\n",
    "    \n",
    "\n",
    "    dbc.Row([\n",
    "        dbc.Col(dcc.Graph(figure=fig3), width=6),  \n",
    "        dbc.Col(dcc.Graph(figure=fig2), width=6), \n",
    "    ], style={'margin-top': '20px'}), \n",
    "    \n",
    "    dbc.Row([\n",
    "        dbc.Col(dcc.Graph(figure=fig1), width=6), \n",
    "        dbc.Col(dcc.Graph(figure=fig4), width=6),  \n",
    "    ], style={'margin-top': '20px'}),  \n",
    "    \n",
    "    \n",
    "    dbc.Row([\n",
    "        dbc.Col(dcc.Graph(figure=fig5), width=6),  \n",
    "        dbc.Col(dcc.Graph(figure=fig6), width=6),  \n",
    "    ], style={'margin-top': '20px'}),  \n",
    "   \n",
    "    dbc.Row([\n",
    "        dbc.Col(dcc.Graph(figure=fig7), width=6),  \n",
    "        dbc.Col(dcc.Graph(figure=fig8), width=6), \n",
    "    ], style={'margin-top': '20px'}), \n",
    "], style={'background-color': 'white', 'color': 'black'}) "
   ]
  },
  {
   "cell_type": "code",
   "execution_count": 546,
   "metadata": {},
   "outputs": [
    {
     "name": "stderr",
     "output_type": "stream",
     "text": [
      "C:\\Users\\Admin\\AppData\\Roaming\\Python\\Python310\\site-packages\\dash\\resources.py:61: UserWarning:\n",
      "\n",
      "You have set your config to `serve_locally=True` but A local version of https://stackpath.bootstrapcdn.com/bootstrap/4.1.3/css/bootstrap.min.css is not available.\n",
      "If you added this file with `app.scripts.append_script` or `app.css.append_css`, use `external_scripts` or `external_stylesheets` instead.\n",
      "See https://dash.plotly.com/external-resources\n",
      "\n"
     ]
    },
    {
     "data": {
      "text/html": [
       "\n",
       "        <iframe\n",
       "            width=\"100%\"\n",
       "            height=\"650\"\n",
       "            src=\"http://127.0.0.1:8020/\"\n",
       "            frameborder=\"0\"\n",
       "            allowfullscreen\n",
       "            \n",
       "        ></iframe>\n",
       "        "
      ],
      "text/plain": [
       "<IPython.lib.display.IFrame at 0x2a7ae729a20>"
      ]
     },
     "metadata": {},
     "output_type": "display_data"
    }
   ],
   "source": [
    "app = dash.Dash(__name__, external_stylesheets=[dbc.themes.BOOTSTRAP], suppress_callback_exceptions=True)\n",
    "app.title = 'Get a good car'\n",
    "\n",
    "\n",
    "interactive_search_layout = html.Div([\n",
    "    html.H1('Interactive Search in Visuals Page', style={'text-align': 'center', 'color': 'orange'}),\n",
    " \n",
    "    dbc.Row([\n",
    "        dbc.Col(\n",
    "            dbc.ButtonGroup(\n",
    "                [\n",
    "                    dbc.Button('Interactive Search in Visuals', href='/interactive-search-visuals', active=True, className='mb-2 rounded-pill', style={'background-color': 'rgb(54, 54, 54)', 'color': 'white', 'transition-duration': '0.4s'}),\n",
    "                    dbc.Button('Visualizations', href='/visualizations', active=True, className='mb-2 rounded-pill', style={'background-color': 'rgb(54, 54, 54)', 'color': 'white', 'transition-duration': '0.4s'}),\n",
    "                    dbc.Button('Prediction Screen', href='/prediction-screen', active=True, className='mb-2 rounded-pill', style={'background-color': 'rgb(54, 54, 54)', 'color': 'white', 'transition-duration': '0.4s'}),\n",
    "                    dbc.Button('Search in Dataset', href='/search-dataset', active=True, className='mb-2 rounded-pill', style={'background-color': 'rgb(54, 54, 54)', 'color': 'white', 'transition-duration': '0.4s'}),\n",
    "                    dbc.Button('About', href='/about', active=True, className='mb-2 rounded-pill', style={'background-color': 'rgb(54, 54, 54)', 'color': 'white', 'transition-duration': '0.4s'}),\n",
    "                ],\n",
    "            ),\n",
    "            width=12, style={'justify-content': 'center'}\n",
    "        ),\n",
    "    ]),\n",
    "], style={'background-color': 'rgb(54, 54, 54)', 'color': 'white'})\n",
    "\n",
    "\n",
    "\n",
    "\n",
    "\n",
    "search_dataset_layout = html.Div([\n",
    "    html.H1('Search in Dataset Page', style={'text-align': 'center', 'color': 'orange'}),\n",
    "    dcc.Dropdown(\n",
    "        id='search_dropdown',\n",
    "        options=[{'label': i, 'value': i} for i in ['Car_Name', 'Year', 'Transmission', 'Fuel_Type']],\n",
    "        placeholder=\"Select Column to Search...\",\n",
    "        multi=False\n",
    "    ),\n",
    "    dcc.Input(\n",
    "        id='search_input',\n",
    "        placeholder='Enter search term...',\n",
    "        type='text',\n",
    "        value=''\n",
    "    ),\n",
    "    html.Button('Search', id='search_button', n_clicks=0),\n",
    "    html.Button('Reset', id='reset_button', n_clicks=0),\n",
    "    dash_table.DataTable(\n",
    "        id='datatable',\n",
    "        columns=[{\"name\": i, \"id\": i} for i in cars.columns],\n",
    "        data=cars.to_dict('records'),\n",
    "        page_size=15,  # Display 10 records per page\n",
    "        style_table={'background-color': 'darkgrey', 'padding': '10px'},\n",
    "        style_cell={'backgroundColor': 'rgb(50, 50, 50)', 'color': 'white'},\n",
    "        style_header={'backgroundColor': 'rgb(30, 30, 30)', 'fontWeight': 'bold'},\n",
    "        style_data_conditional=[\n",
    "            {\n",
    "                'if': {'row_index': 'odd'},\n",
    "                'backgroundColor': 'rgb(40, 40, 40)'\n",
    "            },\n",
    "            {\n",
    "                'if': {'column_id': 'Car_Name'},\n",
    "                'textAlign': 'left'\n",
    "            }\n",
    "        ],\n",
    "        style_cell_conditional=[\n",
    "            {\n",
    "                'if': {'column_id': 'search_button'},\n",
    "                'width': '10%'\n",
    "            },\n",
    "            {\n",
    "                'if': {'column_id': 'reset_button'},\n",
    "                'width': '10%'\n",
    "            }\n",
    "        ]\n",
    "    ),\n",
    "    dbc.Row([\n",
    "        dbc.Col(\n",
    "            dbc.ButtonGroup(\n",
    "                [\n",
    "                    dbc.Button('Interactive Search in Visuals', href='/interactive-search-visuals', active=True, className='mb-2 rounded-pill', style={'background-color': 'rgb(54, 54, 54)', 'color': 'white', 'transition-duration': '0.4s'}),\n",
    "                    dbc.Button('Visualizations', href='/visualizations', active=True, className='mb-2 rounded-pill', style={'background-color': 'rgb(54, 54, 54)', 'color': 'white', 'transition-duration': '0.4s'}),\n",
    "                    dbc.Button('Prediction Screen', href='/prediction-screen', active=True, className='mb-2 rounded-pill', style={'background-color': 'rgb(54, 54, 54)', 'color': 'white', 'transition-duration': '0.4s'}),\n",
    "                    dbc.Button('Search in Dataset', href='/search-dataset', active=True, className='mb-2 rounded-pill', style={'background-color': 'rgb(54, 54, 54)', 'color': 'white', 'transition-duration': '0.4s'}),\n",
    "                    dbc.Button('About', href='/about', active=True, className='mb-2 rounded-pill', style={'background-color': 'rgb(54, 54, 54)', 'color': 'white', 'transition-duration': '0.4s'}),\n",
    "                ],\n",
    "            ),\n",
    "            width=12, style={'justify-content': 'center'}\n",
    "        ),\n",
    "    ]),\n",
    "], style={'background-color': 'rgb(54, 54, 54)', 'color': 'white'})\n",
    "\n",
    "about_layout = dbc.Card(\n",
    "    dbc.CardBody([\n",
    "        html.H1('About Page', style={'text-align': 'center', 'color': 'orange'}),\n",
    "        dbc.Row([\n",
    "            dbc.Col(\n",
    "                html.Img(src=\"C:\\\\Users\\\\Admin\\\\Desktop\\\\Programming\\\\python\\\\Car Prediction\\\\mine.JPG\", style={'width': '200px', 'height': '200px', 'border-radius': '50%', 'margin': 'auto'}),\n",
    "                width=3\n",
    "            ),\n",
    "            dbc.Col(\n",
    "                dbc.Row([\n",
    "                    dbc.Col(html.I(className='fa fa-envelope'), width=1),\n",
    "                    dbc.Col(html.P('nomandondo.awonke@outlook.com'), width=11),\n",
    "                ]),\n",
    "                width=12\n",
    "            ),\n",
    "            dbc.Col(\n",
    "                dbc.Row([\n",
    "                    dbc.Col(html.I(className='fa fa-phone'), width=1),\n",
    "                    dbc.Col(html.P('+27 (0) 789751929'), width=11),\n",
    "                ]),\n",
    "                width=12\n",
    "            ),\n",
    "            dbc.Col(\n",
    "                dbc.Row([\n",
    "                    dbc.Col(html.I(className='fa fa-map-marker'), width=1),\n",
    "                    dbc.Col(html.P('PO Box 369, Qumbu 5180'), width=11),\n",
    "                ]),\n",
    "                width=12\n",
    "            ),\n",
    "            dbc.Col(\n",
    "                html.P('No machine can do the work of one extraordinary man. For a successful technology, reality must take precedence over public relations, for Nature cannot be fooled. Any sufficiently advanced technology is indistinguishable from magic.'),\n",
    "                width=12\n",
    "            )\n",
    "        ])\n",
    "    ]),\n",
    "    style={'background-color': 'rgb(200, 200, 200)', 'color': 'black'}\n",
    ")\n",
    "\n",
    "\n",
    "app.layout = dbc.Container(\n",
    "    [\n",
    "        dcc.Location(id='url', refresh=False),\n",
    "        dbc.Row([\n",
    "            dbc.Col(\n",
    "                html.Div(id='page-content')\n",
    "            ),\n",
    "        ], style={'height': '100vh', 'background-color': 'rgb(54, 54, 54)', 'justify-content': 'center'}),\n",
    "    ],\n",
    "    fluid=True\n",
    ")\n",
    "\n",
    "# Callback to update the page content based on the URL\n",
    "@app.callback(\n",
    "    Output('page-content', 'children'),\n",
    "    [Input('url', 'pathname')]\n",
    ")\n",
    "def display_page(pathname):\n",
    "    if pathname == '/interactive-search-visuals':\n",
    "        return interactive_search_layout\n",
    "    elif pathname == '/visualizations':\n",
    "        return visualizations_layout\n",
    "    elif pathname == '/prediction-screen':\n",
    "        return prediction_screen_layout\n",
    "    elif pathname == '/search-dataset':\n",
    "        return search_dataset_layout\n",
    "    elif pathname == '/about':\n",
    "        return about_layout\n",
    "    else:\n",
    "        return interactive_search_layout\n",
    "\n",
    "# Callback to update the data table based on dropdown selections\n",
    "@app.callback(\n",
    "    [Output('datatable', 'data'),\n",
    "     Output('search_dropdown', 'value'),\n",
    "     Output('search_input', 'value')],\n",
    "    [Input('search_button', 'n_clicks'),\n",
    "     Input('reset_button', 'n_clicks')],\n",
    "    [State('search_dropdown', 'value'),\n",
    "     State('search_input', 'value')]\n",
    ")\n",
    "def update_table(search_clicks, reset_clicks, column_name, search_term):\n",
    "    ctx = dash.callback_context\n",
    "    if not ctx.triggered:\n",
    "        return dash.no_update, dash.no_update, dash.no_update\n",
    "    else:\n",
    "        button_id = ctx.triggered[0]['prop_id'].split('.')[0]\n",
    "        if button_id == 'search_button':\n",
    "            # Handle search button click\n",
    "            filtered_data = cars.copy()\n",
    "            if column_name and search_term:\n",
    "                filtered_data = filtered_data[filtered_data[column_name].astype(str).str.contains(search_term, case=False)]\n",
    "            return filtered_data.to_dict('records'), dash.no_update, dash.no_update\n",
    "        elif button_id == 'reset_button':\n",
    "            # Handle reset button click\n",
    "            return cars.to_dict('records'), None, None\n",
    "\n",
    "# Add CSS to apply hover effect\n",
    "app.css.append_css({\n",
    "    'external_url': (\n",
    "        'https://stackpath.bootstrapcdn.com/bootstrap/4.1.3/css/bootstrap.min.css'\n",
    "    )\n",
    "})\n",
    "if __name__ == \"__main__\":\n",
    "    app.run_server(debug=True, port=8020)"
   ]
  }
 ],
 "metadata": {
  "kernelspec": {
   "display_name": "base",
   "language": "python",
   "name": "python3"
  },
  "language_info": {
   "codemirror_mode": {
    "name": "ipython",
    "version": 3
   },
   "file_extension": ".py",
   "mimetype": "text/x-python",
   "name": "python",
   "nbconvert_exporter": "python",
   "pygments_lexer": "ipython3",
   "version": "3.10.9"
  }
 },
 "nbformat": 4,
 "nbformat_minor": 2
}
